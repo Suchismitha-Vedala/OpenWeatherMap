{
 "cells": [
  {
   "cell_type": "code",
   "execution_count": 207,
   "metadata": {},
   "outputs": [],
   "source": [
    "import math,numpy as np,os,pandas as pd,time\n",
    "import config as cfg\n",
    "import threading, json,pymongo\n",
    "from pymongo import MongoClient\n",
    "from urllib import urlopen\n"
   ]
  },
  {
   "cell_type": "code",
   "execution_count": 14,
   "metadata": {},
   "outputs": [],
   "source": [
    "client = MongoClient('mongodb://localhost:27017')\n"
   ]
  },
  {
   "cell_type": "code",
   "execution_count": 15,
   "metadata": {},
   "outputs": [],
   "source": [
    "db = client['WeatherappDB']"
   ]
  },
  {
   "cell_type": "code",
   "execution_count": 30,
   "metadata": {},
   "outputs": [],
   "source": [
    "t=db.fiveday3hr\n"
   ]
  },
  {
   "cell_type": "code",
   "execution_count": 32,
   "metadata": {},
   "outputs": [
    {
     "data": {
      "text/plain": [
       "ObjectId('5b44ee74e03a2b20b4f932bd')"
      ]
     },
     "execution_count": 32,
     "metadata": {},
     "output_type": "execute_result"
    }
   ],
   "source": [
    "t.insert(obj)"
   ]
  },
  {
   "cell_type": "code",
   "execution_count": 209,
   "metadata": {},
   "outputs": [],
   "source": [
    "df=pd.read_json('city.list.json')\n"
   ]
  },
  {
   "cell_type": "code",
   "execution_count": 208,
   "metadata": {},
   "outputs": [],
   "source": [
    "api_key=\"b9428de8e646a42987eee11eced64b1b\"\n",
    "#https://samples.openweathermap.org/data/2.5/forecast?id=1269843&appid=b9428de8e646a42987eee11eced64b1b\n"
   ]
  },
  {
   "cell_type": "code",
   "execution_count": 68,
   "metadata": {},
   "outputs": [],
   "source": [
    "api_url_weat = \"http://api.openweathermap.org/data/2.5/weather\"\n",
    "url=\"http://api.openweathermap.org/data/2.5/weather?APPID=\"+api_key+\"&id=\"+str(5977783) \n"
   ]
  },
  {
   "cell_type": "code",
   "execution_count": 69,
   "metadata": {},
   "outputs": [],
   "source": [
    "response1 = urlopen(url).read().decode('utf-8')\n",
    "obj1 = json.loads(response1)\n"
   ]
  },
  {
   "cell_type": "code",
   "execution_count": 141,
   "metadata": {},
   "outputs": [
    {
     "name": "stdout",
     "output_type": "stream",
     "text": [
      "clouds\n",
      "rain\n",
      "sys\n",
      "dt_txt\n",
      "weather\n",
      "dt\n",
      "main\n",
      "wind\n"
     ]
    }
   ],
   "source": [
    "for key in obj['list'][5]:\n",
    "    print "
   ]
  },
  {
   "cell_type": "code",
   "execution_count": 145,
   "metadata": {},
   "outputs": [
    {
     "data": {
      "text/plain": [
       "302.667"
      ]
     },
     "execution_count": 145,
     "metadata": {},
     "output_type": "execute_result"
    }
   ],
   "source": [
    "obj['list'][5]['main']['temp_max']"
   ]
  },
  {
   "cell_type": "code",
   "execution_count": 102,
   "metadata": {},
   "outputs": [],
   "source": [
    "url2=\"https://openweathermap.org/weathermap?basemap=map&cities=false&layer=pressure&lat=30&lon=-20&zoom=3\"\n",
    "\n",
    "response1 = urlopen(url2).read().decode('utf-8')\n",
    "\n",
    "\n"
   ]
  },
  {
   "cell_type": "code",
   "execution_count": 126,
   "metadata": {},
   "outputs": [
    {
     "data": {
      "text/plain": [
       "True"
      ]
     },
     "execution_count": 126,
     "metadata": {},
     "output_type": "execute_result"
    }
   ],
   "source": [
    "import webbrowser\n",
    "\n",
    "url3=\"https://openweathermap.org/city/4699066\"\n",
    "\n",
    "webbrowser.open(url3)"
   ]
  },
  {
   "cell_type": "code",
   "execution_count": null,
   "metadata": {},
   "outputs": [],
   "source": [
    "\"https://tile.openweathermap.org/map/{temperature}/{3}/{-40}/{-25}.png?appid=b9428de8e646a42987eee11eced64b1b\""
   ]
  },
  {
   "cell_type": "code",
   "execution_count": 66,
   "metadata": {},
   "outputs": [],
   "source": [
    "df.set_index(\"name\",inplace=True)\n"
   ]
  },
  {
   "cell_type": "code",
   "execution_count": 20,
   "metadata": {},
   "outputs": [
    {
     "data": {
      "text/html": [
       "<div>\n",
       "<style scoped>\n",
       "    .dataframe tbody tr th:only-of-type {\n",
       "        vertical-align: middle;\n",
       "    }\n",
       "\n",
       "    .dataframe tbody tr th {\n",
       "        vertical-align: top;\n",
       "    }\n",
       "\n",
       "    .dataframe thead th {\n",
       "        text-align: right;\n",
       "    }\n",
       "</style>\n",
       "<table border=\"1\" class=\"dataframe\">\n",
       "  <thead>\n",
       "    <tr style=\"text-align: right;\">\n",
       "      <th></th>\n",
       "      <th>coord</th>\n",
       "      <th>country</th>\n",
       "      <th>id</th>\n",
       "      <th>name</th>\n",
       "    </tr>\n",
       "  </thead>\n",
       "  <tbody>\n",
       "    <tr>\n",
       "      <th>0</th>\n",
       "      <td>{u'lat': 44.549999, u'lon': 34.283333}</td>\n",
       "      <td>UA</td>\n",
       "      <td>707860</td>\n",
       "      <td>Hurzuf</td>\n",
       "    </tr>\n",
       "    <tr>\n",
       "      <th>1</th>\n",
       "      <td>{u'lat': 55.683334, u'lon': 37.666668}</td>\n",
       "      <td>RU</td>\n",
       "      <td>519188</td>\n",
       "      <td>Novinki</td>\n",
       "    </tr>\n",
       "  </tbody>\n",
       "</table>\n",
       "</div>"
      ],
      "text/plain": [
       "                                    coord country      id     name\n",
       "0  {u'lat': 44.549999, u'lon': 34.283333}      UA  707860   Hurzuf\n",
       "1  {u'lat': 55.683334, u'lon': 37.666668}      RU  519188  Novinki"
      ]
     },
     "execution_count": 20,
     "metadata": {},
     "output_type": "execute_result"
    }
   ],
   "source": [
    "df.head(2)"
   ]
  },
  {
   "cell_type": "code",
   "execution_count": 210,
   "metadata": {},
   "outputs": [],
   "source": [
    "def get_id():\n",
    "    #city=raw_input('Enter city name')\n",
    "    city='Houston'\n",
    "    if df['name'].str.contains(city).any():\n",
    "        df.set_index(\"name\",inplace=True)\n",
    "        if(len(df.loc[city])>1):\n",
    "            countries=df.loc[city]['country']\n",
    "            print('More than 1 city exists', countries)\n",
    "            \n",
    "            if(len(countries) != len(set(countries))):\n",
    "                print('City has more than 1 location in a country')\n",
    "                #id=raw_input(' Please enter city id')\n",
    "            else:\n",
    "                #country_name=raw_input(' Please enter country name')\n",
    "                country_name=\"IN\"\n",
    "                id=df.loc['Hyderabad'][df.loc[city]['country'].str.contains(country_name)]['id'][0]\n",
    "        else:\n",
    "            id=df.loc[city]['id']\n",
    "        \n",
    "    else:\n",
    "        print (\"City name is not present\")\n",
    "        get_id()\n",
    "\n",
    "    \n",
    "    print id\n",
    "    return id\n",
    "            \n",
    "        "
   ]
  },
  {
   "cell_type": "code",
   "execution_count": 92,
   "metadata": {},
   "outputs": [],
   "source": [
    "def get_id1(a):\n",
    "    #city=raw_input('Enter city name')\n",
    "    city='Houston'\n",
    "    print a,city\n",
    "        "
   ]
  },
  {
   "cell_type": "code",
   "execution_count": 100,
   "metadata": {},
   "outputs": [],
   "source": [
    "jobs=[]\n",
    "l=[1,2,3,4,5]\n",
    "for each in l:\n",
    "    i=threading.Thread(target=get_id1,args=(str(each)))\n",
    "    jobs.append(i)\n",
    "    j= threading.Thread(target=get_id1,args=(str(each)))\n",
    "    jobs.append(j)\n",
    "    k= threading.Thread(target=get_id1,args=(str(each)))\n",
    "    jobs.append(k)\n"
   ]
  },
  {
   "cell_type": "code",
   "execution_count": 101,
   "metadata": {},
   "outputs": [
    {
     "name": "stdout",
     "output_type": "stream",
     "text": [
      "1 Houston\n",
      "11  Houston\n",
      "Houston\n",
      "2 Houston\n",
      "2 Houston\n",
      "23 Houston\n",
      " Houston\n",
      "3 Houston\n",
      "3 Houston\n",
      "4 Houston\n",
      "4 Houston\n",
      "4 Houston\n",
      "5 5Houston\n",
      " Houston\n",
      "5 Houston\n"
     ]
    }
   ],
   "source": [
    "for j in jobs:\n",
    "    j.start()"
   ]
  },
  {
   "cell_type": "code",
   "execution_count": 211,
   "metadata": {},
   "outputs": [
    {
     "name": "stdout",
     "output_type": "stream",
     "text": [
      "('More than 1 city exists', name\n",
      "Houston    CA\n",
      "Houston    US\n",
      "Houston    GB\n",
      "Houston    US\n",
      "Houston    US\n",
      "Houston    US\n",
      "Houston    US\n",
      "Name: country, dtype: object)\n",
      "City has more than 1 location in a country\n"
     ]
    },
    {
     "ename": "UnboundLocalError",
     "evalue": "local variable 'id' referenced before assignment",
     "output_type": "error",
     "traceback": [
      "\u001b[0;31m---------------------------------------------------------------------------\u001b[0m",
      "\u001b[0;31mUnboundLocalError\u001b[0m                         Traceback (most recent call last)",
      "\u001b[0;32m<ipython-input-211-ca327bd1a56b>\u001b[0m in \u001b[0;36m<module>\u001b[0;34m()\u001b[0m\n\u001b[0;32m----> 1\u001b[0;31m \u001b[0mid4\u001b[0m\u001b[0;34m=\u001b[0m\u001b[0mstr\u001b[0m\u001b[0;34m(\u001b[0m\u001b[0mget_id\u001b[0m\u001b[0;34m(\u001b[0m\u001b[0;34m)\u001b[0m\u001b[0;34m)\u001b[0m\u001b[0;34m\u001b[0m\u001b[0m\n\u001b[0m",
      "\u001b[0;32m<ipython-input-210-27389cdee706>\u001b[0m in \u001b[0;36mget_id\u001b[0;34m()\u001b[0m\n\u001b[1;32m     23\u001b[0m \u001b[0;34m\u001b[0m\u001b[0m\n\u001b[1;32m     24\u001b[0m \u001b[0;34m\u001b[0m\u001b[0m\n\u001b[0;32m---> 25\u001b[0;31m     \u001b[0;32mprint\u001b[0m \u001b[0mid\u001b[0m\u001b[0;34m\u001b[0m\u001b[0m\n\u001b[0m\u001b[1;32m     26\u001b[0m     \u001b[0;32mreturn\u001b[0m \u001b[0mid\u001b[0m\u001b[0;34m\u001b[0m\u001b[0m\n\u001b[1;32m     27\u001b[0m \u001b[0;34m\u001b[0m\u001b[0m\n",
      "\u001b[0;31mUnboundLocalError\u001b[0m: local variable 'id' referenced before assignment"
     ]
    }
   ],
   "source": [
    "id4=str(get_id())"
   ]
  },
  {
   "cell_type": "code",
   "execution_count": null,
   "metadata": {},
   "outputs": [],
   "source": []
  },
  {
   "cell_type": "code",
   "execution_count": null,
   "metadata": {},
   "outputs": [],
   "source": [
    "def get_5day():\n",
    "    id = str(get_id())\n",
    "    url='http://api.openweathermap.org/data/2.5/forecast/city?id='+id+'&APPID='+api_key \n",
    "    response = urlopen(url).read().decode('utf-8')\n",
    "    obj = json.loads(response)\n",
    "    return obj\n"
   ]
  },
  {
   "cell_type": "code",
   "execution_count": 212,
   "metadata": {},
   "outputs": [],
   "source": [
    "id2=str(6255152)\n",
    "id4=str(4699066)"
   ]
  },
  {
   "cell_type": "code",
   "execution_count": 214,
   "metadata": {},
   "outputs": [],
   "source": [
    "url3='http://api.openweathermap.org/data/2.5/forecast?id='+id4+'&APPID='+api_key \n",
    "response4 = urlopen(url3).read().decode('utf-8')\n",
    "obj4 = json.loads(response4)"
   ]
  },
  {
   "cell_type": "code",
   "execution_count": 182,
   "metadata": {},
   "outputs": [],
   "source": [
    "id3=str(5977783)\n",
    "url2='http://api.openweathermap.org/data/2.5/forecast?id='+id3+'&APPID='+api_key \n",
    "response2 = urlopen(url2).read().decode('utf-8')\n",
    "obj3 = json.loads(response2)"
   ]
  },
  {
   "cell_type": "code",
   "execution_count": 174,
   "metadata": {},
   "outputs": [],
   "source": [
    "url='http://api.openweathermap.org/data/2.5/forecast?id='+id2+'&APPID='+api_key \n",
    "response = urlopen(url).read().decode('utf-8')\n"
   ]
  },
  {
   "cell_type": "code",
   "execution_count": 175,
   "metadata": {},
   "outputs": [],
   "source": [
    "obj = json.loads(response)"
   ]
  },
  {
   "cell_type": "code",
   "execution_count": 176,
   "metadata": {},
   "outputs": [
    {
     "name": "stdout",
     "output_type": "stream",
     "text": [
      "0\n",
      "1\n",
      "2\n",
      "3\n",
      "4\n"
     ]
    }
   ],
   "source": [
    "for each in range(len(obj)):\n",
    "    print each"
   ]
  },
  {
   "cell_type": "code",
   "execution_count": 154,
   "metadata": {},
   "outputs": [
    {
     "name": "stdout",
     "output_type": "stream",
     "text": [
      "<type 'float'>\n",
      "<type 'float'>\n",
      "<type 'float'>\n",
      "<type 'float'>\n",
      "<type 'float'>\n"
     ]
    }
   ],
   "source": [
    "for each in range(len(obj)):\n",
    "    print type(obj['list'][each]['main']['temp_min'])"
   ]
  },
  {
   "cell_type": "code",
   "execution_count": 186,
   "metadata": {},
   "outputs": [],
   "source": [
    "for each in range(len(obj)):\n",
    "    if 'snow' in obj"
   ]
  },
  {
   "cell_type": "code",
   "execution_count": 216,
   "metadata": {},
   "outputs": [
    {
     "data": {
      "text/plain": [
       "{}"
      ]
     },
     "execution_count": 216,
     "metadata": {},
     "output_type": "execute_result"
    }
   ],
   "source": [
    "obj4['list'][0]['rain']"
   ]
  },
  {
   "cell_type": "code",
   "execution_count": 219,
   "metadata": {},
   "outputs": [
    {
     "data": {
      "text/plain": [
       "False"
      ]
     },
     "execution_count": 219,
     "metadata": {},
     "output_type": "execute_result"
    }
   ],
   "source": [
    "any(obj4['list'][0]['rain'])"
   ]
  },
  {
   "cell_type": "code",
   "execution_count": 202,
   "metadata": {},
   "outputs": [
    {
     "name": "stdout",
     "output_type": "stream",
     "text": [
      "1\n"
     ]
    }
   ],
   "source": [
    "rs=['snow','rain']\n",
    "if ('snow' in obj['list'][0].keys()) or ('rain'in obj['list'][0].keys()):\n",
    "    print 1\n",
    "if ('snow' in obj3['list'][0].keys()) or ('rain'in obj3['list'][0].keys()):\n",
    "    print 2\n",
    "    "
   ]
  },
  {
   "cell_type": "code",
   "execution_count": 229,
   "metadata": {},
   "outputs": [
    {
     "name": "stdout",
     "output_type": "stream",
     "text": [
      "1\n"
     ]
    }
   ],
   "source": [
    "if(('snow' in obj['list'][0].keys() ) and any(obj['list'][2]['snow']) ):\n",
    "    print 1"
   ]
  },
  {
   "cell_type": "code",
   "execution_count": 227,
   "metadata": {},
   "outputs": [
    {
     "data": {
      "text/plain": [
       "{u'3h': 0.002}"
      ]
     },
     "execution_count": 227,
     "metadata": {},
     "output_type": "execute_result"
    }
   ],
   "source": [
    "obj['list'][0]['snow']"
   ]
  },
  {
   "cell_type": "code",
   "execution_count": 223,
   "metadata": {},
   "outputs": [
    {
     "ename": "KeyError",
     "evalue": "'snow'",
     "output_type": "error",
     "traceback": [
      "\u001b[0;31m---------------------------------------------------------------------------\u001b[0m",
      "\u001b[0;31mKeyError\u001b[0m                                  Traceback (most recent call last)",
      "\u001b[0;32m<ipython-input-223-63cb308833e4>\u001b[0m in \u001b[0;36m<module>\u001b[0;34m()\u001b[0m\n\u001b[1;32m      1\u001b[0m \u001b[0;32mif\u001b[0m \u001b[0;34m(\u001b[0m\u001b[0;34m'snow'\u001b[0m \u001b[0;32min\u001b[0m \u001b[0mobj4\u001b[0m\u001b[0;34m[\u001b[0m\u001b[0;34m'list'\u001b[0m\u001b[0;34m]\u001b[0m\u001b[0;34m[\u001b[0m\u001b[0;36m0\u001b[0m\u001b[0;34m]\u001b[0m\u001b[0;34m.\u001b[0m\u001b[0mkeys\u001b[0m\u001b[0;34m(\u001b[0m\u001b[0;34m)\u001b[0m\u001b[0;34m)\u001b[0m \u001b[0;32mor\u001b[0m \u001b[0;34m(\u001b[0m\u001b[0;34m'rain'\u001b[0m\u001b[0;32min\u001b[0m \u001b[0mobj4\u001b[0m\u001b[0;34m[\u001b[0m\u001b[0;34m'list'\u001b[0m\u001b[0;34m]\u001b[0m\u001b[0;34m[\u001b[0m\u001b[0;36m0\u001b[0m\u001b[0;34m]\u001b[0m\u001b[0;34m.\u001b[0m\u001b[0mkeys\u001b[0m\u001b[0;34m(\u001b[0m\u001b[0;34m)\u001b[0m\u001b[0;34m)\u001b[0m\u001b[0;34m:\u001b[0m\u001b[0;34m\u001b[0m\u001b[0m\n\u001b[0;32m----> 2\u001b[0;31m     \u001b[0;32mif\u001b[0m \u001b[0;34m(\u001b[0m \u001b[0many\u001b[0m\u001b[0;34m(\u001b[0m\u001b[0mobj4\u001b[0m\u001b[0;34m[\u001b[0m\u001b[0;34m'list'\u001b[0m\u001b[0;34m]\u001b[0m\u001b[0;34m[\u001b[0m\u001b[0;36m0\u001b[0m\u001b[0;34m]\u001b[0m\u001b[0;34m[\u001b[0m\u001b[0;34m'snow'\u001b[0m\u001b[0;34m]\u001b[0m\u001b[0;34m)\u001b[0m \u001b[0;32mor\u001b[0m \u001b[0many\u001b[0m\u001b[0;34m(\u001b[0m\u001b[0mobj4\u001b[0m\u001b[0;34m[\u001b[0m\u001b[0;34m'list'\u001b[0m\u001b[0;34m]\u001b[0m\u001b[0;34m[\u001b[0m\u001b[0;36m0\u001b[0m\u001b[0;34m]\u001b[0m\u001b[0;34m[\u001b[0m\u001b[0;34m'rain'\u001b[0m\u001b[0;34m]\u001b[0m\u001b[0;34m)\u001b[0m\u001b[0;34m)\u001b[0m\u001b[0;34m:\u001b[0m\u001b[0;34m\u001b[0m\u001b[0m\n\u001b[0m\u001b[1;32m      3\u001b[0m         \u001b[0;32mprint\u001b[0m \u001b[0;34m\"there is rain\"\u001b[0m\u001b[0;34m\u001b[0m\u001b[0m\n",
      "\u001b[0;31mKeyError\u001b[0m: 'snow'"
     ]
    }
   ],
   "source": [
    "if ('snow' in obj4['list'][0].keys()) or ('rain'in obj4['list'][0].keys()):\n",
    "    if ( any(obj4['list'][0]['snow']) or any(obj4['list'][0]['rain'])):\n",
    "        print \"there is rain\"\n"
   ]
  },
  {
   "cell_type": "code",
   "execution_count": 236,
   "metadata": {},
   "outputs": [
    {
     "name": "stdout",
     "output_type": "stream",
     "text": [
      "clouds\n",
      "name\n",
      "visibility\n",
      "sys\n",
      "weather\n",
      "coord\n",
      "base\n",
      "dt\n",
      "main\n",
      "id\n",
      "wind\n",
      "cod\n"
     ]
    }
   ],
   "source": [
    "for key in obj5:\n",
    "    print key\n",
    "   "
   ]
  },
  {
   "cell_type": "code",
   "execution_count": 58,
   "metadata": {},
   "outputs": [
    {
     "name": "stdout",
     "output_type": "stream",
     "text": [
      "[{u'clouds': {u'all': 64}, u'rain': {}, u'sys': {u'pod': u'n'}, u'dt_txt': u'2018-07-10 18:00:00', u'weather': [{u'main': u'Clouds', u'id': 803, u'icon': u'04n', u'description': u'broken clouds'}], u'dt': 1531245600, u'main': {u'temp_kf': 0.86, u'temp': 297.51, u'grnd_level': 957.82, u'temp_max': 297.51, u'sea_level': 1016.06, u'humidity': 83, u'pressure': 957.82, u'temp_min': 296.655}, u'wind': {u'speed': 6.73, u'deg': 256.505}}, {u'clouds': {u'all': 24}, u'rain': {}, u'sys': {u'pod': u'n'}, u'dt_txt': u'2018-07-10 21:00:00', u'weather': [{u'main': u'Clouds', u'id': 801, u'icon': u'02n', u'description': u'few clouds'}], u'dt': 1531256400, u'main': {u'temp_kf': 0.64, u'temp': 296.59, u'grnd_level': 956.38, u'temp_max': 296.59, u'sea_level': 1014.7, u'humidity': 85, u'pressure': 956.38, u'temp_min': 295.95}, u'wind': {u'speed': 7.18, u'deg': 257}}, {u'clouds': {u'all': 24}, u'rain': {}, u'sys': {u'pod': u'n'}, u'dt_txt': u'2018-07-11 00:00:00', u'weather': [{u'main': u'Clouds', u'id': 801, u'icon': u'02n', u'description': u'few clouds'}], u'dt': 1531267200, u'main': {u'temp_kf': 0.43, u'temp': 296.37, u'grnd_level': 956.29, u'temp_max': 296.37, u'sea_level': 1014.61, u'humidity': 86, u'pressure': 956.29, u'temp_min': 295.945}, u'wind': {u'speed': 7.37, u'deg': 259.001}}, {u'clouds': {u'all': 68}, u'rain': {u'3h': 0.0024999999999999}, u'sys': {u'pod': u'd'}, u'dt_txt': u'2018-07-11 03:00:00', u'weather': [{u'main': u'Rain', u'id': 500, u'icon': u'10d', u'description': u'light rain'}], u'dt': 1531278000, u'main': {u'temp_kf': 0.21, u'temp': 298.72, u'grnd_level': 957, u'temp_max': 298.72, u'sea_level': 1015.19, u'humidity': 79, u'pressure': 957, u'temp_min': 298.502}, u'wind': {u'speed': 8.93, u'deg': 267.501}}, {u'clouds': {u'all': 36}, u'rain': {}, u'sys': {u'pod': u'd'}, u'dt_txt': u'2018-07-11 06:00:00', u'weather': [{u'main': u'Clouds', u'id': 802, u'icon': u'03d', u'description': u'scattered clouds'}], u'dt': 1531288800, u'main': {u'temp_kf': 0, u'temp': 300.826, u'grnd_level': 957.17, u'temp_max': 300.826, u'sea_level': 1015.26, u'humidity': 71, u'pressure': 957.17, u'temp_min': 300.826}, u'wind': {u'speed': 9.27, u'deg': 265.507}}, {u'clouds': {u'all': 76}, u'rain': {}, u'sys': {u'pod': u'd'}, u'dt_txt': u'2018-07-11 09:00:00', u'weather': [{u'main': u'Clouds', u'id': 803, u'icon': u'04d', u'description': u'broken clouds'}], u'dt': 1531299600, u'main': {u'temp_kf': 0, u'temp': 302.667, u'grnd_level': 955.81, u'temp_max': 302.667, u'sea_level': 1013.7, u'humidity': 62, u'pressure': 955.81, u'temp_min': 302.667}, u'wind': {u'speed': 8.45, u'deg': 269.011}}, {u'clouds': {u'all': 88}, u'rain': {u'3h': 0.865}, u'sys': {u'pod': u'd'}, u'dt_txt': u'2018-07-11 12:00:00', u'weather': [{u'main': u'Rain', u'id': 500, u'icon': u'10d', u'description': u'light rain'}], u'dt': 1531310400, u'main': {u'temp_kf': 0, u'temp': 297.683, u'grnd_level': 955.93, u'temp_max': 297.683, u'sea_level': 1013.99, u'humidity': 88, u'pressure': 955.93, u'temp_min': 297.683}, u'wind': {u'speed': 8.12, u'deg': 270.001}}, {u'clouds': {u'all': 76}, u'rain': {u'3h': 2.215}, u'sys': {u'pod': u'n'}, u'dt_txt': u'2018-07-11 15:00:00', u'weather': [{u'main': u'Rain', u'id': 500, u'icon': u'10n', u'description': u'light rain'}], u'dt': 1531321200, u'main': {u'temp_kf': 0, u'temp': 295.416, u'grnd_level': 957.22, u'temp_max': 295.416, u'sea_level': 1015.61, u'humidity': 94, u'pressure': 957.22, u'temp_min': 295.416}, u'wind': {u'speed': 6.96, u'deg': 258.006}}, {u'clouds': {u'all': 44}, u'rain': {u'3h': 0.0049999999999999}, u'sys': {u'pod': u'n'}, u'dt_txt': u'2018-07-11 18:00:00', u'weather': [{u'main': u'Rain', u'id': 500, u'icon': u'10n', u'description': u'light rain'}], u'dt': 1531332000, u'main': {u'temp_kf': 0, u'temp': 296.096, u'grnd_level': 957.48, u'temp_max': 296.096, u'sea_level': 1015.88, u'humidity': 92, u'pressure': 957.48, u'temp_min': 296.096}, u'wind': {u'speed': 6.7, u'deg': 261.503}}, {u'clouds': {u'all': 48}, u'rain': {u'3h': 0.025}, u'sys': {u'pod': u'n'}, u'dt_txt': u'2018-07-11 21:00:00', u'weather': [{u'main': u'Rain', u'id': 500, u'icon': u'10n', u'description': u'light rain'}], u'dt': 1531342800, u'main': {u'temp_kf': 0, u'temp': 295.844, u'grnd_level': 955.71, u'temp_max': 295.844, u'sea_level': 1013.99, u'humidity': 91, u'pressure': 955.71, u'temp_min': 295.844}, u'wind': {u'speed': 7.87, u'deg': 260.503}}, {u'clouds': {u'all': 88}, u'rain': {u'3h': 0.115}, u'sys': {u'pod': u'n'}, u'dt_txt': u'2018-07-12 00:00:00', u'weather': [{u'main': u'Rain', u'id': 500, u'icon': u'10n', u'description': u'light rain'}], u'dt': 1531353600, u'main': {u'temp_kf': 0, u'temp': 295.988, u'grnd_level': 955.22, u'temp_max': 295.988, u'sea_level': 1013.54, u'humidity': 90, u'pressure': 955.22, u'temp_min': 295.988}, u'wind': {u'speed': 8.51, u'deg': 262.5}}, {u'clouds': {u'all': 76}, u'rain': {u'3h': 0.045}, u'sys': {u'pod': u'd'}, u'dt_txt': u'2018-07-12 03:00:00', u'weather': [{u'main': u'Rain', u'id': 500, u'icon': u'10d', u'description': u'light rain'}], u'dt': 1531364400, u'main': {u'temp_kf': 0, u'temp': 297.902, u'grnd_level': 956.65, u'temp_max': 297.902, u'sea_level': 1014.86, u'humidity': 82, u'pressure': 956.65, u'temp_min': 297.902}, u'wind': {u'speed': 8.96, u'deg': 262.503}}, {u'clouds': {u'all': 76}, u'rain': {u'3h': 0.015}, u'sys': {u'pod': u'd'}, u'dt_txt': u'2018-07-12 06:00:00', u'weather': [{u'main': u'Rain', u'id': 500, u'icon': u'10d', u'description': u'light rain'}], u'dt': 1531375200, u'main': {u'temp_kf': 0, u'temp': 299.813, u'grnd_level': 957.09, u'temp_max': 299.813, u'sea_level': 1015.11, u'humidity': 74, u'pressure': 957.09, u'temp_min': 299.813}, u'wind': {u'speed': 9.81, u'deg': 267.501}}, {u'clouds': {u'all': 76}, u'rain': {}, u'sys': {u'pod': u'd'}, u'dt_txt': u'2018-07-12 09:00:00', u'weather': [{u'main': u'Clouds', u'id': 803, u'icon': u'04d', u'description': u'broken clouds'}], u'dt': 1531386000, u'main': {u'temp_kf': 0, u'temp': 301.437, u'grnd_level': 955.39, u'temp_max': 301.437, u'sea_level': 1013.31, u'humidity': 66, u'pressure': 955.39, u'temp_min': 301.437}, u'wind': {u'speed': 9.17, u'deg': 271.501}}, {u'clouds': {u'all': 92}, u'rain': {u'3h': 0.45}, u'sys': {u'pod': u'd'}, u'dt_txt': u'2018-07-12 12:00:00', u'weather': [{u'main': u'Rain', u'id': 500, u'icon': u'10d', u'description': u'light rain'}], u'dt': 1531396800, u'main': {u'temp_kf': 0, u'temp': 298.899, u'grnd_level': 955.43, u'temp_max': 298.899, u'sea_level': 1013.45, u'humidity': 79, u'pressure': 955.43, u'temp_min': 298.899}, u'wind': {u'speed': 8.11, u'deg': 267.5}}, {u'clouds': {u'all': 92}, u'rain': {u'3h': 0.14}, u'sys': {u'pod': u'n'}, u'dt_txt': u'2018-07-12 15:00:00', u'weather': [{u'main': u'Rain', u'id': 500, u'icon': u'10n', u'description': u'light rain'}], u'dt': 1531407600, u'main': {u'temp_kf': 0, u'temp': 297.899, u'grnd_level': 956.87, u'temp_max': 297.899, u'sea_level': 1015.05, u'humidity': 82, u'pressure': 956.87, u'temp_min': 297.899}, u'wind': {u'speed': 7.98, u'deg': 259.502}}, {u'clouds': {u'all': 92}, u'rain': {u'3h': 1.52}, u'sys': {u'pod': u'n'}, u'dt_txt': u'2018-07-12 18:00:00', u'weather': [{u'main': u'Rain', u'id': 500, u'icon': u'10n', u'description': u'light rain'}], u'dt': 1531418400, u'main': {u'temp_kf': 0, u'temp': 295.953, u'grnd_level': 957.06, u'temp_max': 295.953, u'sea_level': 1015.33, u'humidity': 94, u'pressure': 957.06, u'temp_min': 295.953}, u'wind': {u'speed': 7.45, u'deg': 258.002}}, {u'clouds': {u'all': 92}, u'rain': {u'3h': 0.47}, u'sys': {u'pod': u'n'}, u'dt_txt': u'2018-07-12 21:00:00', u'weather': [{u'main': u'Rain', u'id': 500, u'icon': u'10n', u'description': u'light rain'}], u'dt': 1531429200, u'main': {u'temp_kf': 0, u'temp': 295.867, u'grnd_level': 955.46, u'temp_max': 295.867, u'sea_level': 1013.66, u'humidity': 93, u'pressure': 955.46, u'temp_min': 295.867}, u'wind': {u'speed': 7.91, u'deg': 256.502}}, {u'clouds': {u'all': 76}, u'rain': {u'3h': 0.14}, u'sys': {u'pod': u'n'}, u'dt_txt': u'2018-07-13 00:00:00', u'weather': [{u'main': u'Rain', u'id': 500, u'icon': u'10n', u'description': u'light rain'}], u'dt': 1531440000, u'main': {u'temp_kf': 0, u'temp': 296.245, u'grnd_level': 955.39, u'temp_max': 296.245, u'sea_level': 1013.61, u'humidity': 89, u'pressure': 955.39, u'temp_min': 296.245}, u'wind': {u'speed': 7.91, u'deg': 262.508}}, {u'clouds': {u'all': 64}, u'rain': {u'3h': 0.94}, u'sys': {u'pod': u'd'}, u'dt_txt': u'2018-07-13 03:00:00', u'weather': [{u'main': u'Rain', u'id': 500, u'icon': u'10d', u'description': u'light rain'}], u'dt': 1531450800, u'main': {u'temp_kf': 0, u'temp': 297.348, u'grnd_level': 956.45, u'temp_max': 297.348, u'sea_level': 1014.76, u'humidity': 85, u'pressure': 956.45, u'temp_min': 297.348}, u'wind': {u'speed': 8.51, u'deg': 266.502}}, {u'clouds': {u'all': 76}, u'rain': {}, u'sys': {u'pod': u'd'}, u'dt_txt': u'2018-07-13 06:00:00', u'weather': [{u'main': u'Clouds', u'id': 803, u'icon': u'04d', u'description': u'broken clouds'}], u'dt': 1531461600, u'main': {u'temp_kf': 0, u'temp': 300.797, u'grnd_level': 956.46, u'temp_max': 300.797, u'sea_level': 1014.45, u'humidity': 69, u'pressure': 956.46, u'temp_min': 300.797}, u'wind': {u'speed': 9.67, u'deg': 271.505}}, {u'clouds': {u'all': 92}, u'rain': {u'3h': 0.09}, u'sys': {u'pod': u'd'}, u'dt_txt': u'2018-07-13 09:00:00', u'weather': [{u'main': u'Rain', u'id': 500, u'icon': u'10d', u'description': u'light rain'}], u'dt': 1531472400, u'main': {u'temp_kf': 0, u'temp': 300.426, u'grnd_level': 955.32, u'temp_max': 300.426, u'sea_level': 1013.3, u'humidity': 71, u'pressure': 955.32, u'temp_min': 300.426}, u'wind': {u'speed': 9.21, u'deg': 272.001}}, {u'clouds': {u'all': 92}, u'rain': {u'3h': 0.14}, u'sys': {u'pod': u'd'}, u'dt_txt': u'2018-07-13 12:00:00', u'weather': [{u'main': u'Rain', u'id': 500, u'icon': u'10d', u'description': u'light rain'}], u'dt': 1531483200, u'main': {u'temp_kf': 0, u'temp': 300.62, u'grnd_level': 954.84, u'temp_max': 300.62, u'sea_level': 1012.82, u'humidity': 71, u'pressure': 954.84, u'temp_min': 300.62}, u'wind': {u'speed': 8.16, u'deg': 268.5}}, {u'clouds': {u'all': 100}, u'rain': {u'3h': 2.85}, u'sys': {u'pod': u'n'}, u'dt_txt': u'2018-07-13 15:00:00', u'weather': [{u'main': u'Rain', u'id': 500, u'icon': u'10n', u'description': u'light rain'}], u'dt': 1531494000, u'main': {u'temp_kf': 0, u'temp': 296.056, u'grnd_level': 956.69, u'temp_max': 296.056, u'sea_level': 1014.71, u'humidity': 95, u'pressure': 956.69, u'temp_min': 296.056}, u'wind': {u'speed': 5.91, u'deg': 277}}, {u'clouds': {u'all': 56}, u'rain': {u'3h': 0.45}, u'sys': {u'pod': u'n'}, u'dt_txt': u'2018-07-13 18:00:00', u'weather': [{u'main': u'Rain', u'id': 500, u'icon': u'10n', u'description': u'light rain'}], u'dt': 1531504800, u'main': {u'temp_kf': 0, u'temp': 295.872, u'grnd_level': 956.71, u'temp_max': 295.872, u'sea_level': 1015.04, u'humidity': 96, u'pressure': 956.71, u'temp_min': 295.872}, u'wind': {u'speed': 5.26, u'deg': 258.002}}, {u'clouds': {u'all': 56}, u'rain': {u'3h': 0.020000000000001}, u'sys': {u'pod': u'n'}, u'dt_txt': u'2018-07-13 21:00:00', u'weather': [{u'main': u'Rain', u'id': 500, u'icon': u'10n', u'description': u'light rain'}], u'dt': 1531515600, u'main': {u'temp_kf': 0, u'temp': 295.795, u'grnd_level': 955.33, u'temp_max': 295.795, u'sea_level': 1013.53, u'humidity': 94, u'pressure': 955.33, u'temp_min': 295.795}, u'wind': {u'speed': 6.27, u'deg': 256.502}}, {u'clouds': {u'all': 68}, u'rain': {}, u'sys': {u'pod': u'n'}, u'dt_txt': u'2018-07-14 00:00:00', u'weather': [{u'main': u'Clouds', u'id': 803, u'icon': u'04n', u'description': u'broken clouds'}], u'dt': 1531526400, u'main': {u'temp_kf': 0, u'temp': 295.834, u'grnd_level': 955.18, u'temp_max': 295.834, u'sea_level': 1013.4, u'humidity': 93, u'pressure': 955.18, u'temp_min': 295.834}, u'wind': {u'speed': 6.61, u'deg': 258.002}}, {u'clouds': {u'all': 68}, u'rain': {u'3h': 0.08}, u'sys': {u'pod': u'd'}, u'dt_txt': u'2018-07-14 03:00:00', u'weather': [{u'main': u'Rain', u'id': 500, u'icon': u'10d', u'description': u'light rain'}], u'dt': 1531537200, u'main': {u'temp_kf': 0, u'temp': 298.286, u'grnd_level': 956.35, u'temp_max': 298.286, u'sea_level': 1014.45, u'humidity': 83, u'pressure': 956.35, u'temp_min': 298.286}, u'wind': {u'speed': 7.97, u'deg': 263.003}}, {u'clouds': {u'all': 56}, u'rain': {u'3h': 0.1}, u'sys': {u'pod': u'd'}, u'dt_txt': u'2018-07-14 06:00:00', u'weather': [{u'main': u'Rain', u'id': 500, u'icon': u'10d', u'description': u'light rain'}], u'dt': 1531548000, u'main': {u'temp_kf': 0, u'temp': 300.447, u'grnd_level': 956.59, u'temp_max': 300.447, u'sea_level': 1014.52, u'humidity': 75, u'pressure': 956.59, u'temp_min': 300.447}, u'wind': {u'speed': 8.11, u'deg': 268.501}}, {u'clouds': {u'all': 76}, u'rain': {u'3h': 0.02}, u'sys': {u'pod': u'd'}, u'dt_txt': u'2018-07-14 09:00:00', u'weather': [{u'main': u'Rain', u'id': 500, u'icon': u'10d', u'description': u'light rain'}], u'dt': 1531558800, u'main': {u'temp_kf': 0, u'temp': 301.98, u'grnd_level': 954.69, u'temp_max': 301.98, u'sea_level': 1012.41, u'humidity': 67, u'pressure': 954.69, u'temp_min': 301.98}, u'wind': {u'speed': 7.28, u'deg': 270.001}}, {u'clouds': {u'all': 80}, u'rain': {u'3h': 4.61}, u'sys': {u'pod': u'd'}, u'dt_txt': u'2018-07-14 12:00:00', u'weather': [{u'main': u'Rain', u'id': 501, u'icon': u'10d', u'description': u'moderate rain'}], u'dt': 1531569600, u'main': {u'temp_kf': 0, u'temp': 296.547, u'grnd_level': 954.54, u'temp_max': 296.547, u'sea_level': 1012.59, u'humidity': 93, u'pressure': 954.54, u'temp_min': 296.547}, u'wind': {u'speed': 5.27, u'deg': 266.501}}, {u'clouds': {u'all': 92}, u'rain': {u'3h': 4.63}, u'sys': {u'pod': u'n'}, u'dt_txt': u'2018-07-14 15:00:00', u'weather': [{u'main': u'Rain', u'id': 501, u'icon': u'10n', u'description': u'moderate rain'}], u'dt': 1531580400, u'main': {u'temp_kf': 0, u'temp': 294.932, u'grnd_level': 956.5, u'temp_max': 294.932, u'sea_level': 1014.62, u'humidity': 98, u'pressure': 956.5, u'temp_min': 294.932}, u'wind': {u'speed': 5.57, u'deg': 255.505}}, {u'clouds': {u'all': 92}, u'rain': {u'3h': 0.11}, u'sys': {u'pod': u'n'}, u'dt_txt': u'2018-07-14 18:00:00', u'weather': [{u'main': u'Rain', u'id': 500, u'icon': u'10n', u'description': u'light rain'}], u'dt': 1531591200, u'main': {u'temp_kf': 0, u'temp': 295.797, u'grnd_level': 956.39, u'temp_max': 295.797, u'sea_level': 1014.74, u'humidity': 95, u'pressure': 956.39, u'temp_min': 295.797}, u'wind': {u'speed': 6.12, u'deg': 254.502}}, {u'clouds': {u'all': 80}, u'rain': {u'3h': 0.02}, u'sys': {u'pod': u'n'}, u'dt_txt': u'2018-07-14 21:00:00', u'weather': [{u'main': u'Rain', u'id': 500, u'icon': u'10n', u'description': u'light rain'}], u'dt': 1531602000, u'main': {u'temp_kf': 0, u'temp': 295.94, u'grnd_level': 954.95, u'temp_max': 295.94, u'sea_level': 1013.1, u'humidity': 93, u'pressure': 954.95, u'temp_min': 295.94}, u'wind': {u'speed': 7.71, u'deg': 255.001}}, {u'clouds': {u'all': 64}, u'rain': {u'3h': 0.039999999999999}, u'sys': {u'pod': u'n'}, u'dt_txt': u'2018-07-15 00:00:00', u'weather': [{u'main': u'Rain', u'id': 500, u'icon': u'10n', u'description': u'light rain'}], u'dt': 1531612800, u'main': {u'temp_kf': 0, u'temp': 295.914, u'grnd_level': 954.6, u'temp_max': 295.914, u'sea_level': 1012.82, u'humidity': 92, u'pressure': 954.6, u'temp_min': 295.914}, u'wind': {u'speed': 7.65, u'deg': 256.002}}, {u'clouds': {u'all': 36}, u'rain': {u'3h': 0.079999999999998}, u'sys': {u'pod': u'd'}, u'dt_txt': u'2018-07-15 03:00:00', u'weather': [{u'main': u'Rain', u'id': 500, u'icon': u'10d', u'description': u'light rain'}], u'dt': 1531623600, u'main': {u'temp_kf': 0, u'temp': 298.045, u'grnd_level': 955.98, u'temp_max': 298.045, u'sea_level': 1014.04, u'humidity': 87, u'pressure': 955.98, u'temp_min': 298.045}, u'wind': {u'speed': 8.81, u'deg': 256}}, {u'clouds': {u'all': 12}, u'rain': {u'3h': 0.030000000000001}, u'sys': {u'pod': u'd'}, u'dt_txt': u'2018-07-15 06:00:00', u'weather': [{u'main': u'Rain', u'id': 500, u'icon': u'10d', u'description': u'light rain'}], u'dt': 1531634400, u'main': {u'temp_kf': 0, u'temp': 301.317, u'grnd_level': 955.75, u'temp_max': 301.317, u'sea_level': 1013.66, u'humidity': 76, u'pressure': 955.75, u'temp_min': 301.317}, u'wind': {u'speed': 9.26, u'deg': 262.002}}, {u'clouds': {u'all': 56}, u'rain': {u'3h': 0.21}, u'sys': {u'pod': u'd'}, u'dt_txt': u'2018-07-15 09:00:00', u'weather': [{u'main': u'Rain', u'id': 500, u'icon': u'10d', u'description': u'light rain'}], u'dt': 1531645200, u'main': {u'temp_kf': 0, u'temp': 301.454, u'grnd_level': 954.37, u'temp_max': 301.454, u'sea_level': 1011.9, u'humidity': 73, u'pressure': 954.37, u'temp_min': 301.454}, u'wind': {u'speed': 8.87, u'deg': 260.016}}, {u'clouds': {u'all': 64}, u'rain': {u'3h': 0.079999999999998}, u'sys': {u'pod': u'd'}, u'dt_txt': u'2018-07-15 12:00:00', u'weather': [{u'main': u'Rain', u'id': 500, u'icon': u'10d', u'description': u'light rain'}], u'dt': 1531656000, u'main': {u'temp_kf': 0, u'temp': 299.865, u'grnd_level': 953.8, u'temp_max': 299.865, u'sea_level': 1011.66, u'humidity': 76, u'pressure': 953.8, u'temp_min': 299.865}, u'wind': {u'speed': 8.66, u'deg': 264.501}}, {u'clouds': {u'all': 64}, u'rain': {u'3h': 0.010000000000002}, u'sys': {u'pod': u'n'}, u'dt_txt': u'2018-07-15 15:00:00', u'weather': [{u'main': u'Rain', u'id': 500, u'icon': u'10n', u'description': u'light rain'}], u'dt': 1531666800, u'main': {u'temp_kf': 0, u'temp': 298.159, u'grnd_level': 955.55, u'temp_max': 298.159, u'sea_level': 1013.55, u'humidity': 82, u'pressure': 955.55, u'temp_min': 298.159}, u'wind': {u'speed': 7.11, u'deg': 261.002}}]\n",
      "[{u'clouds': {u'all': 64}, u'rain': {}, u'sys': {u'pod': u'n'}, u'dt_txt': u'2018-07-10 18:00:00', u'weather': [{u'main': u'Clouds', u'id': 803, u'icon': u'04n', u'description': u'broken clouds'}], u'dt': 1531245600, u'main': {u'temp_kf': 0.86, u'temp': 297.51, u'grnd_level': 957.82, u'temp_max': 297.51, u'sea_level': 1016.06, u'humidity': 83, u'pressure': 957.82, u'temp_min': 296.655}, u'wind': {u'speed': 6.73, u'deg': 256.505}}, {u'clouds': {u'all': 24}, u'rain': {}, u'sys': {u'pod': u'n'}, u'dt_txt': u'2018-07-10 21:00:00', u'weather': [{u'main': u'Clouds', u'id': 801, u'icon': u'02n', u'description': u'few clouds'}], u'dt': 1531256400, u'main': {u'temp_kf': 0.64, u'temp': 296.59, u'grnd_level': 956.38, u'temp_max': 296.59, u'sea_level': 1014.7, u'humidity': 85, u'pressure': 956.38, u'temp_min': 295.95}, u'wind': {u'speed': 7.18, u'deg': 257}}, {u'clouds': {u'all': 24}, u'rain': {}, u'sys': {u'pod': u'n'}, u'dt_txt': u'2018-07-11 00:00:00', u'weather': [{u'main': u'Clouds', u'id': 801, u'icon': u'02n', u'description': u'few clouds'}], u'dt': 1531267200, u'main': {u'temp_kf': 0.43, u'temp': 296.37, u'grnd_level': 956.29, u'temp_max': 296.37, u'sea_level': 1014.61, u'humidity': 86, u'pressure': 956.29, u'temp_min': 295.945}, u'wind': {u'speed': 7.37, u'deg': 259.001}}, {u'clouds': {u'all': 68}, u'rain': {u'3h': 0.0024999999999999}, u'sys': {u'pod': u'd'}, u'dt_txt': u'2018-07-11 03:00:00', u'weather': [{u'main': u'Rain', u'id': 500, u'icon': u'10d', u'description': u'light rain'}], u'dt': 1531278000, u'main': {u'temp_kf': 0.21, u'temp': 298.72, u'grnd_level': 957, u'temp_max': 298.72, u'sea_level': 1015.19, u'humidity': 79, u'pressure': 957, u'temp_min': 298.502}, u'wind': {u'speed': 8.93, u'deg': 267.501}}, {u'clouds': {u'all': 36}, u'rain': {}, u'sys': {u'pod': u'd'}, u'dt_txt': u'2018-07-11 06:00:00', u'weather': [{u'main': u'Clouds', u'id': 802, u'icon': u'03d', u'description': u'scattered clouds'}], u'dt': 1531288800, u'main': {u'temp_kf': 0, u'temp': 300.826, u'grnd_level': 957.17, u'temp_max': 300.826, u'sea_level': 1015.26, u'humidity': 71, u'pressure': 957.17, u'temp_min': 300.826}, u'wind': {u'speed': 9.27, u'deg': 265.507}}, {u'clouds': {u'all': 76}, u'rain': {}, u'sys': {u'pod': u'd'}, u'dt_txt': u'2018-07-11 09:00:00', u'weather': [{u'main': u'Clouds', u'id': 803, u'icon': u'04d', u'description': u'broken clouds'}], u'dt': 1531299600, u'main': {u'temp_kf': 0, u'temp': 302.667, u'grnd_level': 955.81, u'temp_max': 302.667, u'sea_level': 1013.7, u'humidity': 62, u'pressure': 955.81, u'temp_min': 302.667}, u'wind': {u'speed': 8.45, u'deg': 269.011}}, {u'clouds': {u'all': 88}, u'rain': {u'3h': 0.865}, u'sys': {u'pod': u'd'}, u'dt_txt': u'2018-07-11 12:00:00', u'weather': [{u'main': u'Rain', u'id': 500, u'icon': u'10d', u'description': u'light rain'}], u'dt': 1531310400, u'main': {u'temp_kf': 0, u'temp': 297.683, u'grnd_level': 955.93, u'temp_max': 297.683, u'sea_level': 1013.99, u'humidity': 88, u'pressure': 955.93, u'temp_min': 297.683}, u'wind': {u'speed': 8.12, u'deg': 270.001}}, {u'clouds': {u'all': 76}, u'rain': {u'3h': 2.215}, u'sys': {u'pod': u'n'}, u'dt_txt': u'2018-07-11 15:00:00', u'weather': [{u'main': u'Rain', u'id': 500, u'icon': u'10n', u'description': u'light rain'}], u'dt': 1531321200, u'main': {u'temp_kf': 0, u'temp': 295.416, u'grnd_level': 957.22, u'temp_max': 295.416, u'sea_level': 1015.61, u'humidity': 94, u'pressure': 957.22, u'temp_min': 295.416}, u'wind': {u'speed': 6.96, u'deg': 258.006}}, {u'clouds': {u'all': 44}, u'rain': {u'3h': 0.0049999999999999}, u'sys': {u'pod': u'n'}, u'dt_txt': u'2018-07-11 18:00:00', u'weather': [{u'main': u'Rain', u'id': 500, u'icon': u'10n', u'description': u'light rain'}], u'dt': 1531332000, u'main': {u'temp_kf': 0, u'temp': 296.096, u'grnd_level': 957.48, u'temp_max': 296.096, u'sea_level': 1015.88, u'humidity': 92, u'pressure': 957.48, u'temp_min': 296.096}, u'wind': {u'speed': 6.7, u'deg': 261.503}}, {u'clouds': {u'all': 48}, u'rain': {u'3h': 0.025}, u'sys': {u'pod': u'n'}, u'dt_txt': u'2018-07-11 21:00:00', u'weather': [{u'main': u'Rain', u'id': 500, u'icon': u'10n', u'description': u'light rain'}], u'dt': 1531342800, u'main': {u'temp_kf': 0, u'temp': 295.844, u'grnd_level': 955.71, u'temp_max': 295.844, u'sea_level': 1013.99, u'humidity': 91, u'pressure': 955.71, u'temp_min': 295.844}, u'wind': {u'speed': 7.87, u'deg': 260.503}}, {u'clouds': {u'all': 88}, u'rain': {u'3h': 0.115}, u'sys': {u'pod': u'n'}, u'dt_txt': u'2018-07-12 00:00:00', u'weather': [{u'main': u'Rain', u'id': 500, u'icon': u'10n', u'description': u'light rain'}], u'dt': 1531353600, u'main': {u'temp_kf': 0, u'temp': 295.988, u'grnd_level': 955.22, u'temp_max': 295.988, u'sea_level': 1013.54, u'humidity': 90, u'pressure': 955.22, u'temp_min': 295.988}, u'wind': {u'speed': 8.51, u'deg': 262.5}}, {u'clouds': {u'all': 76}, u'rain': {u'3h': 0.045}, u'sys': {u'pod': u'd'}, u'dt_txt': u'2018-07-12 03:00:00', u'weather': [{u'main': u'Rain', u'id': 500, u'icon': u'10d', u'description': u'light rain'}], u'dt': 1531364400, u'main': {u'temp_kf': 0, u'temp': 297.902, u'grnd_level': 956.65, u'temp_max': 297.902, u'sea_level': 1014.86, u'humidity': 82, u'pressure': 956.65, u'temp_min': 297.902}, u'wind': {u'speed': 8.96, u'deg': 262.503}}, {u'clouds': {u'all': 76}, u'rain': {u'3h': 0.015}, u'sys': {u'pod': u'd'}, u'dt_txt': u'2018-07-12 06:00:00', u'weather': [{u'main': u'Rain', u'id': 500, u'icon': u'10d', u'description': u'light rain'}], u'dt': 1531375200, u'main': {u'temp_kf': 0, u'temp': 299.813, u'grnd_level': 957.09, u'temp_max': 299.813, u'sea_level': 1015.11, u'humidity': 74, u'pressure': 957.09, u'temp_min': 299.813}, u'wind': {u'speed': 9.81, u'deg': 267.501}}, {u'clouds': {u'all': 76}, u'rain': {}, u'sys': {u'pod': u'd'}, u'dt_txt': u'2018-07-12 09:00:00', u'weather': [{u'main': u'Clouds', u'id': 803, u'icon': u'04d', u'description': u'broken clouds'}], u'dt': 1531386000, u'main': {u'temp_kf': 0, u'temp': 301.437, u'grnd_level': 955.39, u'temp_max': 301.437, u'sea_level': 1013.31, u'humidity': 66, u'pressure': 955.39, u'temp_min': 301.437}, u'wind': {u'speed': 9.17, u'deg': 271.501}}, {u'clouds': {u'all': 92}, u'rain': {u'3h': 0.45}, u'sys': {u'pod': u'd'}, u'dt_txt': u'2018-07-12 12:00:00', u'weather': [{u'main': u'Rain', u'id': 500, u'icon': u'10d', u'description': u'light rain'}], u'dt': 1531396800, u'main': {u'temp_kf': 0, u'temp': 298.899, u'grnd_level': 955.43, u'temp_max': 298.899, u'sea_level': 1013.45, u'humidity': 79, u'pressure': 955.43, u'temp_min': 298.899}, u'wind': {u'speed': 8.11, u'deg': 267.5}}, {u'clouds': {u'all': 92}, u'rain': {u'3h': 0.14}, u'sys': {u'pod': u'n'}, u'dt_txt': u'2018-07-12 15:00:00', u'weather': [{u'main': u'Rain', u'id': 500, u'icon': u'10n', u'description': u'light rain'}], u'dt': 1531407600, u'main': {u'temp_kf': 0, u'temp': 297.899, u'grnd_level': 956.87, u'temp_max': 297.899, u'sea_level': 1015.05, u'humidity': 82, u'pressure': 956.87, u'temp_min': 297.899}, u'wind': {u'speed': 7.98, u'deg': 259.502}}, {u'clouds': {u'all': 92}, u'rain': {u'3h': 1.52}, u'sys': {u'pod': u'n'}, u'dt_txt': u'2018-07-12 18:00:00', u'weather': [{u'main': u'Rain', u'id': 500, u'icon': u'10n', u'description': u'light rain'}], u'dt': 1531418400, u'main': {u'temp_kf': 0, u'temp': 295.953, u'grnd_level': 957.06, u'temp_max': 295.953, u'sea_level': 1015.33, u'humidity': 94, u'pressure': 957.06, u'temp_min': 295.953}, u'wind': {u'speed': 7.45, u'deg': 258.002}}, {u'clouds': {u'all': 92}, u'rain': {u'3h': 0.47}, u'sys': {u'pod': u'n'}, u'dt_txt': u'2018-07-12 21:00:00', u'weather': [{u'main': u'Rain', u'id': 500, u'icon': u'10n', u'description': u'light rain'}], u'dt': 1531429200, u'main': {u'temp_kf': 0, u'temp': 295.867, u'grnd_level': 955.46, u'temp_max': 295.867, u'sea_level': 1013.66, u'humidity': 93, u'pressure': 955.46, u'temp_min': 295.867}, u'wind': {u'speed': 7.91, u'deg': 256.502}}, {u'clouds': {u'all': 76}, u'rain': {u'3h': 0.14}, u'sys': {u'pod': u'n'}, u'dt_txt': u'2018-07-13 00:00:00', u'weather': [{u'main': u'Rain', u'id': 500, u'icon': u'10n', u'description': u'light rain'}], u'dt': 1531440000, u'main': {u'temp_kf': 0, u'temp': 296.245, u'grnd_level': 955.39, u'temp_max': 296.245, u'sea_level': 1013.61, u'humidity': 89, u'pressure': 955.39, u'temp_min': 296.245}, u'wind': {u'speed': 7.91, u'deg': 262.508}}, {u'clouds': {u'all': 64}, u'rain': {u'3h': 0.94}, u'sys': {u'pod': u'd'}, u'dt_txt': u'2018-07-13 03:00:00', u'weather': [{u'main': u'Rain', u'id': 500, u'icon': u'10d', u'description': u'light rain'}], u'dt': 1531450800, u'main': {u'temp_kf': 0, u'temp': 297.348, u'grnd_level': 956.45, u'temp_max': 297.348, u'sea_level': 1014.76, u'humidity': 85, u'pressure': 956.45, u'temp_min': 297.348}, u'wind': {u'speed': 8.51, u'deg': 266.502}}, {u'clouds': {u'all': 76}, u'rain': {}, u'sys': {u'pod': u'd'}, u'dt_txt': u'2018-07-13 06:00:00', u'weather': [{u'main': u'Clouds', u'id': 803, u'icon': u'04d', u'description': u'broken clouds'}], u'dt': 1531461600, u'main': {u'temp_kf': 0, u'temp': 300.797, u'grnd_level': 956.46, u'temp_max': 300.797, u'sea_level': 1014.45, u'humidity': 69, u'pressure': 956.46, u'temp_min': 300.797}, u'wind': {u'speed': 9.67, u'deg': 271.505}}, {u'clouds': {u'all': 92}, u'rain': {u'3h': 0.09}, u'sys': {u'pod': u'd'}, u'dt_txt': u'2018-07-13 09:00:00', u'weather': [{u'main': u'Rain', u'id': 500, u'icon': u'10d', u'description': u'light rain'}], u'dt': 1531472400, u'main': {u'temp_kf': 0, u'temp': 300.426, u'grnd_level': 955.32, u'temp_max': 300.426, u'sea_level': 1013.3, u'humidity': 71, u'pressure': 955.32, u'temp_min': 300.426}, u'wind': {u'speed': 9.21, u'deg': 272.001}}, {u'clouds': {u'all': 92}, u'rain': {u'3h': 0.14}, u'sys': {u'pod': u'd'}, u'dt_txt': u'2018-07-13 12:00:00', u'weather': [{u'main': u'Rain', u'id': 500, u'icon': u'10d', u'description': u'light rain'}], u'dt': 1531483200, u'main': {u'temp_kf': 0, u'temp': 300.62, u'grnd_level': 954.84, u'temp_max': 300.62, u'sea_level': 1012.82, u'humidity': 71, u'pressure': 954.84, u'temp_min': 300.62}, u'wind': {u'speed': 8.16, u'deg': 268.5}}, {u'clouds': {u'all': 100}, u'rain': {u'3h': 2.85}, u'sys': {u'pod': u'n'}, u'dt_txt': u'2018-07-13 15:00:00', u'weather': [{u'main': u'Rain', u'id': 500, u'icon': u'10n', u'description': u'light rain'}], u'dt': 1531494000, u'main': {u'temp_kf': 0, u'temp': 296.056, u'grnd_level': 956.69, u'temp_max': 296.056, u'sea_level': 1014.71, u'humidity': 95, u'pressure': 956.69, u'temp_min': 296.056}, u'wind': {u'speed': 5.91, u'deg': 277}}, {u'clouds': {u'all': 56}, u'rain': {u'3h': 0.45}, u'sys': {u'pod': u'n'}, u'dt_txt': u'2018-07-13 18:00:00', u'weather': [{u'main': u'Rain', u'id': 500, u'icon': u'10n', u'description': u'light rain'}], u'dt': 1531504800, u'main': {u'temp_kf': 0, u'temp': 295.872, u'grnd_level': 956.71, u'temp_max': 295.872, u'sea_level': 1015.04, u'humidity': 96, u'pressure': 956.71, u'temp_min': 295.872}, u'wind': {u'speed': 5.26, u'deg': 258.002}}, {u'clouds': {u'all': 56}, u'rain': {u'3h': 0.020000000000001}, u'sys': {u'pod': u'n'}, u'dt_txt': u'2018-07-13 21:00:00', u'weather': [{u'main': u'Rain', u'id': 500, u'icon': u'10n', u'description': u'light rain'}], u'dt': 1531515600, u'main': {u'temp_kf': 0, u'temp': 295.795, u'grnd_level': 955.33, u'temp_max': 295.795, u'sea_level': 1013.53, u'humidity': 94, u'pressure': 955.33, u'temp_min': 295.795}, u'wind': {u'speed': 6.27, u'deg': 256.502}}, {u'clouds': {u'all': 68}, u'rain': {}, u'sys': {u'pod': u'n'}, u'dt_txt': u'2018-07-14 00:00:00', u'weather': [{u'main': u'Clouds', u'id': 803, u'icon': u'04n', u'description': u'broken clouds'}], u'dt': 1531526400, u'main': {u'temp_kf': 0, u'temp': 295.834, u'grnd_level': 955.18, u'temp_max': 295.834, u'sea_level': 1013.4, u'humidity': 93, u'pressure': 955.18, u'temp_min': 295.834}, u'wind': {u'speed': 6.61, u'deg': 258.002}}, {u'clouds': {u'all': 68}, u'rain': {u'3h': 0.08}, u'sys': {u'pod': u'd'}, u'dt_txt': u'2018-07-14 03:00:00', u'weather': [{u'main': u'Rain', u'id': 500, u'icon': u'10d', u'description': u'light rain'}], u'dt': 1531537200, u'main': {u'temp_kf': 0, u'temp': 298.286, u'grnd_level': 956.35, u'temp_max': 298.286, u'sea_level': 1014.45, u'humidity': 83, u'pressure': 956.35, u'temp_min': 298.286}, u'wind': {u'speed': 7.97, u'deg': 263.003}}, {u'clouds': {u'all': 56}, u'rain': {u'3h': 0.1}, u'sys': {u'pod': u'd'}, u'dt_txt': u'2018-07-14 06:00:00', u'weather': [{u'main': u'Rain', u'id': 500, u'icon': u'10d', u'description': u'light rain'}], u'dt': 1531548000, u'main': {u'temp_kf': 0, u'temp': 300.447, u'grnd_level': 956.59, u'temp_max': 300.447, u'sea_level': 1014.52, u'humidity': 75, u'pressure': 956.59, u'temp_min': 300.447}, u'wind': {u'speed': 8.11, u'deg': 268.501}}, {u'clouds': {u'all': 76}, u'rain': {u'3h': 0.02}, u'sys': {u'pod': u'd'}, u'dt_txt': u'2018-07-14 09:00:00', u'weather': [{u'main': u'Rain', u'id': 500, u'icon': u'10d', u'description': u'light rain'}], u'dt': 1531558800, u'main': {u'temp_kf': 0, u'temp': 301.98, u'grnd_level': 954.69, u'temp_max': 301.98, u'sea_level': 1012.41, u'humidity': 67, u'pressure': 954.69, u'temp_min': 301.98}, u'wind': {u'speed': 7.28, u'deg': 270.001}}, {u'clouds': {u'all': 80}, u'rain': {u'3h': 4.61}, u'sys': {u'pod': u'd'}, u'dt_txt': u'2018-07-14 12:00:00', u'weather': [{u'main': u'Rain', u'id': 501, u'icon': u'10d', u'description': u'moderate rain'}], u'dt': 1531569600, u'main': {u'temp_kf': 0, u'temp': 296.547, u'grnd_level': 954.54, u'temp_max': 296.547, u'sea_level': 1012.59, u'humidity': 93, u'pressure': 954.54, u'temp_min': 296.547}, u'wind': {u'speed': 5.27, u'deg': 266.501}}, {u'clouds': {u'all': 92}, u'rain': {u'3h': 4.63}, u'sys': {u'pod': u'n'}, u'dt_txt': u'2018-07-14 15:00:00', u'weather': [{u'main': u'Rain', u'id': 501, u'icon': u'10n', u'description': u'moderate rain'}], u'dt': 1531580400, u'main': {u'temp_kf': 0, u'temp': 294.932, u'grnd_level': 956.5, u'temp_max': 294.932, u'sea_level': 1014.62, u'humidity': 98, u'pressure': 956.5, u'temp_min': 294.932}, u'wind': {u'speed': 5.57, u'deg': 255.505}}, {u'clouds': {u'all': 92}, u'rain': {u'3h': 0.11}, u'sys': {u'pod': u'n'}, u'dt_txt': u'2018-07-14 18:00:00', u'weather': [{u'main': u'Rain', u'id': 500, u'icon': u'10n', u'description': u'light rain'}], u'dt': 1531591200, u'main': {u'temp_kf': 0, u'temp': 295.797, u'grnd_level': 956.39, u'temp_max': 295.797, u'sea_level': 1014.74, u'humidity': 95, u'pressure': 956.39, u'temp_min': 295.797}, u'wind': {u'speed': 6.12, u'deg': 254.502}}, {u'clouds': {u'all': 80}, u'rain': {u'3h': 0.02}, u'sys': {u'pod': u'n'}, u'dt_txt': u'2018-07-14 21:00:00', u'weather': [{u'main': u'Rain', u'id': 500, u'icon': u'10n', u'description': u'light rain'}], u'dt': 1531602000, u'main': {u'temp_kf': 0, u'temp': 295.94, u'grnd_level': 954.95, u'temp_max': 295.94, u'sea_level': 1013.1, u'humidity': 93, u'pressure': 954.95, u'temp_min': 295.94}, u'wind': {u'speed': 7.71, u'deg': 255.001}}, {u'clouds': {u'all': 64}, u'rain': {u'3h': 0.039999999999999}, u'sys': {u'pod': u'n'}, u'dt_txt': u'2018-07-15 00:00:00', u'weather': [{u'main': u'Rain', u'id': 500, u'icon': u'10n', u'description': u'light rain'}], u'dt': 1531612800, u'main': {u'temp_kf': 0, u'temp': 295.914, u'grnd_level': 954.6, u'temp_max': 295.914, u'sea_level': 1012.82, u'humidity': 92, u'pressure': 954.6, u'temp_min': 295.914}, u'wind': {u'speed': 7.65, u'deg': 256.002}}, {u'clouds': {u'all': 36}, u'rain': {u'3h': 0.079999999999998}, u'sys': {u'pod': u'd'}, u'dt_txt': u'2018-07-15 03:00:00', u'weather': [{u'main': u'Rain', u'id': 500, u'icon': u'10d', u'description': u'light rain'}], u'dt': 1531623600, u'main': {u'temp_kf': 0, u'temp': 298.045, u'grnd_level': 955.98, u'temp_max': 298.045, u'sea_level': 1014.04, u'humidity': 87, u'pressure': 955.98, u'temp_min': 298.045}, u'wind': {u'speed': 8.81, u'deg': 256}}, {u'clouds': {u'all': 12}, u'rain': {u'3h': 0.030000000000001}, u'sys': {u'pod': u'd'}, u'dt_txt': u'2018-07-15 06:00:00', u'weather': [{u'main': u'Rain', u'id': 500, u'icon': u'10d', u'description': u'light rain'}], u'dt': 1531634400, u'main': {u'temp_kf': 0, u'temp': 301.317, u'grnd_level': 955.75, u'temp_max': 301.317, u'sea_level': 1013.66, u'humidity': 76, u'pressure': 955.75, u'temp_min': 301.317}, u'wind': {u'speed': 9.26, u'deg': 262.002}}, {u'clouds': {u'all': 56}, u'rain': {u'3h': 0.21}, u'sys': {u'pod': u'd'}, u'dt_txt': u'2018-07-15 09:00:00', u'weather': [{u'main': u'Rain', u'id': 500, u'icon': u'10d', u'description': u'light rain'}], u'dt': 1531645200, u'main': {u'temp_kf': 0, u'temp': 301.454, u'grnd_level': 954.37, u'temp_max': 301.454, u'sea_level': 1011.9, u'humidity': 73, u'pressure': 954.37, u'temp_min': 301.454}, u'wind': {u'speed': 8.87, u'deg': 260.016}}, {u'clouds': {u'all': 64}, u'rain': {u'3h': 0.079999999999998}, u'sys': {u'pod': u'd'}, u'dt_txt': u'2018-07-15 12:00:00', u'weather': [{u'main': u'Rain', u'id': 500, u'icon': u'10d', u'description': u'light rain'}], u'dt': 1531656000, u'main': {u'temp_kf': 0, u'temp': 299.865, u'grnd_level': 953.8, u'temp_max': 299.865, u'sea_level': 1011.66, u'humidity': 76, u'pressure': 953.8, u'temp_min': 299.865}, u'wind': {u'speed': 8.66, u'deg': 264.501}}, {u'clouds': {u'all': 64}, u'rain': {u'3h': 0.010000000000002}, u'sys': {u'pod': u'n'}, u'dt_txt': u'2018-07-15 15:00:00', u'weather': [{u'main': u'Rain', u'id': 500, u'icon': u'10n', u'description': u'light rain'}], u'dt': 1531666800, u'main': {u'temp_kf': 0, u'temp': 298.159, u'grnd_level': 955.55, u'temp_max': 298.159, u'sea_level': 1013.55, u'humidity': 82, u'pressure': 955.55, u'temp_min': 298.159}, u'wind': {u'speed': 7.11, u'deg': 261.002}}]\n",
      "[{u'clouds': {u'all': 64}, u'rain': {}, u'sys': {u'pod': u'n'}, u'dt_txt': u'2018-07-10 18:00:00', u'weather': [{u'main': u'Clouds', u'id': 803, u'icon': u'04n', u'description': u'broken clouds'}], u'dt': 1531245600, u'main': {u'temp_kf': 0.86, u'temp': 297.51, u'grnd_level': 957.82, u'temp_max': 297.51, u'sea_level': 1016.06, u'humidity': 83, u'pressure': 957.82, u'temp_min': 296.655}, u'wind': {u'speed': 6.73, u'deg': 256.505}}, {u'clouds': {u'all': 24}, u'rain': {}, u'sys': {u'pod': u'n'}, u'dt_txt': u'2018-07-10 21:00:00', u'weather': [{u'main': u'Clouds', u'id': 801, u'icon': u'02n', u'description': u'few clouds'}], u'dt': 1531256400, u'main': {u'temp_kf': 0.64, u'temp': 296.59, u'grnd_level': 956.38, u'temp_max': 296.59, u'sea_level': 1014.7, u'humidity': 85, u'pressure': 956.38, u'temp_min': 295.95}, u'wind': {u'speed': 7.18, u'deg': 257}}, {u'clouds': {u'all': 24}, u'rain': {}, u'sys': {u'pod': u'n'}, u'dt_txt': u'2018-07-11 00:00:00', u'weather': [{u'main': u'Clouds', u'id': 801, u'icon': u'02n', u'description': u'few clouds'}], u'dt': 1531267200, u'main': {u'temp_kf': 0.43, u'temp': 296.37, u'grnd_level': 956.29, u'temp_max': 296.37, u'sea_level': 1014.61, u'humidity': 86, u'pressure': 956.29, u'temp_min': 295.945}, u'wind': {u'speed': 7.37, u'deg': 259.001}}, {u'clouds': {u'all': 68}, u'rain': {u'3h': 0.0024999999999999}, u'sys': {u'pod': u'd'}, u'dt_txt': u'2018-07-11 03:00:00', u'weather': [{u'main': u'Rain', u'id': 500, u'icon': u'10d', u'description': u'light rain'}], u'dt': 1531278000, u'main': {u'temp_kf': 0.21, u'temp': 298.72, u'grnd_level': 957, u'temp_max': 298.72, u'sea_level': 1015.19, u'humidity': 79, u'pressure': 957, u'temp_min': 298.502}, u'wind': {u'speed': 8.93, u'deg': 267.501}}, {u'clouds': {u'all': 36}, u'rain': {}, u'sys': {u'pod': u'd'}, u'dt_txt': u'2018-07-11 06:00:00', u'weather': [{u'main': u'Clouds', u'id': 802, u'icon': u'03d', u'description': u'scattered clouds'}], u'dt': 1531288800, u'main': {u'temp_kf': 0, u'temp': 300.826, u'grnd_level': 957.17, u'temp_max': 300.826, u'sea_level': 1015.26, u'humidity': 71, u'pressure': 957.17, u'temp_min': 300.826}, u'wind': {u'speed': 9.27, u'deg': 265.507}}, {u'clouds': {u'all': 76}, u'rain': {}, u'sys': {u'pod': u'd'}, u'dt_txt': u'2018-07-11 09:00:00', u'weather': [{u'main': u'Clouds', u'id': 803, u'icon': u'04d', u'description': u'broken clouds'}], u'dt': 1531299600, u'main': {u'temp_kf': 0, u'temp': 302.667, u'grnd_level': 955.81, u'temp_max': 302.667, u'sea_level': 1013.7, u'humidity': 62, u'pressure': 955.81, u'temp_min': 302.667}, u'wind': {u'speed': 8.45, u'deg': 269.011}}, {u'clouds': {u'all': 88}, u'rain': {u'3h': 0.865}, u'sys': {u'pod': u'd'}, u'dt_txt': u'2018-07-11 12:00:00', u'weather': [{u'main': u'Rain', u'id': 500, u'icon': u'10d', u'description': u'light rain'}], u'dt': 1531310400, u'main': {u'temp_kf': 0, u'temp': 297.683, u'grnd_level': 955.93, u'temp_max': 297.683, u'sea_level': 1013.99, u'humidity': 88, u'pressure': 955.93, u'temp_min': 297.683}, u'wind': {u'speed': 8.12, u'deg': 270.001}}, {u'clouds': {u'all': 76}, u'rain': {u'3h': 2.215}, u'sys': {u'pod': u'n'}, u'dt_txt': u'2018-07-11 15:00:00', u'weather': [{u'main': u'Rain', u'id': 500, u'icon': u'10n', u'description': u'light rain'}], u'dt': 1531321200, u'main': {u'temp_kf': 0, u'temp': 295.416, u'grnd_level': 957.22, u'temp_max': 295.416, u'sea_level': 1015.61, u'humidity': 94, u'pressure': 957.22, u'temp_min': 295.416}, u'wind': {u'speed': 6.96, u'deg': 258.006}}, {u'clouds': {u'all': 44}, u'rain': {u'3h': 0.0049999999999999}, u'sys': {u'pod': u'n'}, u'dt_txt': u'2018-07-11 18:00:00', u'weather': [{u'main': u'Rain', u'id': 500, u'icon': u'10n', u'description': u'light rain'}], u'dt': 1531332000, u'main': {u'temp_kf': 0, u'temp': 296.096, u'grnd_level': 957.48, u'temp_max': 296.096, u'sea_level': 1015.88, u'humidity': 92, u'pressure': 957.48, u'temp_min': 296.096}, u'wind': {u'speed': 6.7, u'deg': 261.503}}, {u'clouds': {u'all': 48}, u'rain': {u'3h': 0.025}, u'sys': {u'pod': u'n'}, u'dt_txt': u'2018-07-11 21:00:00', u'weather': [{u'main': u'Rain', u'id': 500, u'icon': u'10n', u'description': u'light rain'}], u'dt': 1531342800, u'main': {u'temp_kf': 0, u'temp': 295.844, u'grnd_level': 955.71, u'temp_max': 295.844, u'sea_level': 1013.99, u'humidity': 91, u'pressure': 955.71, u'temp_min': 295.844}, u'wind': {u'speed': 7.87, u'deg': 260.503}}, {u'clouds': {u'all': 88}, u'rain': {u'3h': 0.115}, u'sys': {u'pod': u'n'}, u'dt_txt': u'2018-07-12 00:00:00', u'weather': [{u'main': u'Rain', u'id': 500, u'icon': u'10n', u'description': u'light rain'}], u'dt': 1531353600, u'main': {u'temp_kf': 0, u'temp': 295.988, u'grnd_level': 955.22, u'temp_max': 295.988, u'sea_level': 1013.54, u'humidity': 90, u'pressure': 955.22, u'temp_min': 295.988}, u'wind': {u'speed': 8.51, u'deg': 262.5}}, {u'clouds': {u'all': 76}, u'rain': {u'3h': 0.045}, u'sys': {u'pod': u'd'}, u'dt_txt': u'2018-07-12 03:00:00', u'weather': [{u'main': u'Rain', u'id': 500, u'icon': u'10d', u'description': u'light rain'}], u'dt': 1531364400, u'main': {u'temp_kf': 0, u'temp': 297.902, u'grnd_level': 956.65, u'temp_max': 297.902, u'sea_level': 1014.86, u'humidity': 82, u'pressure': 956.65, u'temp_min': 297.902}, u'wind': {u'speed': 8.96, u'deg': 262.503}}, {u'clouds': {u'all': 76}, u'rain': {u'3h': 0.015}, u'sys': {u'pod': u'd'}, u'dt_txt': u'2018-07-12 06:00:00', u'weather': [{u'main': u'Rain', u'id': 500, u'icon': u'10d', u'description': u'light rain'}], u'dt': 1531375200, u'main': {u'temp_kf': 0, u'temp': 299.813, u'grnd_level': 957.09, u'temp_max': 299.813, u'sea_level': 1015.11, u'humidity': 74, u'pressure': 957.09, u'temp_min': 299.813}, u'wind': {u'speed': 9.81, u'deg': 267.501}}, {u'clouds': {u'all': 76}, u'rain': {}, u'sys': {u'pod': u'd'}, u'dt_txt': u'2018-07-12 09:00:00', u'weather': [{u'main': u'Clouds', u'id': 803, u'icon': u'04d', u'description': u'broken clouds'}], u'dt': 1531386000, u'main': {u'temp_kf': 0, u'temp': 301.437, u'grnd_level': 955.39, u'temp_max': 301.437, u'sea_level': 1013.31, u'humidity': 66, u'pressure': 955.39, u'temp_min': 301.437}, u'wind': {u'speed': 9.17, u'deg': 271.501}}, {u'clouds': {u'all': 92}, u'rain': {u'3h': 0.45}, u'sys': {u'pod': u'd'}, u'dt_txt': u'2018-07-12 12:00:00', u'weather': [{u'main': u'Rain', u'id': 500, u'icon': u'10d', u'description': u'light rain'}], u'dt': 1531396800, u'main': {u'temp_kf': 0, u'temp': 298.899, u'grnd_level': 955.43, u'temp_max': 298.899, u'sea_level': 1013.45, u'humidity': 79, u'pressure': 955.43, u'temp_min': 298.899}, u'wind': {u'speed': 8.11, u'deg': 267.5}}, {u'clouds': {u'all': 92}, u'rain': {u'3h': 0.14}, u'sys': {u'pod': u'n'}, u'dt_txt': u'2018-07-12 15:00:00', u'weather': [{u'main': u'Rain', u'id': 500, u'icon': u'10n', u'description': u'light rain'}], u'dt': 1531407600, u'main': {u'temp_kf': 0, u'temp': 297.899, u'grnd_level': 956.87, u'temp_max': 297.899, u'sea_level': 1015.05, u'humidity': 82, u'pressure': 956.87, u'temp_min': 297.899}, u'wind': {u'speed': 7.98, u'deg': 259.502}}, {u'clouds': {u'all': 92}, u'rain': {u'3h': 1.52}, u'sys': {u'pod': u'n'}, u'dt_txt': u'2018-07-12 18:00:00', u'weather': [{u'main': u'Rain', u'id': 500, u'icon': u'10n', u'description': u'light rain'}], u'dt': 1531418400, u'main': {u'temp_kf': 0, u'temp': 295.953, u'grnd_level': 957.06, u'temp_max': 295.953, u'sea_level': 1015.33, u'humidity': 94, u'pressure': 957.06, u'temp_min': 295.953}, u'wind': {u'speed': 7.45, u'deg': 258.002}}, {u'clouds': {u'all': 92}, u'rain': {u'3h': 0.47}, u'sys': {u'pod': u'n'}, u'dt_txt': u'2018-07-12 21:00:00', u'weather': [{u'main': u'Rain', u'id': 500, u'icon': u'10n', u'description': u'light rain'}], u'dt': 1531429200, u'main': {u'temp_kf': 0, u'temp': 295.867, u'grnd_level': 955.46, u'temp_max': 295.867, u'sea_level': 1013.66, u'humidity': 93, u'pressure': 955.46, u'temp_min': 295.867}, u'wind': {u'speed': 7.91, u'deg': 256.502}}, {u'clouds': {u'all': 76}, u'rain': {u'3h': 0.14}, u'sys': {u'pod': u'n'}, u'dt_txt': u'2018-07-13 00:00:00', u'weather': [{u'main': u'Rain', u'id': 500, u'icon': u'10n', u'description': u'light rain'}], u'dt': 1531440000, u'main': {u'temp_kf': 0, u'temp': 296.245, u'grnd_level': 955.39, u'temp_max': 296.245, u'sea_level': 1013.61, u'humidity': 89, u'pressure': 955.39, u'temp_min': 296.245}, u'wind': {u'speed': 7.91, u'deg': 262.508}}, {u'clouds': {u'all': 64}, u'rain': {u'3h': 0.94}, u'sys': {u'pod': u'd'}, u'dt_txt': u'2018-07-13 03:00:00', u'weather': [{u'main': u'Rain', u'id': 500, u'icon': u'10d', u'description': u'light rain'}], u'dt': 1531450800, u'main': {u'temp_kf': 0, u'temp': 297.348, u'grnd_level': 956.45, u'temp_max': 297.348, u'sea_level': 1014.76, u'humidity': 85, u'pressure': 956.45, u'temp_min': 297.348}, u'wind': {u'speed': 8.51, u'deg': 266.502}}, {u'clouds': {u'all': 76}, u'rain': {}, u'sys': {u'pod': u'd'}, u'dt_txt': u'2018-07-13 06:00:00', u'weather': [{u'main': u'Clouds', u'id': 803, u'icon': u'04d', u'description': u'broken clouds'}], u'dt': 1531461600, u'main': {u'temp_kf': 0, u'temp': 300.797, u'grnd_level': 956.46, u'temp_max': 300.797, u'sea_level': 1014.45, u'humidity': 69, u'pressure': 956.46, u'temp_min': 300.797}, u'wind': {u'speed': 9.67, u'deg': 271.505}}, {u'clouds': {u'all': 92}, u'rain': {u'3h': 0.09}, u'sys': {u'pod': u'd'}, u'dt_txt': u'2018-07-13 09:00:00', u'weather': [{u'main': u'Rain', u'id': 500, u'icon': u'10d', u'description': u'light rain'}], u'dt': 1531472400, u'main': {u'temp_kf': 0, u'temp': 300.426, u'grnd_level': 955.32, u'temp_max': 300.426, u'sea_level': 1013.3, u'humidity': 71, u'pressure': 955.32, u'temp_min': 300.426}, u'wind': {u'speed': 9.21, u'deg': 272.001}}, {u'clouds': {u'all': 92}, u'rain': {u'3h': 0.14}, u'sys': {u'pod': u'd'}, u'dt_txt': u'2018-07-13 12:00:00', u'weather': [{u'main': u'Rain', u'id': 500, u'icon': u'10d', u'description': u'light rain'}], u'dt': 1531483200, u'main': {u'temp_kf': 0, u'temp': 300.62, u'grnd_level': 954.84, u'temp_max': 300.62, u'sea_level': 1012.82, u'humidity': 71, u'pressure': 954.84, u'temp_min': 300.62}, u'wind': {u'speed': 8.16, u'deg': 268.5}}, {u'clouds': {u'all': 100}, u'rain': {u'3h': 2.85}, u'sys': {u'pod': u'n'}, u'dt_txt': u'2018-07-13 15:00:00', u'weather': [{u'main': u'Rain', u'id': 500, u'icon': u'10n', u'description': u'light rain'}], u'dt': 1531494000, u'main': {u'temp_kf': 0, u'temp': 296.056, u'grnd_level': 956.69, u'temp_max': 296.056, u'sea_level': 1014.71, u'humidity': 95, u'pressure': 956.69, u'temp_min': 296.056}, u'wind': {u'speed': 5.91, u'deg': 277}}, {u'clouds': {u'all': 56}, u'rain': {u'3h': 0.45}, u'sys': {u'pod': u'n'}, u'dt_txt': u'2018-07-13 18:00:00', u'weather': [{u'main': u'Rain', u'id': 500, u'icon': u'10n', u'description': u'light rain'}], u'dt': 1531504800, u'main': {u'temp_kf': 0, u'temp': 295.872, u'grnd_level': 956.71, u'temp_max': 295.872, u'sea_level': 1015.04, u'humidity': 96, u'pressure': 956.71, u'temp_min': 295.872}, u'wind': {u'speed': 5.26, u'deg': 258.002}}, {u'clouds': {u'all': 56}, u'rain': {u'3h': 0.020000000000001}, u'sys': {u'pod': u'n'}, u'dt_txt': u'2018-07-13 21:00:00', u'weather': [{u'main': u'Rain', u'id': 500, u'icon': u'10n', u'description': u'light rain'}], u'dt': 1531515600, u'main': {u'temp_kf': 0, u'temp': 295.795, u'grnd_level': 955.33, u'temp_max': 295.795, u'sea_level': 1013.53, u'humidity': 94, u'pressure': 955.33, u'temp_min': 295.795}, u'wind': {u'speed': 6.27, u'deg': 256.502}}, {u'clouds': {u'all': 68}, u'rain': {}, u'sys': {u'pod': u'n'}, u'dt_txt': u'2018-07-14 00:00:00', u'weather': [{u'main': u'Clouds', u'id': 803, u'icon': u'04n', u'description': u'broken clouds'}], u'dt': 1531526400, u'main': {u'temp_kf': 0, u'temp': 295.834, u'grnd_level': 955.18, u'temp_max': 295.834, u'sea_level': 1013.4, u'humidity': 93, u'pressure': 955.18, u'temp_min': 295.834}, u'wind': {u'speed': 6.61, u'deg': 258.002}}, {u'clouds': {u'all': 68}, u'rain': {u'3h': 0.08}, u'sys': {u'pod': u'd'}, u'dt_txt': u'2018-07-14 03:00:00', u'weather': [{u'main': u'Rain', u'id': 500, u'icon': u'10d', u'description': u'light rain'}], u'dt': 1531537200, u'main': {u'temp_kf': 0, u'temp': 298.286, u'grnd_level': 956.35, u'temp_max': 298.286, u'sea_level': 1014.45, u'humidity': 83, u'pressure': 956.35, u'temp_min': 298.286}, u'wind': {u'speed': 7.97, u'deg': 263.003}}, {u'clouds': {u'all': 56}, u'rain': {u'3h': 0.1}, u'sys': {u'pod': u'd'}, u'dt_txt': u'2018-07-14 06:00:00', u'weather': [{u'main': u'Rain', u'id': 500, u'icon': u'10d', u'description': u'light rain'}], u'dt': 1531548000, u'main': {u'temp_kf': 0, u'temp': 300.447, u'grnd_level': 956.59, u'temp_max': 300.447, u'sea_level': 1014.52, u'humidity': 75, u'pressure': 956.59, u'temp_min': 300.447}, u'wind': {u'speed': 8.11, u'deg': 268.501}}, {u'clouds': {u'all': 76}, u'rain': {u'3h': 0.02}, u'sys': {u'pod': u'd'}, u'dt_txt': u'2018-07-14 09:00:00', u'weather': [{u'main': u'Rain', u'id': 500, u'icon': u'10d', u'description': u'light rain'}], u'dt': 1531558800, u'main': {u'temp_kf': 0, u'temp': 301.98, u'grnd_level': 954.69, u'temp_max': 301.98, u'sea_level': 1012.41, u'humidity': 67, u'pressure': 954.69, u'temp_min': 301.98}, u'wind': {u'speed': 7.28, u'deg': 270.001}}, {u'clouds': {u'all': 80}, u'rain': {u'3h': 4.61}, u'sys': {u'pod': u'd'}, u'dt_txt': u'2018-07-14 12:00:00', u'weather': [{u'main': u'Rain', u'id': 501, u'icon': u'10d', u'description': u'moderate rain'}], u'dt': 1531569600, u'main': {u'temp_kf': 0, u'temp': 296.547, u'grnd_level': 954.54, u'temp_max': 296.547, u'sea_level': 1012.59, u'humidity': 93, u'pressure': 954.54, u'temp_min': 296.547}, u'wind': {u'speed': 5.27, u'deg': 266.501}}, {u'clouds': {u'all': 92}, u'rain': {u'3h': 4.63}, u'sys': {u'pod': u'n'}, u'dt_txt': u'2018-07-14 15:00:00', u'weather': [{u'main': u'Rain', u'id': 501, u'icon': u'10n', u'description': u'moderate rain'}], u'dt': 1531580400, u'main': {u'temp_kf': 0, u'temp': 294.932, u'grnd_level': 956.5, u'temp_max': 294.932, u'sea_level': 1014.62, u'humidity': 98, u'pressure': 956.5, u'temp_min': 294.932}, u'wind': {u'speed': 5.57, u'deg': 255.505}}, {u'clouds': {u'all': 92}, u'rain': {u'3h': 0.11}, u'sys': {u'pod': u'n'}, u'dt_txt': u'2018-07-14 18:00:00', u'weather': [{u'main': u'Rain', u'id': 500, u'icon': u'10n', u'description': u'light rain'}], u'dt': 1531591200, u'main': {u'temp_kf': 0, u'temp': 295.797, u'grnd_level': 956.39, u'temp_max': 295.797, u'sea_level': 1014.74, u'humidity': 95, u'pressure': 956.39, u'temp_min': 295.797}, u'wind': {u'speed': 6.12, u'deg': 254.502}}, {u'clouds': {u'all': 80}, u'rain': {u'3h': 0.02}, u'sys': {u'pod': u'n'}, u'dt_txt': u'2018-07-14 21:00:00', u'weather': [{u'main': u'Rain', u'id': 500, u'icon': u'10n', u'description': u'light rain'}], u'dt': 1531602000, u'main': {u'temp_kf': 0, u'temp': 295.94, u'grnd_level': 954.95, u'temp_max': 295.94, u'sea_level': 1013.1, u'humidity': 93, u'pressure': 954.95, u'temp_min': 295.94}, u'wind': {u'speed': 7.71, u'deg': 255.001}}, {u'clouds': {u'all': 64}, u'rain': {u'3h': 0.039999999999999}, u'sys': {u'pod': u'n'}, u'dt_txt': u'2018-07-15 00:00:00', u'weather': [{u'main': u'Rain', u'id': 500, u'icon': u'10n', u'description': u'light rain'}], u'dt': 1531612800, u'main': {u'temp_kf': 0, u'temp': 295.914, u'grnd_level': 954.6, u'temp_max': 295.914, u'sea_level': 1012.82, u'humidity': 92, u'pressure': 954.6, u'temp_min': 295.914}, u'wind': {u'speed': 7.65, u'deg': 256.002}}, {u'clouds': {u'all': 36}, u'rain': {u'3h': 0.079999999999998}, u'sys': {u'pod': u'd'}, u'dt_txt': u'2018-07-15 03:00:00', u'weather': [{u'main': u'Rain', u'id': 500, u'icon': u'10d', u'description': u'light rain'}], u'dt': 1531623600, u'main': {u'temp_kf': 0, u'temp': 298.045, u'grnd_level': 955.98, u'temp_max': 298.045, u'sea_level': 1014.04, u'humidity': 87, u'pressure': 955.98, u'temp_min': 298.045}, u'wind': {u'speed': 8.81, u'deg': 256}}, {u'clouds': {u'all': 12}, u'rain': {u'3h': 0.030000000000001}, u'sys': {u'pod': u'd'}, u'dt_txt': u'2018-07-15 06:00:00', u'weather': [{u'main': u'Rain', u'id': 500, u'icon': u'10d', u'description': u'light rain'}], u'dt': 1531634400, u'main': {u'temp_kf': 0, u'temp': 301.317, u'grnd_level': 955.75, u'temp_max': 301.317, u'sea_level': 1013.66, u'humidity': 76, u'pressure': 955.75, u'temp_min': 301.317}, u'wind': {u'speed': 9.26, u'deg': 262.002}}, {u'clouds': {u'all': 56}, u'rain': {u'3h': 0.21}, u'sys': {u'pod': u'd'}, u'dt_txt': u'2018-07-15 09:00:00', u'weather': [{u'main': u'Rain', u'id': 500, u'icon': u'10d', u'description': u'light rain'}], u'dt': 1531645200, u'main': {u'temp_kf': 0, u'temp': 301.454, u'grnd_level': 954.37, u'temp_max': 301.454, u'sea_level': 1011.9, u'humidity': 73, u'pressure': 954.37, u'temp_min': 301.454}, u'wind': {u'speed': 8.87, u'deg': 260.016}}, {u'clouds': {u'all': 64}, u'rain': {u'3h': 0.079999999999998}, u'sys': {u'pod': u'd'}, u'dt_txt': u'2018-07-15 12:00:00', u'weather': [{u'main': u'Rain', u'id': 500, u'icon': u'10d', u'description': u'light rain'}], u'dt': 1531656000, u'main': {u'temp_kf': 0, u'temp': 299.865, u'grnd_level': 953.8, u'temp_max': 299.865, u'sea_level': 1011.66, u'humidity': 76, u'pressure': 953.8, u'temp_min': 299.865}, u'wind': {u'speed': 8.66, u'deg': 264.501}}, {u'clouds': {u'all': 64}, u'rain': {u'3h': 0.010000000000002}, u'sys': {u'pod': u'n'}, u'dt_txt': u'2018-07-15 15:00:00', u'weather': [{u'main': u'Rain', u'id': 500, u'icon': u'10n', u'description': u'light rain'}], u'dt': 1531666800, u'main': {u'temp_kf': 0, u'temp': 298.159, u'grnd_level': 955.55, u'temp_max': 298.159, u'sea_level': 1013.55, u'humidity': 82, u'pressure': 955.55, u'temp_min': 298.159}, u'wind': {u'speed': 7.11, u'deg': 261.002}}]\n",
      "[{u'clouds': {u'all': 64}, u'rain': {}, u'sys': {u'pod': u'n'}, u'dt_txt': u'2018-07-10 18:00:00', u'weather': [{u'main': u'Clouds', u'id': 803, u'icon': u'04n', u'description': u'broken clouds'}], u'dt': 1531245600, u'main': {u'temp_kf': 0.86, u'temp': 297.51, u'grnd_level': 957.82, u'temp_max': 297.51, u'sea_level': 1016.06, u'humidity': 83, u'pressure': 957.82, u'temp_min': 296.655}, u'wind': {u'speed': 6.73, u'deg': 256.505}}, {u'clouds': {u'all': 24}, u'rain': {}, u'sys': {u'pod': u'n'}, u'dt_txt': u'2018-07-10 21:00:00', u'weather': [{u'main': u'Clouds', u'id': 801, u'icon': u'02n', u'description': u'few clouds'}], u'dt': 1531256400, u'main': {u'temp_kf': 0.64, u'temp': 296.59, u'grnd_level': 956.38, u'temp_max': 296.59, u'sea_level': 1014.7, u'humidity': 85, u'pressure': 956.38, u'temp_min': 295.95}, u'wind': {u'speed': 7.18, u'deg': 257}}, {u'clouds': {u'all': 24}, u'rain': {}, u'sys': {u'pod': u'n'}, u'dt_txt': u'2018-07-11 00:00:00', u'weather': [{u'main': u'Clouds', u'id': 801, u'icon': u'02n', u'description': u'few clouds'}], u'dt': 1531267200, u'main': {u'temp_kf': 0.43, u'temp': 296.37, u'grnd_level': 956.29, u'temp_max': 296.37, u'sea_level': 1014.61, u'humidity': 86, u'pressure': 956.29, u'temp_min': 295.945}, u'wind': {u'speed': 7.37, u'deg': 259.001}}, {u'clouds': {u'all': 68}, u'rain': {u'3h': 0.0024999999999999}, u'sys': {u'pod': u'd'}, u'dt_txt': u'2018-07-11 03:00:00', u'weather': [{u'main': u'Rain', u'id': 500, u'icon': u'10d', u'description': u'light rain'}], u'dt': 1531278000, u'main': {u'temp_kf': 0.21, u'temp': 298.72, u'grnd_level': 957, u'temp_max': 298.72, u'sea_level': 1015.19, u'humidity': 79, u'pressure': 957, u'temp_min': 298.502}, u'wind': {u'speed': 8.93, u'deg': 267.501}}, {u'clouds': {u'all': 36}, u'rain': {}, u'sys': {u'pod': u'd'}, u'dt_txt': u'2018-07-11 06:00:00', u'weather': [{u'main': u'Clouds', u'id': 802, u'icon': u'03d', u'description': u'scattered clouds'}], u'dt': 1531288800, u'main': {u'temp_kf': 0, u'temp': 300.826, u'grnd_level': 957.17, u'temp_max': 300.826, u'sea_level': 1015.26, u'humidity': 71, u'pressure': 957.17, u'temp_min': 300.826}, u'wind': {u'speed': 9.27, u'deg': 265.507}}, {u'clouds': {u'all': 76}, u'rain': {}, u'sys': {u'pod': u'd'}, u'dt_txt': u'2018-07-11 09:00:00', u'weather': [{u'main': u'Clouds', u'id': 803, u'icon': u'04d', u'description': u'broken clouds'}], u'dt': 1531299600, u'main': {u'temp_kf': 0, u'temp': 302.667, u'grnd_level': 955.81, u'temp_max': 302.667, u'sea_level': 1013.7, u'humidity': 62, u'pressure': 955.81, u'temp_min': 302.667}, u'wind': {u'speed': 8.45, u'deg': 269.011}}, {u'clouds': {u'all': 88}, u'rain': {u'3h': 0.865}, u'sys': {u'pod': u'd'}, u'dt_txt': u'2018-07-11 12:00:00', u'weather': [{u'main': u'Rain', u'id': 500, u'icon': u'10d', u'description': u'light rain'}], u'dt': 1531310400, u'main': {u'temp_kf': 0, u'temp': 297.683, u'grnd_level': 955.93, u'temp_max': 297.683, u'sea_level': 1013.99, u'humidity': 88, u'pressure': 955.93, u'temp_min': 297.683}, u'wind': {u'speed': 8.12, u'deg': 270.001}}, {u'clouds': {u'all': 76}, u'rain': {u'3h': 2.215}, u'sys': {u'pod': u'n'}, u'dt_txt': u'2018-07-11 15:00:00', u'weather': [{u'main': u'Rain', u'id': 500, u'icon': u'10n', u'description': u'light rain'}], u'dt': 1531321200, u'main': {u'temp_kf': 0, u'temp': 295.416, u'grnd_level': 957.22, u'temp_max': 295.416, u'sea_level': 1015.61, u'humidity': 94, u'pressure': 957.22, u'temp_min': 295.416}, u'wind': {u'speed': 6.96, u'deg': 258.006}}, {u'clouds': {u'all': 44}, u'rain': {u'3h': 0.0049999999999999}, u'sys': {u'pod': u'n'}, u'dt_txt': u'2018-07-11 18:00:00', u'weather': [{u'main': u'Rain', u'id': 500, u'icon': u'10n', u'description': u'light rain'}], u'dt': 1531332000, u'main': {u'temp_kf': 0, u'temp': 296.096, u'grnd_level': 957.48, u'temp_max': 296.096, u'sea_level': 1015.88, u'humidity': 92, u'pressure': 957.48, u'temp_min': 296.096}, u'wind': {u'speed': 6.7, u'deg': 261.503}}, {u'clouds': {u'all': 48}, u'rain': {u'3h': 0.025}, u'sys': {u'pod': u'n'}, u'dt_txt': u'2018-07-11 21:00:00', u'weather': [{u'main': u'Rain', u'id': 500, u'icon': u'10n', u'description': u'light rain'}], u'dt': 1531342800, u'main': {u'temp_kf': 0, u'temp': 295.844, u'grnd_level': 955.71, u'temp_max': 295.844, u'sea_level': 1013.99, u'humidity': 91, u'pressure': 955.71, u'temp_min': 295.844}, u'wind': {u'speed': 7.87, u'deg': 260.503}}, {u'clouds': {u'all': 88}, u'rain': {u'3h': 0.115}, u'sys': {u'pod': u'n'}, u'dt_txt': u'2018-07-12 00:00:00', u'weather': [{u'main': u'Rain', u'id': 500, u'icon': u'10n', u'description': u'light rain'}], u'dt': 1531353600, u'main': {u'temp_kf': 0, u'temp': 295.988, u'grnd_level': 955.22, u'temp_max': 295.988, u'sea_level': 1013.54, u'humidity': 90, u'pressure': 955.22, u'temp_min': 295.988}, u'wind': {u'speed': 8.51, u'deg': 262.5}}, {u'clouds': {u'all': 76}, u'rain': {u'3h': 0.045}, u'sys': {u'pod': u'd'}, u'dt_txt': u'2018-07-12 03:00:00', u'weather': [{u'main': u'Rain', u'id': 500, u'icon': u'10d', u'description': u'light rain'}], u'dt': 1531364400, u'main': {u'temp_kf': 0, u'temp': 297.902, u'grnd_level': 956.65, u'temp_max': 297.902, u'sea_level': 1014.86, u'humidity': 82, u'pressure': 956.65, u'temp_min': 297.902}, u'wind': {u'speed': 8.96, u'deg': 262.503}}, {u'clouds': {u'all': 76}, u'rain': {u'3h': 0.015}, u'sys': {u'pod': u'd'}, u'dt_txt': u'2018-07-12 06:00:00', u'weather': [{u'main': u'Rain', u'id': 500, u'icon': u'10d', u'description': u'light rain'}], u'dt': 1531375200, u'main': {u'temp_kf': 0, u'temp': 299.813, u'grnd_level': 957.09, u'temp_max': 299.813, u'sea_level': 1015.11, u'humidity': 74, u'pressure': 957.09, u'temp_min': 299.813}, u'wind': {u'speed': 9.81, u'deg': 267.501}}, {u'clouds': {u'all': 76}, u'rain': {}, u'sys': {u'pod': u'd'}, u'dt_txt': u'2018-07-12 09:00:00', u'weather': [{u'main': u'Clouds', u'id': 803, u'icon': u'04d', u'description': u'broken clouds'}], u'dt': 1531386000, u'main': {u'temp_kf': 0, u'temp': 301.437, u'grnd_level': 955.39, u'temp_max': 301.437, u'sea_level': 1013.31, u'humidity': 66, u'pressure': 955.39, u'temp_min': 301.437}, u'wind': {u'speed': 9.17, u'deg': 271.501}}, {u'clouds': {u'all': 92}, u'rain': {u'3h': 0.45}, u'sys': {u'pod': u'd'}, u'dt_txt': u'2018-07-12 12:00:00', u'weather': [{u'main': u'Rain', u'id': 500, u'icon': u'10d', u'description': u'light rain'}], u'dt': 1531396800, u'main': {u'temp_kf': 0, u'temp': 298.899, u'grnd_level': 955.43, u'temp_max': 298.899, u'sea_level': 1013.45, u'humidity': 79, u'pressure': 955.43, u'temp_min': 298.899}, u'wind': {u'speed': 8.11, u'deg': 267.5}}, {u'clouds': {u'all': 92}, u'rain': {u'3h': 0.14}, u'sys': {u'pod': u'n'}, u'dt_txt': u'2018-07-12 15:00:00', u'weather': [{u'main': u'Rain', u'id': 500, u'icon': u'10n', u'description': u'light rain'}], u'dt': 1531407600, u'main': {u'temp_kf': 0, u'temp': 297.899, u'grnd_level': 956.87, u'temp_max': 297.899, u'sea_level': 1015.05, u'humidity': 82, u'pressure': 956.87, u'temp_min': 297.899}, u'wind': {u'speed': 7.98, u'deg': 259.502}}, {u'clouds': {u'all': 92}, u'rain': {u'3h': 1.52}, u'sys': {u'pod': u'n'}, u'dt_txt': u'2018-07-12 18:00:00', u'weather': [{u'main': u'Rain', u'id': 500, u'icon': u'10n', u'description': u'light rain'}], u'dt': 1531418400, u'main': {u'temp_kf': 0, u'temp': 295.953, u'grnd_level': 957.06, u'temp_max': 295.953, u'sea_level': 1015.33, u'humidity': 94, u'pressure': 957.06, u'temp_min': 295.953}, u'wind': {u'speed': 7.45, u'deg': 258.002}}, {u'clouds': {u'all': 92}, u'rain': {u'3h': 0.47}, u'sys': {u'pod': u'n'}, u'dt_txt': u'2018-07-12 21:00:00', u'weather': [{u'main': u'Rain', u'id': 500, u'icon': u'10n', u'description': u'light rain'}], u'dt': 1531429200, u'main': {u'temp_kf': 0, u'temp': 295.867, u'grnd_level': 955.46, u'temp_max': 295.867, u'sea_level': 1013.66, u'humidity': 93, u'pressure': 955.46, u'temp_min': 295.867}, u'wind': {u'speed': 7.91, u'deg': 256.502}}, {u'clouds': {u'all': 76}, u'rain': {u'3h': 0.14}, u'sys': {u'pod': u'n'}, u'dt_txt': u'2018-07-13 00:00:00', u'weather': [{u'main': u'Rain', u'id': 500, u'icon': u'10n', u'description': u'light rain'}], u'dt': 1531440000, u'main': {u'temp_kf': 0, u'temp': 296.245, u'grnd_level': 955.39, u'temp_max': 296.245, u'sea_level': 1013.61, u'humidity': 89, u'pressure': 955.39, u'temp_min': 296.245}, u'wind': {u'speed': 7.91, u'deg': 262.508}}, {u'clouds': {u'all': 64}, u'rain': {u'3h': 0.94}, u'sys': {u'pod': u'd'}, u'dt_txt': u'2018-07-13 03:00:00', u'weather': [{u'main': u'Rain', u'id': 500, u'icon': u'10d', u'description': u'light rain'}], u'dt': 1531450800, u'main': {u'temp_kf': 0, u'temp': 297.348, u'grnd_level': 956.45, u'temp_max': 297.348, u'sea_level': 1014.76, u'humidity': 85, u'pressure': 956.45, u'temp_min': 297.348}, u'wind': {u'speed': 8.51, u'deg': 266.502}}, {u'clouds': {u'all': 76}, u'rain': {}, u'sys': {u'pod': u'd'}, u'dt_txt': u'2018-07-13 06:00:00', u'weather': [{u'main': u'Clouds', u'id': 803, u'icon': u'04d', u'description': u'broken clouds'}], u'dt': 1531461600, u'main': {u'temp_kf': 0, u'temp': 300.797, u'grnd_level': 956.46, u'temp_max': 300.797, u'sea_level': 1014.45, u'humidity': 69, u'pressure': 956.46, u'temp_min': 300.797}, u'wind': {u'speed': 9.67, u'deg': 271.505}}, {u'clouds': {u'all': 92}, u'rain': {u'3h': 0.09}, u'sys': {u'pod': u'd'}, u'dt_txt': u'2018-07-13 09:00:00', u'weather': [{u'main': u'Rain', u'id': 500, u'icon': u'10d', u'description': u'light rain'}], u'dt': 1531472400, u'main': {u'temp_kf': 0, u'temp': 300.426, u'grnd_level': 955.32, u'temp_max': 300.426, u'sea_level': 1013.3, u'humidity': 71, u'pressure': 955.32, u'temp_min': 300.426}, u'wind': {u'speed': 9.21, u'deg': 272.001}}, {u'clouds': {u'all': 92}, u'rain': {u'3h': 0.14}, u'sys': {u'pod': u'd'}, u'dt_txt': u'2018-07-13 12:00:00', u'weather': [{u'main': u'Rain', u'id': 500, u'icon': u'10d', u'description': u'light rain'}], u'dt': 1531483200, u'main': {u'temp_kf': 0, u'temp': 300.62, u'grnd_level': 954.84, u'temp_max': 300.62, u'sea_level': 1012.82, u'humidity': 71, u'pressure': 954.84, u'temp_min': 300.62}, u'wind': {u'speed': 8.16, u'deg': 268.5}}, {u'clouds': {u'all': 100}, u'rain': {u'3h': 2.85}, u'sys': {u'pod': u'n'}, u'dt_txt': u'2018-07-13 15:00:00', u'weather': [{u'main': u'Rain', u'id': 500, u'icon': u'10n', u'description': u'light rain'}], u'dt': 1531494000, u'main': {u'temp_kf': 0, u'temp': 296.056, u'grnd_level': 956.69, u'temp_max': 296.056, u'sea_level': 1014.71, u'humidity': 95, u'pressure': 956.69, u'temp_min': 296.056}, u'wind': {u'speed': 5.91, u'deg': 277}}, {u'clouds': {u'all': 56}, u'rain': {u'3h': 0.45}, u'sys': {u'pod': u'n'}, u'dt_txt': u'2018-07-13 18:00:00', u'weather': [{u'main': u'Rain', u'id': 500, u'icon': u'10n', u'description': u'light rain'}], u'dt': 1531504800, u'main': {u'temp_kf': 0, u'temp': 295.872, u'grnd_level': 956.71, u'temp_max': 295.872, u'sea_level': 1015.04, u'humidity': 96, u'pressure': 956.71, u'temp_min': 295.872}, u'wind': {u'speed': 5.26, u'deg': 258.002}}, {u'clouds': {u'all': 56}, u'rain': {u'3h': 0.020000000000001}, u'sys': {u'pod': u'n'}, u'dt_txt': u'2018-07-13 21:00:00', u'weather': [{u'main': u'Rain', u'id': 500, u'icon': u'10n', u'description': u'light rain'}], u'dt': 1531515600, u'main': {u'temp_kf': 0, u'temp': 295.795, u'grnd_level': 955.33, u'temp_max': 295.795, u'sea_level': 1013.53, u'humidity': 94, u'pressure': 955.33, u'temp_min': 295.795}, u'wind': {u'speed': 6.27, u'deg': 256.502}}, {u'clouds': {u'all': 68}, u'rain': {}, u'sys': {u'pod': u'n'}, u'dt_txt': u'2018-07-14 00:00:00', u'weather': [{u'main': u'Clouds', u'id': 803, u'icon': u'04n', u'description': u'broken clouds'}], u'dt': 1531526400, u'main': {u'temp_kf': 0, u'temp': 295.834, u'grnd_level': 955.18, u'temp_max': 295.834, u'sea_level': 1013.4, u'humidity': 93, u'pressure': 955.18, u'temp_min': 295.834}, u'wind': {u'speed': 6.61, u'deg': 258.002}}, {u'clouds': {u'all': 68}, u'rain': {u'3h': 0.08}, u'sys': {u'pod': u'd'}, u'dt_txt': u'2018-07-14 03:00:00', u'weather': [{u'main': u'Rain', u'id': 500, u'icon': u'10d', u'description': u'light rain'}], u'dt': 1531537200, u'main': {u'temp_kf': 0, u'temp': 298.286, u'grnd_level': 956.35, u'temp_max': 298.286, u'sea_level': 1014.45, u'humidity': 83, u'pressure': 956.35, u'temp_min': 298.286}, u'wind': {u'speed': 7.97, u'deg': 263.003}}, {u'clouds': {u'all': 56}, u'rain': {u'3h': 0.1}, u'sys': {u'pod': u'd'}, u'dt_txt': u'2018-07-14 06:00:00', u'weather': [{u'main': u'Rain', u'id': 500, u'icon': u'10d', u'description': u'light rain'}], u'dt': 1531548000, u'main': {u'temp_kf': 0, u'temp': 300.447, u'grnd_level': 956.59, u'temp_max': 300.447, u'sea_level': 1014.52, u'humidity': 75, u'pressure': 956.59, u'temp_min': 300.447}, u'wind': {u'speed': 8.11, u'deg': 268.501}}, {u'clouds': {u'all': 76}, u'rain': {u'3h': 0.02}, u'sys': {u'pod': u'd'}, u'dt_txt': u'2018-07-14 09:00:00', u'weather': [{u'main': u'Rain', u'id': 500, u'icon': u'10d', u'description': u'light rain'}], u'dt': 1531558800, u'main': {u'temp_kf': 0, u'temp': 301.98, u'grnd_level': 954.69, u'temp_max': 301.98, u'sea_level': 1012.41, u'humidity': 67, u'pressure': 954.69, u'temp_min': 301.98}, u'wind': {u'speed': 7.28, u'deg': 270.001}}, {u'clouds': {u'all': 80}, u'rain': {u'3h': 4.61}, u'sys': {u'pod': u'd'}, u'dt_txt': u'2018-07-14 12:00:00', u'weather': [{u'main': u'Rain', u'id': 501, u'icon': u'10d', u'description': u'moderate rain'}], u'dt': 1531569600, u'main': {u'temp_kf': 0, u'temp': 296.547, u'grnd_level': 954.54, u'temp_max': 296.547, u'sea_level': 1012.59, u'humidity': 93, u'pressure': 954.54, u'temp_min': 296.547}, u'wind': {u'speed': 5.27, u'deg': 266.501}}, {u'clouds': {u'all': 92}, u'rain': {u'3h': 4.63}, u'sys': {u'pod': u'n'}, u'dt_txt': u'2018-07-14 15:00:00', u'weather': [{u'main': u'Rain', u'id': 501, u'icon': u'10n', u'description': u'moderate rain'}], u'dt': 1531580400, u'main': {u'temp_kf': 0, u'temp': 294.932, u'grnd_level': 956.5, u'temp_max': 294.932, u'sea_level': 1014.62, u'humidity': 98, u'pressure': 956.5, u'temp_min': 294.932}, u'wind': {u'speed': 5.57, u'deg': 255.505}}, {u'clouds': {u'all': 92}, u'rain': {u'3h': 0.11}, u'sys': {u'pod': u'n'}, u'dt_txt': u'2018-07-14 18:00:00', u'weather': [{u'main': u'Rain', u'id': 500, u'icon': u'10n', u'description': u'light rain'}], u'dt': 1531591200, u'main': {u'temp_kf': 0, u'temp': 295.797, u'grnd_level': 956.39, u'temp_max': 295.797, u'sea_level': 1014.74, u'humidity': 95, u'pressure': 956.39, u'temp_min': 295.797}, u'wind': {u'speed': 6.12, u'deg': 254.502}}, {u'clouds': {u'all': 80}, u'rain': {u'3h': 0.02}, u'sys': {u'pod': u'n'}, u'dt_txt': u'2018-07-14 21:00:00', u'weather': [{u'main': u'Rain', u'id': 500, u'icon': u'10n', u'description': u'light rain'}], u'dt': 1531602000, u'main': {u'temp_kf': 0, u'temp': 295.94, u'grnd_level': 954.95, u'temp_max': 295.94, u'sea_level': 1013.1, u'humidity': 93, u'pressure': 954.95, u'temp_min': 295.94}, u'wind': {u'speed': 7.71, u'deg': 255.001}}, {u'clouds': {u'all': 64}, u'rain': {u'3h': 0.039999999999999}, u'sys': {u'pod': u'n'}, u'dt_txt': u'2018-07-15 00:00:00', u'weather': [{u'main': u'Rain', u'id': 500, u'icon': u'10n', u'description': u'light rain'}], u'dt': 1531612800, u'main': {u'temp_kf': 0, u'temp': 295.914, u'grnd_level': 954.6, u'temp_max': 295.914, u'sea_level': 1012.82, u'humidity': 92, u'pressure': 954.6, u'temp_min': 295.914}, u'wind': {u'speed': 7.65, u'deg': 256.002}}, {u'clouds': {u'all': 36}, u'rain': {u'3h': 0.079999999999998}, u'sys': {u'pod': u'd'}, u'dt_txt': u'2018-07-15 03:00:00', u'weather': [{u'main': u'Rain', u'id': 500, u'icon': u'10d', u'description': u'light rain'}], u'dt': 1531623600, u'main': {u'temp_kf': 0, u'temp': 298.045, u'grnd_level': 955.98, u'temp_max': 298.045, u'sea_level': 1014.04, u'humidity': 87, u'pressure': 955.98, u'temp_min': 298.045}, u'wind': {u'speed': 8.81, u'deg': 256}}, {u'clouds': {u'all': 12}, u'rain': {u'3h': 0.030000000000001}, u'sys': {u'pod': u'd'}, u'dt_txt': u'2018-07-15 06:00:00', u'weather': [{u'main': u'Rain', u'id': 500, u'icon': u'10d', u'description': u'light rain'}], u'dt': 1531634400, u'main': {u'temp_kf': 0, u'temp': 301.317, u'grnd_level': 955.75, u'temp_max': 301.317, u'sea_level': 1013.66, u'humidity': 76, u'pressure': 955.75, u'temp_min': 301.317}, u'wind': {u'speed': 9.26, u'deg': 262.002}}, {u'clouds': {u'all': 56}, u'rain': {u'3h': 0.21}, u'sys': {u'pod': u'd'}, u'dt_txt': u'2018-07-15 09:00:00', u'weather': [{u'main': u'Rain', u'id': 500, u'icon': u'10d', u'description': u'light rain'}], u'dt': 1531645200, u'main': {u'temp_kf': 0, u'temp': 301.454, u'grnd_level': 954.37, u'temp_max': 301.454, u'sea_level': 1011.9, u'humidity': 73, u'pressure': 954.37, u'temp_min': 301.454}, u'wind': {u'speed': 8.87, u'deg': 260.016}}, {u'clouds': {u'all': 64}, u'rain': {u'3h': 0.079999999999998}, u'sys': {u'pod': u'd'}, u'dt_txt': u'2018-07-15 12:00:00', u'weather': [{u'main': u'Rain', u'id': 500, u'icon': u'10d', u'description': u'light rain'}], u'dt': 1531656000, u'main': {u'temp_kf': 0, u'temp': 299.865, u'grnd_level': 953.8, u'temp_max': 299.865, u'sea_level': 1011.66, u'humidity': 76, u'pressure': 953.8, u'temp_min': 299.865}, u'wind': {u'speed': 8.66, u'deg': 264.501}}, {u'clouds': {u'all': 64}, u'rain': {u'3h': 0.010000000000002}, u'sys': {u'pod': u'n'}, u'dt_txt': u'2018-07-15 15:00:00', u'weather': [{u'main': u'Rain', u'id': 500, u'icon': u'10n', u'description': u'light rain'}], u'dt': 1531666800, u'main': {u'temp_kf': 0, u'temp': 298.159, u'grnd_level': 955.55, u'temp_max': 298.159, u'sea_level': 1013.55, u'humidity': 82, u'pressure': 955.55, u'temp_min': 298.159}, u'wind': {u'speed': 7.11, u'deg': 261.002}}]\n",
      "[{u'clouds': {u'all': 64}, u'rain': {}, u'sys': {u'pod': u'n'}, u'dt_txt': u'2018-07-10 18:00:00', u'weather': [{u'main': u'Clouds', u'id': 803, u'icon': u'04n', u'description': u'broken clouds'}], u'dt': 1531245600, u'main': {u'temp_kf': 0.86, u'temp': 297.51, u'grnd_level': 957.82, u'temp_max': 297.51, u'sea_level': 1016.06, u'humidity': 83, u'pressure': 957.82, u'temp_min': 296.655}, u'wind': {u'speed': 6.73, u'deg': 256.505}}, {u'clouds': {u'all': 24}, u'rain': {}, u'sys': {u'pod': u'n'}, u'dt_txt': u'2018-07-10 21:00:00', u'weather': [{u'main': u'Clouds', u'id': 801, u'icon': u'02n', u'description': u'few clouds'}], u'dt': 1531256400, u'main': {u'temp_kf': 0.64, u'temp': 296.59, u'grnd_level': 956.38, u'temp_max': 296.59, u'sea_level': 1014.7, u'humidity': 85, u'pressure': 956.38, u'temp_min': 295.95}, u'wind': {u'speed': 7.18, u'deg': 257}}, {u'clouds': {u'all': 24}, u'rain': {}, u'sys': {u'pod': u'n'}, u'dt_txt': u'2018-07-11 00:00:00', u'weather': [{u'main': u'Clouds', u'id': 801, u'icon': u'02n', u'description': u'few clouds'}], u'dt': 1531267200, u'main': {u'temp_kf': 0.43, u'temp': 296.37, u'grnd_level': 956.29, u'temp_max': 296.37, u'sea_level': 1014.61, u'humidity': 86, u'pressure': 956.29, u'temp_min': 295.945}, u'wind': {u'speed': 7.37, u'deg': 259.001}}, {u'clouds': {u'all': 68}, u'rain': {u'3h': 0.0024999999999999}, u'sys': {u'pod': u'd'}, u'dt_txt': u'2018-07-11 03:00:00', u'weather': [{u'main': u'Rain', u'id': 500, u'icon': u'10d', u'description': u'light rain'}], u'dt': 1531278000, u'main': {u'temp_kf': 0.21, u'temp': 298.72, u'grnd_level': 957, u'temp_max': 298.72, u'sea_level': 1015.19, u'humidity': 79, u'pressure': 957, u'temp_min': 298.502}, u'wind': {u'speed': 8.93, u'deg': 267.501}}, {u'clouds': {u'all': 36}, u'rain': {}, u'sys': {u'pod': u'd'}, u'dt_txt': u'2018-07-11 06:00:00', u'weather': [{u'main': u'Clouds', u'id': 802, u'icon': u'03d', u'description': u'scattered clouds'}], u'dt': 1531288800, u'main': {u'temp_kf': 0, u'temp': 300.826, u'grnd_level': 957.17, u'temp_max': 300.826, u'sea_level': 1015.26, u'humidity': 71, u'pressure': 957.17, u'temp_min': 300.826}, u'wind': {u'speed': 9.27, u'deg': 265.507}}, {u'clouds': {u'all': 76}, u'rain': {}, u'sys': {u'pod': u'd'}, u'dt_txt': u'2018-07-11 09:00:00', u'weather': [{u'main': u'Clouds', u'id': 803, u'icon': u'04d', u'description': u'broken clouds'}], u'dt': 1531299600, u'main': {u'temp_kf': 0, u'temp': 302.667, u'grnd_level': 955.81, u'temp_max': 302.667, u'sea_level': 1013.7, u'humidity': 62, u'pressure': 955.81, u'temp_min': 302.667}, u'wind': {u'speed': 8.45, u'deg': 269.011}}, {u'clouds': {u'all': 88}, u'rain': {u'3h': 0.865}, u'sys': {u'pod': u'd'}, u'dt_txt': u'2018-07-11 12:00:00', u'weather': [{u'main': u'Rain', u'id': 500, u'icon': u'10d', u'description': u'light rain'}], u'dt': 1531310400, u'main': {u'temp_kf': 0, u'temp': 297.683, u'grnd_level': 955.93, u'temp_max': 297.683, u'sea_level': 1013.99, u'humidity': 88, u'pressure': 955.93, u'temp_min': 297.683}, u'wind': {u'speed': 8.12, u'deg': 270.001}}, {u'clouds': {u'all': 76}, u'rain': {u'3h': 2.215}, u'sys': {u'pod': u'n'}, u'dt_txt': u'2018-07-11 15:00:00', u'weather': [{u'main': u'Rain', u'id': 500, u'icon': u'10n', u'description': u'light rain'}], u'dt': 1531321200, u'main': {u'temp_kf': 0, u'temp': 295.416, u'grnd_level': 957.22, u'temp_max': 295.416, u'sea_level': 1015.61, u'humidity': 94, u'pressure': 957.22, u'temp_min': 295.416}, u'wind': {u'speed': 6.96, u'deg': 258.006}}, {u'clouds': {u'all': 44}, u'rain': {u'3h': 0.0049999999999999}, u'sys': {u'pod': u'n'}, u'dt_txt': u'2018-07-11 18:00:00', u'weather': [{u'main': u'Rain', u'id': 500, u'icon': u'10n', u'description': u'light rain'}], u'dt': 1531332000, u'main': {u'temp_kf': 0, u'temp': 296.096, u'grnd_level': 957.48, u'temp_max': 296.096, u'sea_level': 1015.88, u'humidity': 92, u'pressure': 957.48, u'temp_min': 296.096}, u'wind': {u'speed': 6.7, u'deg': 261.503}}, {u'clouds': {u'all': 48}, u'rain': {u'3h': 0.025}, u'sys': {u'pod': u'n'}, u'dt_txt': u'2018-07-11 21:00:00', u'weather': [{u'main': u'Rain', u'id': 500, u'icon': u'10n', u'description': u'light rain'}], u'dt': 1531342800, u'main': {u'temp_kf': 0, u'temp': 295.844, u'grnd_level': 955.71, u'temp_max': 295.844, u'sea_level': 1013.99, u'humidity': 91, u'pressure': 955.71, u'temp_min': 295.844}, u'wind': {u'speed': 7.87, u'deg': 260.503}}, {u'clouds': {u'all': 88}, u'rain': {u'3h': 0.115}, u'sys': {u'pod': u'n'}, u'dt_txt': u'2018-07-12 00:00:00', u'weather': [{u'main': u'Rain', u'id': 500, u'icon': u'10n', u'description': u'light rain'}], u'dt': 1531353600, u'main': {u'temp_kf': 0, u'temp': 295.988, u'grnd_level': 955.22, u'temp_max': 295.988, u'sea_level': 1013.54, u'humidity': 90, u'pressure': 955.22, u'temp_min': 295.988}, u'wind': {u'speed': 8.51, u'deg': 262.5}}, {u'clouds': {u'all': 76}, u'rain': {u'3h': 0.045}, u'sys': {u'pod': u'd'}, u'dt_txt': u'2018-07-12 03:00:00', u'weather': [{u'main': u'Rain', u'id': 500, u'icon': u'10d', u'description': u'light rain'}], u'dt': 1531364400, u'main': {u'temp_kf': 0, u'temp': 297.902, u'grnd_level': 956.65, u'temp_max': 297.902, u'sea_level': 1014.86, u'humidity': 82, u'pressure': 956.65, u'temp_min': 297.902}, u'wind': {u'speed': 8.96, u'deg': 262.503}}, {u'clouds': {u'all': 76}, u'rain': {u'3h': 0.015}, u'sys': {u'pod': u'd'}, u'dt_txt': u'2018-07-12 06:00:00', u'weather': [{u'main': u'Rain', u'id': 500, u'icon': u'10d', u'description': u'light rain'}], u'dt': 1531375200, u'main': {u'temp_kf': 0, u'temp': 299.813, u'grnd_level': 957.09, u'temp_max': 299.813, u'sea_level': 1015.11, u'humidity': 74, u'pressure': 957.09, u'temp_min': 299.813}, u'wind': {u'speed': 9.81, u'deg': 267.501}}, {u'clouds': {u'all': 76}, u'rain': {}, u'sys': {u'pod': u'd'}, u'dt_txt': u'2018-07-12 09:00:00', u'weather': [{u'main': u'Clouds', u'id': 803, u'icon': u'04d', u'description': u'broken clouds'}], u'dt': 1531386000, u'main': {u'temp_kf': 0, u'temp': 301.437, u'grnd_level': 955.39, u'temp_max': 301.437, u'sea_level': 1013.31, u'humidity': 66, u'pressure': 955.39, u'temp_min': 301.437}, u'wind': {u'speed': 9.17, u'deg': 271.501}}, {u'clouds': {u'all': 92}, u'rain': {u'3h': 0.45}, u'sys': {u'pod': u'd'}, u'dt_txt': u'2018-07-12 12:00:00', u'weather': [{u'main': u'Rain', u'id': 500, u'icon': u'10d', u'description': u'light rain'}], u'dt': 1531396800, u'main': {u'temp_kf': 0, u'temp': 298.899, u'grnd_level': 955.43, u'temp_max': 298.899, u'sea_level': 1013.45, u'humidity': 79, u'pressure': 955.43, u'temp_min': 298.899}, u'wind': {u'speed': 8.11, u'deg': 267.5}}, {u'clouds': {u'all': 92}, u'rain': {u'3h': 0.14}, u'sys': {u'pod': u'n'}, u'dt_txt': u'2018-07-12 15:00:00', u'weather': [{u'main': u'Rain', u'id': 500, u'icon': u'10n', u'description': u'light rain'}], u'dt': 1531407600, u'main': {u'temp_kf': 0, u'temp': 297.899, u'grnd_level': 956.87, u'temp_max': 297.899, u'sea_level': 1015.05, u'humidity': 82, u'pressure': 956.87, u'temp_min': 297.899}, u'wind': {u'speed': 7.98, u'deg': 259.502}}, {u'clouds': {u'all': 92}, u'rain': {u'3h': 1.52}, u'sys': {u'pod': u'n'}, u'dt_txt': u'2018-07-12 18:00:00', u'weather': [{u'main': u'Rain', u'id': 500, u'icon': u'10n', u'description': u'light rain'}], u'dt': 1531418400, u'main': {u'temp_kf': 0, u'temp': 295.953, u'grnd_level': 957.06, u'temp_max': 295.953, u'sea_level': 1015.33, u'humidity': 94, u'pressure': 957.06, u'temp_min': 295.953}, u'wind': {u'speed': 7.45, u'deg': 258.002}}, {u'clouds': {u'all': 92}, u'rain': {u'3h': 0.47}, u'sys': {u'pod': u'n'}, u'dt_txt': u'2018-07-12 21:00:00', u'weather': [{u'main': u'Rain', u'id': 500, u'icon': u'10n', u'description': u'light rain'}], u'dt': 1531429200, u'main': {u'temp_kf': 0, u'temp': 295.867, u'grnd_level': 955.46, u'temp_max': 295.867, u'sea_level': 1013.66, u'humidity': 93, u'pressure': 955.46, u'temp_min': 295.867}, u'wind': {u'speed': 7.91, u'deg': 256.502}}, {u'clouds': {u'all': 76}, u'rain': {u'3h': 0.14}, u'sys': {u'pod': u'n'}, u'dt_txt': u'2018-07-13 00:00:00', u'weather': [{u'main': u'Rain', u'id': 500, u'icon': u'10n', u'description': u'light rain'}], u'dt': 1531440000, u'main': {u'temp_kf': 0, u'temp': 296.245, u'grnd_level': 955.39, u'temp_max': 296.245, u'sea_level': 1013.61, u'humidity': 89, u'pressure': 955.39, u'temp_min': 296.245}, u'wind': {u'speed': 7.91, u'deg': 262.508}}, {u'clouds': {u'all': 64}, u'rain': {u'3h': 0.94}, u'sys': {u'pod': u'd'}, u'dt_txt': u'2018-07-13 03:00:00', u'weather': [{u'main': u'Rain', u'id': 500, u'icon': u'10d', u'description': u'light rain'}], u'dt': 1531450800, u'main': {u'temp_kf': 0, u'temp': 297.348, u'grnd_level': 956.45, u'temp_max': 297.348, u'sea_level': 1014.76, u'humidity': 85, u'pressure': 956.45, u'temp_min': 297.348}, u'wind': {u'speed': 8.51, u'deg': 266.502}}, {u'clouds': {u'all': 76}, u'rain': {}, u'sys': {u'pod': u'd'}, u'dt_txt': u'2018-07-13 06:00:00', u'weather': [{u'main': u'Clouds', u'id': 803, u'icon': u'04d', u'description': u'broken clouds'}], u'dt': 1531461600, u'main': {u'temp_kf': 0, u'temp': 300.797, u'grnd_level': 956.46, u'temp_max': 300.797, u'sea_level': 1014.45, u'humidity': 69, u'pressure': 956.46, u'temp_min': 300.797}, u'wind': {u'speed': 9.67, u'deg': 271.505}}, {u'clouds': {u'all': 92}, u'rain': {u'3h': 0.09}, u'sys': {u'pod': u'd'}, u'dt_txt': u'2018-07-13 09:00:00', u'weather': [{u'main': u'Rain', u'id': 500, u'icon': u'10d', u'description': u'light rain'}], u'dt': 1531472400, u'main': {u'temp_kf': 0, u'temp': 300.426, u'grnd_level': 955.32, u'temp_max': 300.426, u'sea_level': 1013.3, u'humidity': 71, u'pressure': 955.32, u'temp_min': 300.426}, u'wind': {u'speed': 9.21, u'deg': 272.001}}, {u'clouds': {u'all': 92}, u'rain': {u'3h': 0.14}, u'sys': {u'pod': u'd'}, u'dt_txt': u'2018-07-13 12:00:00', u'weather': [{u'main': u'Rain', u'id': 500, u'icon': u'10d', u'description': u'light rain'}], u'dt': 1531483200, u'main': {u'temp_kf': 0, u'temp': 300.62, u'grnd_level': 954.84, u'temp_max': 300.62, u'sea_level': 1012.82, u'humidity': 71, u'pressure': 954.84, u'temp_min': 300.62}, u'wind': {u'speed': 8.16, u'deg': 268.5}}, {u'clouds': {u'all': 100}, u'rain': {u'3h': 2.85}, u'sys': {u'pod': u'n'}, u'dt_txt': u'2018-07-13 15:00:00', u'weather': [{u'main': u'Rain', u'id': 500, u'icon': u'10n', u'description': u'light rain'}], u'dt': 1531494000, u'main': {u'temp_kf': 0, u'temp': 296.056, u'grnd_level': 956.69, u'temp_max': 296.056, u'sea_level': 1014.71, u'humidity': 95, u'pressure': 956.69, u'temp_min': 296.056}, u'wind': {u'speed': 5.91, u'deg': 277}}, {u'clouds': {u'all': 56}, u'rain': {u'3h': 0.45}, u'sys': {u'pod': u'n'}, u'dt_txt': u'2018-07-13 18:00:00', u'weather': [{u'main': u'Rain', u'id': 500, u'icon': u'10n', u'description': u'light rain'}], u'dt': 1531504800, u'main': {u'temp_kf': 0, u'temp': 295.872, u'grnd_level': 956.71, u'temp_max': 295.872, u'sea_level': 1015.04, u'humidity': 96, u'pressure': 956.71, u'temp_min': 295.872}, u'wind': {u'speed': 5.26, u'deg': 258.002}}, {u'clouds': {u'all': 56}, u'rain': {u'3h': 0.020000000000001}, u'sys': {u'pod': u'n'}, u'dt_txt': u'2018-07-13 21:00:00', u'weather': [{u'main': u'Rain', u'id': 500, u'icon': u'10n', u'description': u'light rain'}], u'dt': 1531515600, u'main': {u'temp_kf': 0, u'temp': 295.795, u'grnd_level': 955.33, u'temp_max': 295.795, u'sea_level': 1013.53, u'humidity': 94, u'pressure': 955.33, u'temp_min': 295.795}, u'wind': {u'speed': 6.27, u'deg': 256.502}}, {u'clouds': {u'all': 68}, u'rain': {}, u'sys': {u'pod': u'n'}, u'dt_txt': u'2018-07-14 00:00:00', u'weather': [{u'main': u'Clouds', u'id': 803, u'icon': u'04n', u'description': u'broken clouds'}], u'dt': 1531526400, u'main': {u'temp_kf': 0, u'temp': 295.834, u'grnd_level': 955.18, u'temp_max': 295.834, u'sea_level': 1013.4, u'humidity': 93, u'pressure': 955.18, u'temp_min': 295.834}, u'wind': {u'speed': 6.61, u'deg': 258.002}}, {u'clouds': {u'all': 68}, u'rain': {u'3h': 0.08}, u'sys': {u'pod': u'd'}, u'dt_txt': u'2018-07-14 03:00:00', u'weather': [{u'main': u'Rain', u'id': 500, u'icon': u'10d', u'description': u'light rain'}], u'dt': 1531537200, u'main': {u'temp_kf': 0, u'temp': 298.286, u'grnd_level': 956.35, u'temp_max': 298.286, u'sea_level': 1014.45, u'humidity': 83, u'pressure': 956.35, u'temp_min': 298.286}, u'wind': {u'speed': 7.97, u'deg': 263.003}}, {u'clouds': {u'all': 56}, u'rain': {u'3h': 0.1}, u'sys': {u'pod': u'd'}, u'dt_txt': u'2018-07-14 06:00:00', u'weather': [{u'main': u'Rain', u'id': 500, u'icon': u'10d', u'description': u'light rain'}], u'dt': 1531548000, u'main': {u'temp_kf': 0, u'temp': 300.447, u'grnd_level': 956.59, u'temp_max': 300.447, u'sea_level': 1014.52, u'humidity': 75, u'pressure': 956.59, u'temp_min': 300.447}, u'wind': {u'speed': 8.11, u'deg': 268.501}}, {u'clouds': {u'all': 76}, u'rain': {u'3h': 0.02}, u'sys': {u'pod': u'd'}, u'dt_txt': u'2018-07-14 09:00:00', u'weather': [{u'main': u'Rain', u'id': 500, u'icon': u'10d', u'description': u'light rain'}], u'dt': 1531558800, u'main': {u'temp_kf': 0, u'temp': 301.98, u'grnd_level': 954.69, u'temp_max': 301.98, u'sea_level': 1012.41, u'humidity': 67, u'pressure': 954.69, u'temp_min': 301.98}, u'wind': {u'speed': 7.28, u'deg': 270.001}}, {u'clouds': {u'all': 80}, u'rain': {u'3h': 4.61}, u'sys': {u'pod': u'd'}, u'dt_txt': u'2018-07-14 12:00:00', u'weather': [{u'main': u'Rain', u'id': 501, u'icon': u'10d', u'description': u'moderate rain'}], u'dt': 1531569600, u'main': {u'temp_kf': 0, u'temp': 296.547, u'grnd_level': 954.54, u'temp_max': 296.547, u'sea_level': 1012.59, u'humidity': 93, u'pressure': 954.54, u'temp_min': 296.547}, u'wind': {u'speed': 5.27, u'deg': 266.501}}, {u'clouds': {u'all': 92}, u'rain': {u'3h': 4.63}, u'sys': {u'pod': u'n'}, u'dt_txt': u'2018-07-14 15:00:00', u'weather': [{u'main': u'Rain', u'id': 501, u'icon': u'10n', u'description': u'moderate rain'}], u'dt': 1531580400, u'main': {u'temp_kf': 0, u'temp': 294.932, u'grnd_level': 956.5, u'temp_max': 294.932, u'sea_level': 1014.62, u'humidity': 98, u'pressure': 956.5, u'temp_min': 294.932}, u'wind': {u'speed': 5.57, u'deg': 255.505}}, {u'clouds': {u'all': 92}, u'rain': {u'3h': 0.11}, u'sys': {u'pod': u'n'}, u'dt_txt': u'2018-07-14 18:00:00', u'weather': [{u'main': u'Rain', u'id': 500, u'icon': u'10n', u'description': u'light rain'}], u'dt': 1531591200, u'main': {u'temp_kf': 0, u'temp': 295.797, u'grnd_level': 956.39, u'temp_max': 295.797, u'sea_level': 1014.74, u'humidity': 95, u'pressure': 956.39, u'temp_min': 295.797}, u'wind': {u'speed': 6.12, u'deg': 254.502}}, {u'clouds': {u'all': 80}, u'rain': {u'3h': 0.02}, u'sys': {u'pod': u'n'}, u'dt_txt': u'2018-07-14 21:00:00', u'weather': [{u'main': u'Rain', u'id': 500, u'icon': u'10n', u'description': u'light rain'}], u'dt': 1531602000, u'main': {u'temp_kf': 0, u'temp': 295.94, u'grnd_level': 954.95, u'temp_max': 295.94, u'sea_level': 1013.1, u'humidity': 93, u'pressure': 954.95, u'temp_min': 295.94}, u'wind': {u'speed': 7.71, u'deg': 255.001}}, {u'clouds': {u'all': 64}, u'rain': {u'3h': 0.039999999999999}, u'sys': {u'pod': u'n'}, u'dt_txt': u'2018-07-15 00:00:00', u'weather': [{u'main': u'Rain', u'id': 500, u'icon': u'10n', u'description': u'light rain'}], u'dt': 1531612800, u'main': {u'temp_kf': 0, u'temp': 295.914, u'grnd_level': 954.6, u'temp_max': 295.914, u'sea_level': 1012.82, u'humidity': 92, u'pressure': 954.6, u'temp_min': 295.914}, u'wind': {u'speed': 7.65, u'deg': 256.002}}, {u'clouds': {u'all': 36}, u'rain': {u'3h': 0.079999999999998}, u'sys': {u'pod': u'd'}, u'dt_txt': u'2018-07-15 03:00:00', u'weather': [{u'main': u'Rain', u'id': 500, u'icon': u'10d', u'description': u'light rain'}], u'dt': 1531623600, u'main': {u'temp_kf': 0, u'temp': 298.045, u'grnd_level': 955.98, u'temp_max': 298.045, u'sea_level': 1014.04, u'humidity': 87, u'pressure': 955.98, u'temp_min': 298.045}, u'wind': {u'speed': 8.81, u'deg': 256}}, {u'clouds': {u'all': 12}, u'rain': {u'3h': 0.030000000000001}, u'sys': {u'pod': u'd'}, u'dt_txt': u'2018-07-15 06:00:00', u'weather': [{u'main': u'Rain', u'id': 500, u'icon': u'10d', u'description': u'light rain'}], u'dt': 1531634400, u'main': {u'temp_kf': 0, u'temp': 301.317, u'grnd_level': 955.75, u'temp_max': 301.317, u'sea_level': 1013.66, u'humidity': 76, u'pressure': 955.75, u'temp_min': 301.317}, u'wind': {u'speed': 9.26, u'deg': 262.002}}, {u'clouds': {u'all': 56}, u'rain': {u'3h': 0.21}, u'sys': {u'pod': u'd'}, u'dt_txt': u'2018-07-15 09:00:00', u'weather': [{u'main': u'Rain', u'id': 500, u'icon': u'10d', u'description': u'light rain'}], u'dt': 1531645200, u'main': {u'temp_kf': 0, u'temp': 301.454, u'grnd_level': 954.37, u'temp_max': 301.454, u'sea_level': 1011.9, u'humidity': 73, u'pressure': 954.37, u'temp_min': 301.454}, u'wind': {u'speed': 8.87, u'deg': 260.016}}, {u'clouds': {u'all': 64}, u'rain': {u'3h': 0.079999999999998}, u'sys': {u'pod': u'd'}, u'dt_txt': u'2018-07-15 12:00:00', u'weather': [{u'main': u'Rain', u'id': 500, u'icon': u'10d', u'description': u'light rain'}], u'dt': 1531656000, u'main': {u'temp_kf': 0, u'temp': 299.865, u'grnd_level': 953.8, u'temp_max': 299.865, u'sea_level': 1011.66, u'humidity': 76, u'pressure': 953.8, u'temp_min': 299.865}, u'wind': {u'speed': 8.66, u'deg': 264.501}}, {u'clouds': {u'all': 64}, u'rain': {u'3h': 0.010000000000002}, u'sys': {u'pod': u'n'}, u'dt_txt': u'2018-07-15 15:00:00', u'weather': [{u'main': u'Rain', u'id': 500, u'icon': u'10n', u'description': u'light rain'}], u'dt': 1531666800, u'main': {u'temp_kf': 0, u'temp': 298.159, u'grnd_level': 955.55, u'temp_max': 298.159, u'sea_level': 1013.55, u'humidity': 82, u'pressure': 955.55, u'temp_min': 298.159}, u'wind': {u'speed': 7.11, u'deg': 261.002}}]\n",
      "[{u'clouds': {u'all': 64}, u'rain': {}, u'sys': {u'pod': u'n'}, u'dt_txt': u'2018-07-10 18:00:00', u'weather': [{u'main': u'Clouds', u'id': 803, u'icon': u'04n', u'description': u'broken clouds'}], u'dt': 1531245600, u'main': {u'temp_kf': 0.86, u'temp': 297.51, u'grnd_level': 957.82, u'temp_max': 297.51, u'sea_level': 1016.06, u'humidity': 83, u'pressure': 957.82, u'temp_min': 296.655}, u'wind': {u'speed': 6.73, u'deg': 256.505}}, {u'clouds': {u'all': 24}, u'rain': {}, u'sys': {u'pod': u'n'}, u'dt_txt': u'2018-07-10 21:00:00', u'weather': [{u'main': u'Clouds', u'id': 801, u'icon': u'02n', u'description': u'few clouds'}], u'dt': 1531256400, u'main': {u'temp_kf': 0.64, u'temp': 296.59, u'grnd_level': 956.38, u'temp_max': 296.59, u'sea_level': 1014.7, u'humidity': 85, u'pressure': 956.38, u'temp_min': 295.95}, u'wind': {u'speed': 7.18, u'deg': 257}}, {u'clouds': {u'all': 24}, u'rain': {}, u'sys': {u'pod': u'n'}, u'dt_txt': u'2018-07-11 00:00:00', u'weather': [{u'main': u'Clouds', u'id': 801, u'icon': u'02n', u'description': u'few clouds'}], u'dt': 1531267200, u'main': {u'temp_kf': 0.43, u'temp': 296.37, u'grnd_level': 956.29, u'temp_max': 296.37, u'sea_level': 1014.61, u'humidity': 86, u'pressure': 956.29, u'temp_min': 295.945}, u'wind': {u'speed': 7.37, u'deg': 259.001}}, {u'clouds': {u'all': 68}, u'rain': {u'3h': 0.0024999999999999}, u'sys': {u'pod': u'd'}, u'dt_txt': u'2018-07-11 03:00:00', u'weather': [{u'main': u'Rain', u'id': 500, u'icon': u'10d', u'description': u'light rain'}], u'dt': 1531278000, u'main': {u'temp_kf': 0.21, u'temp': 298.72, u'grnd_level': 957, u'temp_max': 298.72, u'sea_level': 1015.19, u'humidity': 79, u'pressure': 957, u'temp_min': 298.502}, u'wind': {u'speed': 8.93, u'deg': 267.501}}, {u'clouds': {u'all': 36}, u'rain': {}, u'sys': {u'pod': u'd'}, u'dt_txt': u'2018-07-11 06:00:00', u'weather': [{u'main': u'Clouds', u'id': 802, u'icon': u'03d', u'description': u'scattered clouds'}], u'dt': 1531288800, u'main': {u'temp_kf': 0, u'temp': 300.826, u'grnd_level': 957.17, u'temp_max': 300.826, u'sea_level': 1015.26, u'humidity': 71, u'pressure': 957.17, u'temp_min': 300.826}, u'wind': {u'speed': 9.27, u'deg': 265.507}}, {u'clouds': {u'all': 76}, u'rain': {}, u'sys': {u'pod': u'd'}, u'dt_txt': u'2018-07-11 09:00:00', u'weather': [{u'main': u'Clouds', u'id': 803, u'icon': u'04d', u'description': u'broken clouds'}], u'dt': 1531299600, u'main': {u'temp_kf': 0, u'temp': 302.667, u'grnd_level': 955.81, u'temp_max': 302.667, u'sea_level': 1013.7, u'humidity': 62, u'pressure': 955.81, u'temp_min': 302.667}, u'wind': {u'speed': 8.45, u'deg': 269.011}}, {u'clouds': {u'all': 88}, u'rain': {u'3h': 0.865}, u'sys': {u'pod': u'd'}, u'dt_txt': u'2018-07-11 12:00:00', u'weather': [{u'main': u'Rain', u'id': 500, u'icon': u'10d', u'description': u'light rain'}], u'dt': 1531310400, u'main': {u'temp_kf': 0, u'temp': 297.683, u'grnd_level': 955.93, u'temp_max': 297.683, u'sea_level': 1013.99, u'humidity': 88, u'pressure': 955.93, u'temp_min': 297.683}, u'wind': {u'speed': 8.12, u'deg': 270.001}}, {u'clouds': {u'all': 76}, u'rain': {u'3h': 2.215}, u'sys': {u'pod': u'n'}, u'dt_txt': u'2018-07-11 15:00:00', u'weather': [{u'main': u'Rain', u'id': 500, u'icon': u'10n', u'description': u'light rain'}], u'dt': 1531321200, u'main': {u'temp_kf': 0, u'temp': 295.416, u'grnd_level': 957.22, u'temp_max': 295.416, u'sea_level': 1015.61, u'humidity': 94, u'pressure': 957.22, u'temp_min': 295.416}, u'wind': {u'speed': 6.96, u'deg': 258.006}}, {u'clouds': {u'all': 44}, u'rain': {u'3h': 0.0049999999999999}, u'sys': {u'pod': u'n'}, u'dt_txt': u'2018-07-11 18:00:00', u'weather': [{u'main': u'Rain', u'id': 500, u'icon': u'10n', u'description': u'light rain'}], u'dt': 1531332000, u'main': {u'temp_kf': 0, u'temp': 296.096, u'grnd_level': 957.48, u'temp_max': 296.096, u'sea_level': 1015.88, u'humidity': 92, u'pressure': 957.48, u'temp_min': 296.096}, u'wind': {u'speed': 6.7, u'deg': 261.503}}, {u'clouds': {u'all': 48}, u'rain': {u'3h': 0.025}, u'sys': {u'pod': u'n'}, u'dt_txt': u'2018-07-11 21:00:00', u'weather': [{u'main': u'Rain', u'id': 500, u'icon': u'10n', u'description': u'light rain'}], u'dt': 1531342800, u'main': {u'temp_kf': 0, u'temp': 295.844, u'grnd_level': 955.71, u'temp_max': 295.844, u'sea_level': 1013.99, u'humidity': 91, u'pressure': 955.71, u'temp_min': 295.844}, u'wind': {u'speed': 7.87, u'deg': 260.503}}, {u'clouds': {u'all': 88}, u'rain': {u'3h': 0.115}, u'sys': {u'pod': u'n'}, u'dt_txt': u'2018-07-12 00:00:00', u'weather': [{u'main': u'Rain', u'id': 500, u'icon': u'10n', u'description': u'light rain'}], u'dt': 1531353600, u'main': {u'temp_kf': 0, u'temp': 295.988, u'grnd_level': 955.22, u'temp_max': 295.988, u'sea_level': 1013.54, u'humidity': 90, u'pressure': 955.22, u'temp_min': 295.988}, u'wind': {u'speed': 8.51, u'deg': 262.5}}, {u'clouds': {u'all': 76}, u'rain': {u'3h': 0.045}, u'sys': {u'pod': u'd'}, u'dt_txt': u'2018-07-12 03:00:00', u'weather': [{u'main': u'Rain', u'id': 500, u'icon': u'10d', u'description': u'light rain'}], u'dt': 1531364400, u'main': {u'temp_kf': 0, u'temp': 297.902, u'grnd_level': 956.65, u'temp_max': 297.902, u'sea_level': 1014.86, u'humidity': 82, u'pressure': 956.65, u'temp_min': 297.902}, u'wind': {u'speed': 8.96, u'deg': 262.503}}, {u'clouds': {u'all': 76}, u'rain': {u'3h': 0.015}, u'sys': {u'pod': u'd'}, u'dt_txt': u'2018-07-12 06:00:00', u'weather': [{u'main': u'Rain', u'id': 500, u'icon': u'10d', u'description': u'light rain'}], u'dt': 1531375200, u'main': {u'temp_kf': 0, u'temp': 299.813, u'grnd_level': 957.09, u'temp_max': 299.813, u'sea_level': 1015.11, u'humidity': 74, u'pressure': 957.09, u'temp_min': 299.813}, u'wind': {u'speed': 9.81, u'deg': 267.501}}, {u'clouds': {u'all': 76}, u'rain': {}, u'sys': {u'pod': u'd'}, u'dt_txt': u'2018-07-12 09:00:00', u'weather': [{u'main': u'Clouds', u'id': 803, u'icon': u'04d', u'description': u'broken clouds'}], u'dt': 1531386000, u'main': {u'temp_kf': 0, u'temp': 301.437, u'grnd_level': 955.39, u'temp_max': 301.437, u'sea_level': 1013.31, u'humidity': 66, u'pressure': 955.39, u'temp_min': 301.437}, u'wind': {u'speed': 9.17, u'deg': 271.501}}, {u'clouds': {u'all': 92}, u'rain': {u'3h': 0.45}, u'sys': {u'pod': u'd'}, u'dt_txt': u'2018-07-12 12:00:00', u'weather': [{u'main': u'Rain', u'id': 500, u'icon': u'10d', u'description': u'light rain'}], u'dt': 1531396800, u'main': {u'temp_kf': 0, u'temp': 298.899, u'grnd_level': 955.43, u'temp_max': 298.899, u'sea_level': 1013.45, u'humidity': 79, u'pressure': 955.43, u'temp_min': 298.899}, u'wind': {u'speed': 8.11, u'deg': 267.5}}, {u'clouds': {u'all': 92}, u'rain': {u'3h': 0.14}, u'sys': {u'pod': u'n'}, u'dt_txt': u'2018-07-12 15:00:00', u'weather': [{u'main': u'Rain', u'id': 500, u'icon': u'10n', u'description': u'light rain'}], u'dt': 1531407600, u'main': {u'temp_kf': 0, u'temp': 297.899, u'grnd_level': 956.87, u'temp_max': 297.899, u'sea_level': 1015.05, u'humidity': 82, u'pressure': 956.87, u'temp_min': 297.899}, u'wind': {u'speed': 7.98, u'deg': 259.502}}, {u'clouds': {u'all': 92}, u'rain': {u'3h': 1.52}, u'sys': {u'pod': u'n'}, u'dt_txt': u'2018-07-12 18:00:00', u'weather': [{u'main': u'Rain', u'id': 500, u'icon': u'10n', u'description': u'light rain'}], u'dt': 1531418400, u'main': {u'temp_kf': 0, u'temp': 295.953, u'grnd_level': 957.06, u'temp_max': 295.953, u'sea_level': 1015.33, u'humidity': 94, u'pressure': 957.06, u'temp_min': 295.953}, u'wind': {u'speed': 7.45, u'deg': 258.002}}, {u'clouds': {u'all': 92}, u'rain': {u'3h': 0.47}, u'sys': {u'pod': u'n'}, u'dt_txt': u'2018-07-12 21:00:00', u'weather': [{u'main': u'Rain', u'id': 500, u'icon': u'10n', u'description': u'light rain'}], u'dt': 1531429200, u'main': {u'temp_kf': 0, u'temp': 295.867, u'grnd_level': 955.46, u'temp_max': 295.867, u'sea_level': 1013.66, u'humidity': 93, u'pressure': 955.46, u'temp_min': 295.867}, u'wind': {u'speed': 7.91, u'deg': 256.502}}, {u'clouds': {u'all': 76}, u'rain': {u'3h': 0.14}, u'sys': {u'pod': u'n'}, u'dt_txt': u'2018-07-13 00:00:00', u'weather': [{u'main': u'Rain', u'id': 500, u'icon': u'10n', u'description': u'light rain'}], u'dt': 1531440000, u'main': {u'temp_kf': 0, u'temp': 296.245, u'grnd_level': 955.39, u'temp_max': 296.245, u'sea_level': 1013.61, u'humidity': 89, u'pressure': 955.39, u'temp_min': 296.245}, u'wind': {u'speed': 7.91, u'deg': 262.508}}, {u'clouds': {u'all': 64}, u'rain': {u'3h': 0.94}, u'sys': {u'pod': u'd'}, u'dt_txt': u'2018-07-13 03:00:00', u'weather': [{u'main': u'Rain', u'id': 500, u'icon': u'10d', u'description': u'light rain'}], u'dt': 1531450800, u'main': {u'temp_kf': 0, u'temp': 297.348, u'grnd_level': 956.45, u'temp_max': 297.348, u'sea_level': 1014.76, u'humidity': 85, u'pressure': 956.45, u'temp_min': 297.348}, u'wind': {u'speed': 8.51, u'deg': 266.502}}, {u'clouds': {u'all': 76}, u'rain': {}, u'sys': {u'pod': u'd'}, u'dt_txt': u'2018-07-13 06:00:00', u'weather': [{u'main': u'Clouds', u'id': 803, u'icon': u'04d', u'description': u'broken clouds'}], u'dt': 1531461600, u'main': {u'temp_kf': 0, u'temp': 300.797, u'grnd_level': 956.46, u'temp_max': 300.797, u'sea_level': 1014.45, u'humidity': 69, u'pressure': 956.46, u'temp_min': 300.797}, u'wind': {u'speed': 9.67, u'deg': 271.505}}, {u'clouds': {u'all': 92}, u'rain': {u'3h': 0.09}, u'sys': {u'pod': u'd'}, u'dt_txt': u'2018-07-13 09:00:00', u'weather': [{u'main': u'Rain', u'id': 500, u'icon': u'10d', u'description': u'light rain'}], u'dt': 1531472400, u'main': {u'temp_kf': 0, u'temp': 300.426, u'grnd_level': 955.32, u'temp_max': 300.426, u'sea_level': 1013.3, u'humidity': 71, u'pressure': 955.32, u'temp_min': 300.426}, u'wind': {u'speed': 9.21, u'deg': 272.001}}, {u'clouds': {u'all': 92}, u'rain': {u'3h': 0.14}, u'sys': {u'pod': u'd'}, u'dt_txt': u'2018-07-13 12:00:00', u'weather': [{u'main': u'Rain', u'id': 500, u'icon': u'10d', u'description': u'light rain'}], u'dt': 1531483200, u'main': {u'temp_kf': 0, u'temp': 300.62, u'grnd_level': 954.84, u'temp_max': 300.62, u'sea_level': 1012.82, u'humidity': 71, u'pressure': 954.84, u'temp_min': 300.62}, u'wind': {u'speed': 8.16, u'deg': 268.5}}, {u'clouds': {u'all': 100}, u'rain': {u'3h': 2.85}, u'sys': {u'pod': u'n'}, u'dt_txt': u'2018-07-13 15:00:00', u'weather': [{u'main': u'Rain', u'id': 500, u'icon': u'10n', u'description': u'light rain'}], u'dt': 1531494000, u'main': {u'temp_kf': 0, u'temp': 296.056, u'grnd_level': 956.69, u'temp_max': 296.056, u'sea_level': 1014.71, u'humidity': 95, u'pressure': 956.69, u'temp_min': 296.056}, u'wind': {u'speed': 5.91, u'deg': 277}}, {u'clouds': {u'all': 56}, u'rain': {u'3h': 0.45}, u'sys': {u'pod': u'n'}, u'dt_txt': u'2018-07-13 18:00:00', u'weather': [{u'main': u'Rain', u'id': 500, u'icon': u'10n', u'description': u'light rain'}], u'dt': 1531504800, u'main': {u'temp_kf': 0, u'temp': 295.872, u'grnd_level': 956.71, u'temp_max': 295.872, u'sea_level': 1015.04, u'humidity': 96, u'pressure': 956.71, u'temp_min': 295.872}, u'wind': {u'speed': 5.26, u'deg': 258.002}}, {u'clouds': {u'all': 56}, u'rain': {u'3h': 0.020000000000001}, u'sys': {u'pod': u'n'}, u'dt_txt': u'2018-07-13 21:00:00', u'weather': [{u'main': u'Rain', u'id': 500, u'icon': u'10n', u'description': u'light rain'}], u'dt': 1531515600, u'main': {u'temp_kf': 0, u'temp': 295.795, u'grnd_level': 955.33, u'temp_max': 295.795, u'sea_level': 1013.53, u'humidity': 94, u'pressure': 955.33, u'temp_min': 295.795}, u'wind': {u'speed': 6.27, u'deg': 256.502}}, {u'clouds': {u'all': 68}, u'rain': {}, u'sys': {u'pod': u'n'}, u'dt_txt': u'2018-07-14 00:00:00', u'weather': [{u'main': u'Clouds', u'id': 803, u'icon': u'04n', u'description': u'broken clouds'}], u'dt': 1531526400, u'main': {u'temp_kf': 0, u'temp': 295.834, u'grnd_level': 955.18, u'temp_max': 295.834, u'sea_level': 1013.4, u'humidity': 93, u'pressure': 955.18, u'temp_min': 295.834}, u'wind': {u'speed': 6.61, u'deg': 258.002}}, {u'clouds': {u'all': 68}, u'rain': {u'3h': 0.08}, u'sys': {u'pod': u'd'}, u'dt_txt': u'2018-07-14 03:00:00', u'weather': [{u'main': u'Rain', u'id': 500, u'icon': u'10d', u'description': u'light rain'}], u'dt': 1531537200, u'main': {u'temp_kf': 0, u'temp': 298.286, u'grnd_level': 956.35, u'temp_max': 298.286, u'sea_level': 1014.45, u'humidity': 83, u'pressure': 956.35, u'temp_min': 298.286}, u'wind': {u'speed': 7.97, u'deg': 263.003}}, {u'clouds': {u'all': 56}, u'rain': {u'3h': 0.1}, u'sys': {u'pod': u'd'}, u'dt_txt': u'2018-07-14 06:00:00', u'weather': [{u'main': u'Rain', u'id': 500, u'icon': u'10d', u'description': u'light rain'}], u'dt': 1531548000, u'main': {u'temp_kf': 0, u'temp': 300.447, u'grnd_level': 956.59, u'temp_max': 300.447, u'sea_level': 1014.52, u'humidity': 75, u'pressure': 956.59, u'temp_min': 300.447}, u'wind': {u'speed': 8.11, u'deg': 268.501}}, {u'clouds': {u'all': 76}, u'rain': {u'3h': 0.02}, u'sys': {u'pod': u'd'}, u'dt_txt': u'2018-07-14 09:00:00', u'weather': [{u'main': u'Rain', u'id': 500, u'icon': u'10d', u'description': u'light rain'}], u'dt': 1531558800, u'main': {u'temp_kf': 0, u'temp': 301.98, u'grnd_level': 954.69, u'temp_max': 301.98, u'sea_level': 1012.41, u'humidity': 67, u'pressure': 954.69, u'temp_min': 301.98}, u'wind': {u'speed': 7.28, u'deg': 270.001}}, {u'clouds': {u'all': 80}, u'rain': {u'3h': 4.61}, u'sys': {u'pod': u'd'}, u'dt_txt': u'2018-07-14 12:00:00', u'weather': [{u'main': u'Rain', u'id': 501, u'icon': u'10d', u'description': u'moderate rain'}], u'dt': 1531569600, u'main': {u'temp_kf': 0, u'temp': 296.547, u'grnd_level': 954.54, u'temp_max': 296.547, u'sea_level': 1012.59, u'humidity': 93, u'pressure': 954.54, u'temp_min': 296.547}, u'wind': {u'speed': 5.27, u'deg': 266.501}}, {u'clouds': {u'all': 92}, u'rain': {u'3h': 4.63}, u'sys': {u'pod': u'n'}, u'dt_txt': u'2018-07-14 15:00:00', u'weather': [{u'main': u'Rain', u'id': 501, u'icon': u'10n', u'description': u'moderate rain'}], u'dt': 1531580400, u'main': {u'temp_kf': 0, u'temp': 294.932, u'grnd_level': 956.5, u'temp_max': 294.932, u'sea_level': 1014.62, u'humidity': 98, u'pressure': 956.5, u'temp_min': 294.932}, u'wind': {u'speed': 5.57, u'deg': 255.505}}, {u'clouds': {u'all': 92}, u'rain': {u'3h': 0.11}, u'sys': {u'pod': u'n'}, u'dt_txt': u'2018-07-14 18:00:00', u'weather': [{u'main': u'Rain', u'id': 500, u'icon': u'10n', u'description': u'light rain'}], u'dt': 1531591200, u'main': {u'temp_kf': 0, u'temp': 295.797, u'grnd_level': 956.39, u'temp_max': 295.797, u'sea_level': 1014.74, u'humidity': 95, u'pressure': 956.39, u'temp_min': 295.797}, u'wind': {u'speed': 6.12, u'deg': 254.502}}, {u'clouds': {u'all': 80}, u'rain': {u'3h': 0.02}, u'sys': {u'pod': u'n'}, u'dt_txt': u'2018-07-14 21:00:00', u'weather': [{u'main': u'Rain', u'id': 500, u'icon': u'10n', u'description': u'light rain'}], u'dt': 1531602000, u'main': {u'temp_kf': 0, u'temp': 295.94, u'grnd_level': 954.95, u'temp_max': 295.94, u'sea_level': 1013.1, u'humidity': 93, u'pressure': 954.95, u'temp_min': 295.94}, u'wind': {u'speed': 7.71, u'deg': 255.001}}, {u'clouds': {u'all': 64}, u'rain': {u'3h': 0.039999999999999}, u'sys': {u'pod': u'n'}, u'dt_txt': u'2018-07-15 00:00:00', u'weather': [{u'main': u'Rain', u'id': 500, u'icon': u'10n', u'description': u'light rain'}], u'dt': 1531612800, u'main': {u'temp_kf': 0, u'temp': 295.914, u'grnd_level': 954.6, u'temp_max': 295.914, u'sea_level': 1012.82, u'humidity': 92, u'pressure': 954.6, u'temp_min': 295.914}, u'wind': {u'speed': 7.65, u'deg': 256.002}}, {u'clouds': {u'all': 36}, u'rain': {u'3h': 0.079999999999998}, u'sys': {u'pod': u'd'}, u'dt_txt': u'2018-07-15 03:00:00', u'weather': [{u'main': u'Rain', u'id': 500, u'icon': u'10d', u'description': u'light rain'}], u'dt': 1531623600, u'main': {u'temp_kf': 0, u'temp': 298.045, u'grnd_level': 955.98, u'temp_max': 298.045, u'sea_level': 1014.04, u'humidity': 87, u'pressure': 955.98, u'temp_min': 298.045}, u'wind': {u'speed': 8.81, u'deg': 256}}, {u'clouds': {u'all': 12}, u'rain': {u'3h': 0.030000000000001}, u'sys': {u'pod': u'd'}, u'dt_txt': u'2018-07-15 06:00:00', u'weather': [{u'main': u'Rain', u'id': 500, u'icon': u'10d', u'description': u'light rain'}], u'dt': 1531634400, u'main': {u'temp_kf': 0, u'temp': 301.317, u'grnd_level': 955.75, u'temp_max': 301.317, u'sea_level': 1013.66, u'humidity': 76, u'pressure': 955.75, u'temp_min': 301.317}, u'wind': {u'speed': 9.26, u'deg': 262.002}}, {u'clouds': {u'all': 56}, u'rain': {u'3h': 0.21}, u'sys': {u'pod': u'd'}, u'dt_txt': u'2018-07-15 09:00:00', u'weather': [{u'main': u'Rain', u'id': 500, u'icon': u'10d', u'description': u'light rain'}], u'dt': 1531645200, u'main': {u'temp_kf': 0, u'temp': 301.454, u'grnd_level': 954.37, u'temp_max': 301.454, u'sea_level': 1011.9, u'humidity': 73, u'pressure': 954.37, u'temp_min': 301.454}, u'wind': {u'speed': 8.87, u'deg': 260.016}}, {u'clouds': {u'all': 64}, u'rain': {u'3h': 0.079999999999998}, u'sys': {u'pod': u'd'}, u'dt_txt': u'2018-07-15 12:00:00', u'weather': [{u'main': u'Rain', u'id': 500, u'icon': u'10d', u'description': u'light rain'}], u'dt': 1531656000, u'main': {u'temp_kf': 0, u'temp': 299.865, u'grnd_level': 953.8, u'temp_max': 299.865, u'sea_level': 1011.66, u'humidity': 76, u'pressure': 953.8, u'temp_min': 299.865}, u'wind': {u'speed': 8.66, u'deg': 264.501}}, {u'clouds': {u'all': 64}, u'rain': {u'3h': 0.010000000000002}, u'sys': {u'pod': u'n'}, u'dt_txt': u'2018-07-15 15:00:00', u'weather': [{u'main': u'Rain', u'id': 500, u'icon': u'10n', u'description': u'light rain'}], u'dt': 1531666800, u'main': {u'temp_kf': 0, u'temp': 298.159, u'grnd_level': 955.55, u'temp_max': 298.159, u'sea_level': 1013.55, u'humidity': 82, u'pressure': 955.55, u'temp_min': 298.159}, u'wind': {u'speed': 7.11, u'deg': 261.002}}]\n"
     ]
    }
   ],
   "source": [
    "for key in obj:\n",
    "    print obj['list']"
   ]
  },
  {
   "cell_type": "code",
   "execution_count": 245,
   "metadata": {},
   "outputs": [],
   "source": [
    "url=\"http://api.openweathermap.org/data/2.5/weather?APPID=\"+\"b9428de8e646a42987eee11eced64b1b\"+\"&id=\"+str(6255152)"
   ]
  },
  {
   "cell_type": "code",
   "execution_count": 231,
   "metadata": {},
   "outputs": [
    {
     "data": {
      "text/plain": [
       "'http://api.openweathermap.org/data/2.5/weather?APPID=b9428de8e646a42987eee11eced64b1b&id=4699066'"
      ]
     },
     "execution_count": 231,
     "metadata": {},
     "output_type": "execute_result"
    }
   ],
   "source": [
    "url"
   ]
  },
  {
   "cell_type": "code",
   "execution_count": 246,
   "metadata": {},
   "outputs": [],
   "source": [
    "response5 = urlopen(url).read().decode('utf-8')\n",
    "obj5 = json.loads(response5)"
   ]
  },
  {
   "cell_type": "code",
   "execution_count": 268,
   "metadata": {},
   "outputs": [
    {
     "name": "stdout",
     "output_type": "stream",
     "text": [
      "[{u'all': 8}, u'Antarctica', {u'lat': -78.16, u'lon': 16.41}, {u'message': 0.0057, u'sunset': 0, u'sunrise': 0}, [{u'main': u'Clear', u'id': 800, u'icon': u'02d', u'description': u'clear sky'}], 200, u'stations', 1531256533, {u'temp': 209.4, u'grnd_level': 637.81, u'temp_max': 209.4, u'sea_level': 1046.92, u'humidity': 0, u'pressure': 637.81, u'temp_min': 209.4}, 6255152, {u'speed': 4.13, u'deg': 30.5001}]\n",
      "[{u'all': 8}, u'Antarctica', {u'lat': -78.16, u'lon': 16.41}, {u'message': 0.0057, u'sunset': 0, u'sunrise': 0}, [{u'main': u'Clear', u'id': 800, u'icon': u'02d', u'description': u'clear sky'}], 200, u'stations', 1531256533, {u'temp': 209.4, u'grnd_level': 637.81, u'temp_max': 209.4, u'sea_level': 1046.92, u'humidity': 0, u'pressure': 637.81, u'temp_min': 209.4}, 6255152, {u'speed': 4.13, u'deg': 30.5001}]\n",
      "[{u'all': 8}, u'Antarctica', {u'lat': -78.16, u'lon': 16.41}, {u'message': 0.0057, u'sunset': 0, u'sunrise': 0}, [{u'main': u'Clear', u'id': 800, u'icon': u'02d', u'description': u'clear sky'}], 200, u'stations', 1531256533, {u'temp': 209.4, u'grnd_level': 637.81, u'temp_max': 209.4, u'sea_level': 1046.92, u'humidity': 0, u'pressure': 637.81, u'temp_min': 209.4}, 6255152, {u'speed': 4.13, u'deg': 30.5001}]\n",
      "[{u'all': 8}, u'Antarctica', {u'lat': -78.16, u'lon': 16.41}, {u'message': 0.0057, u'sunset': 0, u'sunrise': 0}, [{u'main': u'Clear', u'id': 800, u'icon': u'02d', u'description': u'clear sky'}], 200, u'stations', 1531256533, {u'temp': 209.4, u'grnd_level': 637.81, u'temp_max': 209.4, u'sea_level': 1046.92, u'humidity': 0, u'pressure': 637.81, u'temp_min': 209.4}, 6255152, {u'speed': 4.13, u'deg': 30.5001}]\n",
      "[{u'all': 8}, u'Antarctica', {u'lat': -78.16, u'lon': 16.41}, {u'message': 0.0057, u'sunset': 0, u'sunrise': 0}, [{u'main': u'Clear', u'id': 800, u'icon': u'02d', u'description': u'clear sky'}], 200, u'stations', 1531256533, {u'temp': 209.4, u'grnd_level': 637.81, u'temp_max': 209.4, u'sea_level': 1046.92, u'humidity': 0, u'pressure': 637.81, u'temp_min': 209.4}, 6255152, {u'speed': 4.13, u'deg': 30.5001}]\n",
      "[{u'all': 8}, u'Antarctica', {u'lat': -78.16, u'lon': 16.41}, {u'message': 0.0057, u'sunset': 0, u'sunrise': 0}, [{u'main': u'Clear', u'id': 800, u'icon': u'02d', u'description': u'clear sky'}], 200, u'stations', 1531256533, {u'temp': 209.4, u'grnd_level': 637.81, u'temp_max': 209.4, u'sea_level': 1046.92, u'humidity': 0, u'pressure': 637.81, u'temp_min': 209.4}, 6255152, {u'speed': 4.13, u'deg': 30.5001}]\n",
      "[{u'all': 8}, u'Antarctica', {u'lat': -78.16, u'lon': 16.41}, {u'message': 0.0057, u'sunset': 0, u'sunrise': 0}, [{u'main': u'Clear', u'id': 800, u'icon': u'02d', u'description': u'clear sky'}], 200, u'stations', 1531256533, {u'temp': 209.4, u'grnd_level': 637.81, u'temp_max': 209.4, u'sea_level': 1046.92, u'humidity': 0, u'pressure': 637.81, u'temp_min': 209.4}, 6255152, {u'speed': 4.13, u'deg': 30.5001}]\n",
      "[{u'all': 8}, u'Antarctica', {u'lat': -78.16, u'lon': 16.41}, {u'message': 0.0057, u'sunset': 0, u'sunrise': 0}, [{u'main': u'Clear', u'id': 800, u'icon': u'02d', u'description': u'clear sky'}], 200, u'stations', 1531256533, {u'temp': 209.4, u'grnd_level': 637.81, u'temp_max': 209.4, u'sea_level': 1046.92, u'humidity': 0, u'pressure': 637.81, u'temp_min': 209.4}, 6255152, {u'speed': 4.13, u'deg': 30.5001}]\n",
      "[{u'all': 8}, u'Antarctica', {u'lat': -78.16, u'lon': 16.41}, {u'message': 0.0057, u'sunset': 0, u'sunrise': 0}, [{u'main': u'Clear', u'id': 800, u'icon': u'02d', u'description': u'clear sky'}], 200, u'stations', 1531256533, {u'temp': 209.4, u'grnd_level': 637.81, u'temp_max': 209.4, u'sea_level': 1046.92, u'humidity': 0, u'pressure': 637.81, u'temp_min': 209.4}, 6255152, {u'speed': 4.13, u'deg': 30.5001}]\n",
      "[{u'all': 8}, u'Antarctica', {u'lat': -78.16, u'lon': 16.41}, {u'message': 0.0057, u'sunset': 0, u'sunrise': 0}, [{u'main': u'Clear', u'id': 800, u'icon': u'02d', u'description': u'clear sky'}], 200, u'stations', 1531256533, {u'temp': 209.4, u'grnd_level': 637.81, u'temp_max': 209.4, u'sea_level': 1046.92, u'humidity': 0, u'pressure': 637.81, u'temp_min': 209.4}, 6255152, {u'speed': 4.13, u'deg': 30.5001}]\n",
      "[{u'all': 8}, u'Antarctica', {u'lat': -78.16, u'lon': 16.41}, {u'message': 0.0057, u'sunset': 0, u'sunrise': 0}, [{u'main': u'Clear', u'id': 800, u'icon': u'02d', u'description': u'clear sky'}], 200, u'stations', 1531256533, {u'temp': 209.4, u'grnd_level': 637.81, u'temp_max': 209.4, u'sea_level': 1046.92, u'humidity': 0, u'pressure': 637.81, u'temp_min': 209.4}, 6255152, {u'speed': 4.13, u'deg': 30.5001}]\n"
     ]
    }
   ],
   "source": [
    "for key in obj5:\n",
    "    print obj5.values()"
   ]
  },
  {
   "cell_type": "code",
   "execution_count": 270,
   "metadata": {},
   "outputs": [
    {
     "name": "stdout",
     "output_type": "stream",
     "text": [
      "clouds\n",
      "name\n",
      "coord\n",
      "sys\n",
      "weather\n",
      "cod\n",
      "base\n",
      "dt\n",
      "main\n",
      "id\n",
      "wind\n"
     ]
    }
   ],
   "source": [
    "for key in obj5:\n",
    "    print key"
   ]
  },
  {
   "cell_type": "code",
   "execution_count": 293,
   "metadata": {},
   "outputs": [
    {
     "name": "stdout",
     "output_type": "stream",
     "text": [
      "0\n",
      "1\n",
      "2\n",
      "3\n",
      "4\n"
     ]
    }
   ],
   "source": [
    "obj=obj3\n",
    "for each in range(len(obj)):\n",
    "    print each\n",
    "    if(obj['list'][each]['main']['temp_min']<256.484):\n",
    "        print(\"AlERT! Temperature less than 2 degree Farenheit in \", obj['city']['name'], \" on \", obj['list'][each]['dt_txt'])\n",
    "    if (('snow' in obj['list'][each].keys()) and any(obj['list'][each]['snow'])):\n",
    "        print(\"It is snowing in \", obj['city']['name'], \" on \", obj['list'][each]['dt_txt'])\n",
    "    if (('rain' in obj['list'][each].keys()) and any(obj['list'][each]['rain'])):\n",
    "        print(\"It is Raining in \", obj['city']['name'], \" on \", obj['list'][each]['dt_txt'])"
   ]
  },
  {
   "cell_type": "code",
   "execution_count": 297,
   "metadata": {},
   "outputs": [
    {
     "data": {
      "text/plain": [
       "{u'clouds': {u'all': 0},\n",
       " u'dt': 1531288800,\n",
       " u'dt_txt': u'2018-07-11 06:00:00',\n",
       " u'main': {u'grnd_level': 922.63,\n",
       "  u'humidity': 57,\n",
       "  u'pressure': 922.63,\n",
       "  u'sea_level': 1035.56,\n",
       "  u'temp': 287.12,\n",
       "  u'temp_kf': 0.19,\n",
       "  u'temp_max': 287.12,\n",
       "  u'temp_min': 286.926},\n",
       " u'sys': {u'pod': u'n'},\n",
       " u'weather': [{u'description': u'clear sky',\n",
       "   u'icon': u'01n',\n",
       "   u'id': 800,\n",
       "   u'main': u'Clear'}],\n",
       " u'wind': {u'deg': 250.007, u'speed': 2.12}}"
      ]
     },
     "execution_count": 297,
     "metadata": {},
     "output_type": "execute_result"
    }
   ],
   "source": [
    "obj['list'][3]"
   ]
  },
  {
   "cell_type": "code",
   "execution_count": 302,
   "metadata": {},
   "outputs": [
    {
     "data": {
      "text/plain": [
       "'Antarctica'"
      ]
     },
     "execution_count": 302,
     "metadata": {},
     "output_type": "execute_result"
    }
   ],
   "source": [
    "str(obj5['name'])"
   ]
  },
  {
   "cell_type": "code",
   "execution_count": null,
   "metadata": {},
   "outputs": [],
   "source": []
  }
 ],
 "metadata": {
  "kernelspec": {
   "display_name": "Python 2",
   "language": "python",
   "name": "python2"
  },
  "language_info": {
   "codemirror_mode": {
    "name": "ipython",
    "version": 2
   },
   "file_extension": ".py",
   "mimetype": "text/x-python",
   "name": "python",
   "nbconvert_exporter": "python",
   "pygments_lexer": "ipython2",
   "version": "2.7.14"
  }
 },
 "nbformat": 4,
 "nbformat_minor": 2
}
