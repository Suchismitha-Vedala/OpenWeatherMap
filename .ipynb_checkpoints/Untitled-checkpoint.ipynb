{
 "cells": [
  {
   "cell_type": "code",
   "execution_count": 2,
   "metadata": {},
   "outputs": [],
   "source": [
    "import math,numpy as np,os,pandas as pd,time\n",
    "import config as cfg\n",
    "import threading, urllib, json,pymongo\n"
   ]
  },
  {
   "cell_type": "code",
   "execution_count": 3,
   "metadata": {},
   "outputs": [
    {
     "ename": "ConnectionFailure",
     "evalue": "could not connect to localhost:27017: [Errno 61] Connection refused",
     "output_type": "error",
     "traceback": [
      "\u001b[0;31m---------------------------------------------------------------------------\u001b[0m",
      "\u001b[0;31mConnectionFailure\u001b[0m                         Traceback (most recent call last)",
      "\u001b[0;32m<ipython-input-3-b8ea1b1447b3>\u001b[0m in \u001b[0;36m<module>\u001b[0;34m()\u001b[0m\n\u001b[1;32m      1\u001b[0m \u001b[0;32mfrom\u001b[0m \u001b[0mpymongo\u001b[0m \u001b[0;32mimport\u001b[0m \u001b[0mMongoClient\u001b[0m\u001b[0;34m\u001b[0m\u001b[0m\n\u001b[0;32m----> 2\u001b[0;31m \u001b[0mclient\u001b[0m \u001b[0;34m=\u001b[0m \u001b[0mMongoClient\u001b[0m\u001b[0;34m(\u001b[0m\u001b[0;34m)\u001b[0m\u001b[0;34m\u001b[0m\u001b[0m\n\u001b[0m",
      "\u001b[0;32m/usr/local/lib/python2.7/site-packages/pymongo/mongo_client.pyc\u001b[0m in \u001b[0;36m__init__\u001b[0;34m(self, host, port, max_pool_size, document_class, tz_aware, _connect, **kwargs)\u001b[0m\n\u001b[1;32m    350\u001b[0m             \u001b[0;32mexcept\u001b[0m \u001b[0mAutoReconnect\u001b[0m\u001b[0;34m,\u001b[0m \u001b[0me\u001b[0m\u001b[0;34m:\u001b[0m\u001b[0;34m\u001b[0m\u001b[0m\n\u001b[1;32m    351\u001b[0m                 \u001b[0;31m# ConnectionFailure makes more sense here than AutoReconnect\u001b[0m\u001b[0;34m\u001b[0m\u001b[0;34m\u001b[0m\u001b[0m\n\u001b[0;32m--> 352\u001b[0;31m                 \u001b[0;32mraise\u001b[0m \u001b[0mConnectionFailure\u001b[0m\u001b[0;34m(\u001b[0m\u001b[0mstr\u001b[0m\u001b[0;34m(\u001b[0m\u001b[0me\u001b[0m\u001b[0;34m)\u001b[0m\u001b[0;34m)\u001b[0m\u001b[0;34m\u001b[0m\u001b[0m\n\u001b[0m\u001b[1;32m    353\u001b[0m \u001b[0;34m\u001b[0m\u001b[0m\n\u001b[1;32m    354\u001b[0m         \u001b[0;32mif\u001b[0m \u001b[0musername\u001b[0m\u001b[0;34m:\u001b[0m\u001b[0;34m\u001b[0m\u001b[0m\n",
      "\u001b[0;31mConnectionFailure\u001b[0m: could not connect to localhost:27017: [Errno 61] Connection refused"
     ]
    }
   ],
   "source": [
    "from pymongo import MongoClient\n",
    "client = MongoClient()"
   ]
  },
  {
   "cell_type": "code",
   "execution_count": null,
   "metadata": {},
   "outputs": [],
   "source": []
  },
  {
   "cell_type": "code",
   "execution_count": null,
   "metadata": {},
   "outputs": [],
   "source": []
  },
  {
   "cell_type": "code",
   "execution_count": null,
   "metadata": {},
   "outputs": [],
   "source": []
  },
  {
   "cell_type": "code",
   "execution_count": 2,
   "metadata": {},
   "outputs": [],
   "source": [
    "df=pd.read_json('city.list.json')\n"
   ]
  },
  {
   "cell_type": "code",
   "execution_count": 3,
   "metadata": {},
   "outputs": [],
   "source": [
    "api_key=\"b9428de8e646a42987eee11eced64b1b\"\n",
    "https://samples.openweathermap.org/data/2.5/forecast?id=1269843&appid=b9428de8e646a42987eee11eced64b1b\n"
   ]
  },
  {
   "cell_type": "code",
   "execution_count": 4,
   "metadata": {},
   "outputs": [
    {
     "data": {
      "text/html": [
       "<div>\n",
       "<style scoped>\n",
       "    .dataframe tbody tr th:only-of-type {\n",
       "        vertical-align: middle;\n",
       "    }\n",
       "\n",
       "    .dataframe tbody tr th {\n",
       "        vertical-align: top;\n",
       "    }\n",
       "\n",
       "    .dataframe thead th {\n",
       "        text-align: right;\n",
       "    }\n",
       "</style>\n",
       "<table border=\"1\" class=\"dataframe\">\n",
       "  <thead>\n",
       "    <tr style=\"text-align: right;\">\n",
       "      <th></th>\n",
       "      <th>coord</th>\n",
       "      <th>country</th>\n",
       "      <th>id</th>\n",
       "      <th>name</th>\n",
       "    </tr>\n",
       "  </thead>\n",
       "  <tbody>\n",
       "    <tr>\n",
       "      <th>0</th>\n",
       "      <td>{u'lat': 44.549999, u'lon': 34.283333}</td>\n",
       "      <td>UA</td>\n",
       "      <td>707860</td>\n",
       "      <td>Hurzuf</td>\n",
       "    </tr>\n",
       "    <tr>\n",
       "      <th>1</th>\n",
       "      <td>{u'lat': 55.683334, u'lon': 37.666668}</td>\n",
       "      <td>RU</td>\n",
       "      <td>519188</td>\n",
       "      <td>Novinki</td>\n",
       "    </tr>\n",
       "  </tbody>\n",
       "</table>\n",
       "</div>"
      ],
      "text/plain": [
       "                                    coord country      id     name\n",
       "0  {u'lat': 44.549999, u'lon': 34.283333}      UA  707860   Hurzuf\n",
       "1  {u'lat': 55.683334, u'lon': 37.666668}      RU  519188  Novinki"
      ]
     },
     "execution_count": 4,
     "metadata": {},
     "output_type": "execute_result"
    }
   ],
   "source": [
    "df.head(2)"
   ]
  },
  {
   "cell_type": "code",
   "execution_count": 6,
   "metadata": {},
   "outputs": [],
   "source": [
    "def get_id():\n",
    "    #city=raw_input('Enter city name')\n",
    "    city='Hyderabad'\n",
    "    if df['name'].str.contains(city).any():\n",
    "        df.set_index(\"name\",inplace=True)\n",
    "        if(len(df.loc[city])>1):\n",
    "            countries=df.loc[city]['country']\n",
    "            print('More than 1 city exists', countries)\n",
    "            \n",
    "            if(len(countries) != len(set(countries))):\n",
    "                print('City has more than 1 location in a country')\n",
    "                #id=raw_input(' Please enter city id')\n",
    "            else:\n",
    "                #country_name=raw_input(' Please enter country name')\n",
    "                country_name=\"IN\"\n",
    "                id=df.loc['Hyderabad'][df.loc[city]['country'].str.contains(country_name)]['id'][0]\n",
    "        else:\n",
    "            id=df.loc[city]['id']\n",
    "        \n",
    "    else:\n",
    "        print (\"City name is not present\")\n",
    "        get_id()\n",
    "\n",
    "    \n",
    "    print id\n",
    "    return id\n",
    "            \n",
    "        "
   ]
  },
  {
   "cell_type": "code",
   "execution_count": null,
   "metadata": {},
   "outputs": [],
   "source": [
    "def get_5day():\n",
    "    id = get_id()\n",
    "    url='http://api.openweathermap.org/data/2.5/forecast/city?id='+id+'&APPID='+api_key \n",
    "    response = urlopen(url).read().decode('utf-8')\n",
    "    obj = json.loads(response)\n"
   ]
  },
  {
   "cell_type": "code",
   "execution_count": 7,
   "metadata": {},
   "outputs": [
    {
     "name": "stdout",
     "output_type": "stream",
     "text": [
      "('More than 1 city exists', name\n",
      "Hyderabad    IN\n",
      "Hyderabad    PK\n",
      "Name: country, dtype: object)\n",
      "1269843\n"
     ]
    }
   ],
   "source": [
    "id = str(get_id())\n",
    "\n"
   ]
  },
  {
   "cell_type": "code",
   "execution_count": 17,
   "metadata": {},
   "outputs": [],
   "source": [
    "id2=str(1269843)"
   ]
  },
  {
   "cell_type": "code",
   "execution_count": 18,
   "metadata": {},
   "outputs": [],
   "source": [
    "url='http://api.openweathermap.org/data/2.5/forecast?id='+id2+'&APPID='+api_key \n",
    "response = urlopen(url).read().decode('utf-8')\n"
   ]
  },
  {
   "cell_type": "code",
   "execution_count": 19,
   "metadata": {},
   "outputs": [],
   "source": [
    "obj = json.loads(response)"
   ]
  },
  {
   "cell_type": "code",
   "execution_count": 20,
   "metadata": {},
   "outputs": [
    {
     "name": "stdout",
     "output_type": "stream",
     "text": [
      "{u'city': {u'country': u'IN', u'id': 1269843, u'coord': {u'lat': 17.3753, u'lon': 78.4744}, u'name': u'Hyderabad'}, u'message': 0.0035, u'list': [{u'clouds': {u'all': 92}, u'rain': {u'3h': 0.050000000000001}, u'sys': {u'pod': u'd'}, u'dt_txt': u'2018-07-10 06:00:00', u'weather': [{u'main': u'Rain', u'id': 500, u'icon': u'10d', u'description': u'light rain'}], u'dt': 1531202400, u'main': {u'temp_kf': 1.39, u'temp': 299.5, u'grnd_level': 956.77, u'temp_max': 299.5, u'sea_level': 1014.89, u'humidity': 86, u'pressure': 956.77, u'temp_min': 298.111}, u'wind': {u'speed': 8.17, u'deg': 271}}, {u'clouds': {u'all': 92}, u'rain': {u'3h': 0.025}, u'sys': {u'pod': u'd'}, u'dt_txt': u'2018-07-10 09:00:00', u'weather': [{u'main': u'Rain', u'id': 500, u'icon': u'10d', u'description': u'light rain'}], u'dt': 1531213200, u'main': {u'temp_kf': 1.04, u'temp': 299.96, u'grnd_level': 955.9, u'temp_max': 299.96, u'sea_level': 1013.98, u'humidity': 82, u'pressure': 955.9, u'temp_min': 298.923}, u'wind': {u'speed': 7.52, u'deg': 274.001}}, {u'clouds': {u'all': 92}, u'rain': {}, u'sys': {u'pod': u'd'}, u'dt_txt': u'2018-07-10 12:00:00', u'weather': [{u'main': u'Clouds', u'id': 804, u'icon': u'04d', u'description': u'overcast clouds'}], u'dt': 1531224000, u'main': {u'temp_kf': 0.69, u'temp': 299.06, u'grnd_level': 955.4, u'temp_max': 299.06, u'sea_level': 1013.49, u'humidity': 81, u'pressure': 955.4, u'temp_min': 298.367}, u'wind': {u'speed': 6.22, u'deg': 263.501}}, {u'clouds': {u'all': 92}, u'rain': {u'3h': 0.81}, u'sys': {u'pod': u'n'}, u'dt_txt': u'2018-07-10 15:00:00', u'weather': [{u'main': u'Rain', u'id': 500, u'icon': u'10n', u'description': u'light rain'}], u'dt': 1531234800, u'main': {u'temp_kf': 0.35, u'temp': 296.48, u'grnd_level': 957.48, u'temp_max': 296.48, u'sea_level': 1015.63, u'humidity': 96, u'pressure': 957.48, u'temp_min': 296.133}, u'wind': {u'speed': 5.11, u'deg': 262.009}}, {u'clouds': {u'all': 92}, u'rain': {u'3h': 0.039999999999999}, u'sys': {u'pod': u'n'}, u'dt_txt': u'2018-07-10 18:00:00', u'weather': [{u'main': u'Rain', u'id': 500, u'icon': u'10n', u'description': u'light rain'}], u'dt': 1531245600, u'main': {u'temp_kf': 0, u'temp': 295.913, u'grnd_level': 957.56, u'temp_max': 295.913, u'sea_level': 1015.9, u'humidity': 95, u'pressure': 957.56, u'temp_min': 295.913}, u'wind': {u'speed': 6.11, u'deg': 258.001}}, {u'clouds': {u'all': 76}, u'rain': {}, u'sys': {u'pod': u'n'}, u'dt_txt': u'2018-07-10 21:00:00', u'weather': [{u'main': u'Clouds', u'id': 803, u'icon': u'04n', u'description': u'broken clouds'}], u'dt': 1531256400, u'main': {u'temp_kf': 0, u'temp': 295.618, u'grnd_level': 956.13, u'temp_max': 295.618, u'sea_level': 1014.53, u'humidity': 93, u'pressure': 956.13, u'temp_min': 295.618}, u'wind': {u'speed': 6.71, u'deg': 253.503}}, {u'clouds': {u'all': 80}, u'rain': {u'3h': 0.010000000000002}, u'sys': {u'pod': u'n'}, u'dt_txt': u'2018-07-11 00:00:00', u'weather': [{u'main': u'Rain', u'id': 500, u'icon': u'10n', u'description': u'light rain'}], u'dt': 1531267200, u'main': {u'temp_kf': 0, u'temp': 295.694, u'grnd_level': 956.06, u'temp_max': 295.694, u'sea_level': 1014.31, u'humidity': 93, u'pressure': 956.06, u'temp_min': 295.694}, u'wind': {u'speed': 6.81, u'deg': 257.003}}, {u'clouds': {u'all': 56}, u'rain': {u'3h': 0.010000000000002}, u'sys': {u'pod': u'd'}, u'dt_txt': u'2018-07-11 03:00:00', u'weather': [{u'main': u'Rain', u'id': 500, u'icon': u'10d', u'description': u'light rain'}], u'dt': 1531278000, u'main': {u'temp_kf': 0, u'temp': 297.508, u'grnd_level': 956.75, u'temp_max': 297.508, u'sea_level': 1014.88, u'humidity': 87, u'pressure': 956.75, u'temp_min': 297.508}, u'wind': {u'speed': 8.17, u'deg': 258.001}}, {u'clouds': {u'all': 80}, u'rain': {}, u'sys': {u'pod': u'd'}, u'dt_txt': u'2018-07-11 06:00:00', u'weather': [{u'main': u'Clouds', u'id': 803, u'icon': u'04d', u'description': u'broken clouds'}], u'dt': 1531288800, u'main': {u'temp_kf': 0, u'temp': 299.91, u'grnd_level': 957.06, u'temp_max': 299.91, u'sea_level': 1015.02, u'humidity': 78, u'pressure': 957.06, u'temp_min': 299.91}, u'wind': {u'speed': 8.91, u'deg': 258.001}}, {u'clouds': {u'all': 88}, u'rain': {u'3h': 0.029999999999998}, u'sys': {u'pod': u'd'}, u'dt_txt': u'2018-07-11 09:00:00', u'weather': [{u'main': u'Rain', u'id': 500, u'icon': u'10d', u'description': u'light rain'}], u'dt': 1531299600, u'main': {u'temp_kf': 0, u'temp': 300.673, u'grnd_level': 956.03, u'temp_max': 300.673, u'sea_level': 1013.96, u'humidity': 70, u'pressure': 956.03, u'temp_min': 300.673}, u'wind': {u'speed': 9.08, u'deg': 272.506}}, {u'clouds': {u'all': 92}, u'rain': {u'3h': 0.56}, u'sys': {u'pod': u'd'}, u'dt_txt': u'2018-07-11 12:00:00', u'weather': [{u'main': u'Rain', u'id': 500, u'icon': u'10d', u'description': u'light rain'}], u'dt': 1531310400, u'main': {u'temp_kf': 0, u'temp': 297.388, u'grnd_level': 955.67, u'temp_max': 297.388, u'sea_level': 1013.82, u'humidity': 85, u'pressure': 955.67, u'temp_min': 297.388}, u'wind': {u'speed': 8.41, u'deg': 267.004}}, {u'clouds': {u'all': 92}, u'rain': {u'3h': 0.49}, u'sys': {u'pod': u'n'}, u'dt_txt': u'2018-07-11 15:00:00', u'weather': [{u'main': u'Rain', u'id': 500, u'icon': u'10n', u'description': u'light rain'}], u'dt': 1531321200, u'main': {u'temp_kf': 0, u'temp': 296.07, u'grnd_level': 957.19, u'temp_max': 296.07, u'sea_level': 1015.62, u'humidity': 90, u'pressure': 957.19, u'temp_min': 296.07}, u'wind': {u'speed': 8.41, u'deg': 264.501}}, {u'clouds': {u'all': 92}, u'rain': {u'3h': 0.6}, u'sys': {u'pod': u'n'}, u'dt_txt': u'2018-07-11 18:00:00', u'weather': [{u'main': u'Rain', u'id': 500, u'icon': u'10n', u'description': u'light rain'}], u'dt': 1531332000, u'main': {u'temp_kf': 0, u'temp': 295.783, u'grnd_level': 957.6, u'temp_max': 295.783, u'sea_level': 1016.03, u'humidity': 90, u'pressure': 957.6, u'temp_min': 295.783}, u'wind': {u'speed': 7.72, u'deg': 263.008}}, {u'clouds': {u'all': 100}, u'rain': {u'3h': 1.99}, u'sys': {u'pod': u'n'}, u'dt_txt': u'2018-07-11 21:00:00', u'weather': [{u'main': u'Rain', u'id': 500, u'icon': u'10n', u'description': u'light rain'}], u'dt': 1531342800, u'main': {u'temp_kf': 0, u'temp': 295.127, u'grnd_level': 956.31, u'temp_max': 295.127, u'sea_level': 1014.77, u'humidity': 95, u'pressure': 956.31, u'temp_min': 295.127}, u'wind': {u'speed': 7.16, u'deg': 268.5}}, {u'clouds': {u'all': 92}, u'rain': {u'3h': 0.94}, u'sys': {u'pod': u'n'}, u'dt_txt': u'2018-07-12 00:00:00', u'weather': [{u'main': u'Rain', u'id': 500, u'icon': u'10n', u'description': u'light rain'}], u'dt': 1531353600, u'main': {u'temp_kf': 0, u'temp': 295.306, u'grnd_level': 956.15, u'temp_max': 295.306, u'sea_level': 1014.42, u'humidity': 95, u'pressure': 956.15, u'temp_min': 295.306}, u'wind': {u'speed': 7.17, u'deg': 262.002}}, {u'clouds': {u'all': 92}, u'rain': {u'3h': 0.68}, u'sys': {u'pod': u'd'}, u'dt_txt': u'2018-07-12 03:00:00', u'weather': [{u'main': u'Rain', u'id': 500, u'icon': u'10d', u'description': u'light rain'}], u'dt': 1531364400, u'main': {u'temp_kf': 0, u'temp': 296.317, u'grnd_level': 957.29, u'temp_max': 296.317, u'sea_level': 1015.65, u'humidity': 94, u'pressure': 957.29, u'temp_min': 296.317}, u'wind': {u'speed': 7.62, u'deg': 261.009}}, {u'clouds': {u'all': 92}, u'rain': {u'3h': 0.93}, u'sys': {u'pod': u'd'}, u'dt_txt': u'2018-07-12 06:00:00', u'weather': [{u'main': u'Rain', u'id': 500, u'icon': u'10d', u'description': u'light rain'}], u'dt': 1531375200, u'main': {u'temp_kf': 0, u'temp': 297.254, u'grnd_level': 957.46, u'temp_max': 297.254, u'sea_level': 1015.78, u'humidity': 91, u'pressure': 957.46, u'temp_min': 297.254}, u'wind': {u'speed': 8.51, u'deg': 267.003}}, {u'clouds': {u'all': 100}, u'rain': {u'3h': 0.15}, u'sys': {u'pod': u'd'}, u'dt_txt': u'2018-07-12 09:00:00', u'weather': [{u'main': u'Rain', u'id': 500, u'icon': u'10d', u'description': u'light rain'}], u'dt': 1531386000, u'main': {u'temp_kf': 0, u'temp': 298.407, u'grnd_level': 956.3, u'temp_max': 298.407, u'sea_level': 1014.26, u'humidity': 82, u'pressure': 956.3, u'temp_min': 298.407}, u'wind': {u'speed': 8.26, u'deg': 267.005}}, {u'clouds': {u'all': 92}, u'rain': {u'3h': 0.22}, u'sys': {u'pod': u'd'}, u'dt_txt': u'2018-07-12 12:00:00', u'weather': [{u'main': u'Rain', u'id': 500, u'icon': u'10d', u'description': u'light rain'}], u'dt': 1531396800, u'main': {u'temp_kf': 0, u'temp': 298.394, u'grnd_level': 955.54, u'temp_max': 298.394, u'sea_level': 1013.49, u'humidity': 82, u'pressure': 955.54, u'temp_min': 298.394}, u'wind': {u'speed': 7.61, u'deg': 264.501}}, {u'clouds': {u'all': 92}, u'rain': {u'3h': 0.02}, u'sys': {u'pod': u'n'}, u'dt_txt': u'2018-07-12 15:00:00', u'weather': [{u'main': u'Rain', u'id': 500, u'icon': u'10n', u'description': u'light rain'}], u'dt': 1531407600, u'main': {u'temp_kf': 0, u'temp': 297.54, u'grnd_level': 956.92, u'temp_max': 297.54, u'sea_level': 1015.14, u'humidity': 82, u'pressure': 956.92, u'temp_min': 297.54}, u'wind': {u'speed': 7.82, u'deg': 261.501}}, {u'clouds': {u'all': 76}, u'rain': {}, u'sys': {u'pod': u'n'}, u'dt_txt': u'2018-07-12 18:00:00', u'weather': [{u'main': u'Clouds', u'id': 803, u'icon': u'04n', u'description': u'broken clouds'}], u'dt': 1531418400, u'main': {u'temp_kf': 0, u'temp': 297.288, u'grnd_level': 957.21, u'temp_max': 297.288, u'sea_level': 1015.52, u'humidity': 83, u'pressure': 957.21, u'temp_min': 297.288}, u'wind': {u'speed': 8.03, u'deg': 263.502}}, {u'clouds': {u'all': 92}, u'rain': {u'3h': 0.079999999999998}, u'sys': {u'pod': u'n'}, u'dt_txt': u'2018-07-12 21:00:00', u'weather': [{u'main': u'Rain', u'id': 500, u'icon': u'10n', u'description': u'light rain'}], u'dt': 1531429200, u'main': {u'temp_kf': 0, u'temp': 296.561, u'grnd_level': 956.13, u'temp_max': 296.561, u'sea_level': 1014.31, u'humidity': 85, u'pressure': 956.13, u'temp_min': 296.561}, u'wind': {u'speed': 8.4, u'deg': 266.501}}, {u'clouds': {u'all': 76}, u'rain': {}, u'sys': {u'pod': u'n'}, u'dt_txt': u'2018-07-13 00:00:00', u'weather': [{u'main': u'Clouds', u'id': 803, u'icon': u'04n', u'description': u'broken clouds'}], u'dt': 1531440000, u'main': {u'temp_kf': 0, u'temp': 296.805, u'grnd_level': 955.75, u'temp_max': 296.805, u'sea_level': 1013.99, u'humidity': 83, u'pressure': 955.75, u'temp_min': 296.805}, u'wind': {u'speed': 8.51, u'deg': 266.003}}, {u'clouds': {u'all': 80}, u'rain': {u'3h': 0.010000000000002}, u'sys': {u'pod': u'd'}, u'dt_txt': u'2018-07-13 03:00:00', u'weather': [{u'main': u'Rain', u'id': 500, u'icon': u'10d', u'description': u'light rain'}], u'dt': 1531450800, u'main': {u'temp_kf': 0, u'temp': 298.331, u'grnd_level': 956.93, u'temp_max': 298.331, u'sea_level': 1015.11, u'humidity': 79, u'pressure': 956.93, u'temp_min': 298.331}, u'wind': {u'speed': 8.51, u'deg': 266.502}}, {u'clouds': {u'all': 20}, u'rain': {u'3h': 0.050000000000001}, u'sys': {u'pod': u'd'}, u'dt_txt': u'2018-07-13 06:00:00', u'weather': [{u'main': u'Rain', u'id': 500, u'icon': u'10d', u'description': u'light rain'}], u'dt': 1531461600, u'main': {u'temp_kf': 0, u'temp': 301.214, u'grnd_level': 956.64, u'temp_max': 301.214, u'sea_level': 1014.8, u'humidity': 71, u'pressure': 956.64, u'temp_min': 301.214}, u'wind': {u'speed': 8.99, u'deg': 267.51}}, {u'clouds': {u'all': 32}, u'rain': {}, u'sys': {u'pod': u'd'}, u'dt_txt': u'2018-07-13 09:00:00', u'weather': [{u'main': u'Clouds', u'id': 802, u'icon': u'03d', u'description': u'scattered clouds'}], u'dt': 1531472400, u'main': {u'temp_kf': 0, u'temp': 303.203, u'grnd_level': 955.06, u'temp_max': 303.203, u'sea_level': 1012.93, u'humidity': 63, u'pressure': 955.06, u'temp_min': 303.203}, u'wind': {u'speed': 8.88, u'deg': 270.002}}, {u'clouds': {u'all': 80}, u'rain': {u'3h': 0.09}, u'sys': {u'pod': u'd'}, u'dt_txt': u'2018-07-13 12:00:00', u'weather': [{u'main': u'Rain', u'id': 500, u'icon': u'10d', u'description': u'light rain'}], u'dt': 1531483200, u'main': {u'temp_kf': 0, u'temp': 300.553, u'grnd_level': 955.08, u'temp_max': 300.553, u'sea_level': 1012.97, u'humidity': 70, u'pressure': 955.08, u'temp_min': 300.553}, u'wind': {u'speed': 7.31, u'deg': 275.001}}, {u'clouds': {u'all': 68}, u'rain': {u'3h': 0.2}, u'sys': {u'pod': u'n'}, u'dt_txt': u'2018-07-13 15:00:00', u'weather': [{u'main': u'Rain', u'id': 500, u'icon': u'10n', u'description': u'light rain'}], u'dt': 1531494000, u'main': {u'temp_kf': 0, u'temp': 298.145, u'grnd_level': 956.75, u'temp_max': 298.145, u'sea_level': 1015.04, u'humidity': 80, u'pressure': 956.75, u'temp_min': 298.145}, u'wind': {u'speed': 6.36, u'deg': 267}}, {u'clouds': {u'all': 92}, u'rain': {u'3h': 0.9}, u'sys': {u'pod': u'n'}, u'dt_txt': u'2018-07-13 18:00:00', u'weather': [{u'main': u'Rain', u'id': 500, u'icon': u'10n', u'description': u'light rain'}], u'dt': 1531504800, u'main': {u'temp_kf': 0, u'temp': 296.422, u'grnd_level': 957.15, u'temp_max': 296.422, u'sea_level': 1015.37, u'humidity': 93, u'pressure': 957.15, u'temp_min': 296.422}, u'wind': {u'speed': 6.71, u'deg': 261.002}}, {u'clouds': {u'all': 92}, u'rain': {u'3h': 0.9}, u'sys': {u'pod': u'n'}, u'dt_txt': u'2018-07-13 21:00:00', u'weather': [{u'main': u'Rain', u'id': 500, u'icon': u'10n', u'description': u'light rain'}], u'dt': 1531515600, u'main': {u'temp_kf': 0, u'temp': 295.841, u'grnd_level': 955.39, u'temp_max': 295.841, u'sea_level': 1013.72, u'humidity': 94, u'pressure': 955.39, u'temp_min': 295.841}, u'wind': {u'speed': 7.06, u'deg': 258.501}}, {u'clouds': {u'all': 88}, u'rain': {u'3h': 0.09}, u'sys': {u'pod': u'n'}, u'dt_txt': u'2018-07-14 00:00:00', u'weather': [{u'main': u'Rain', u'id': 500, u'icon': u'10n', u'description': u'light rain'}], u'dt': 1531526400, u'main': {u'temp_kf': 0, u'temp': 295.933, u'grnd_level': 955.35, u'temp_max': 295.933, u'sea_level': 1013.61, u'humidity': 92, u'pressure': 955.35, u'temp_min': 295.933}, u'wind': {u'speed': 6.46, u'deg': 267.5}}, {u'clouds': {u'all': 64}, u'rain': {u'3h': 0.02}, u'sys': {u'pod': u'd'}, u'dt_txt': u'2018-07-14 03:00:00', u'weather': [{u'main': u'Rain', u'id': 500, u'icon': u'10d', u'description': u'light rain'}], u'dt': 1531537200, u'main': {u'temp_kf': 0, u'temp': 298.368, u'grnd_level': 956.31, u'temp_max': 298.368, u'sea_level': 1014.55, u'humidity': 80, u'pressure': 956.31, u'temp_min': 298.368}, u'wind': {u'speed': 7.97, u'deg': 266.504}}, {u'clouds': {u'all': 36}, u'rain': {}, u'sys': {u'pod': u'd'}, u'dt_txt': u'2018-07-14 06:00:00', u'weather': [{u'main': u'Clouds', u'id': 802, u'icon': u'03d', u'description': u'scattered clouds'}], u'dt': 1531548000, u'main': {u'temp_kf': 0, u'temp': 302.418, u'grnd_level': 956.16, u'temp_max': 302.418, u'sea_level': 1014.04, u'humidity': 67, u'pressure': 956.16, u'temp_min': 302.418}, u'wind': {u'speed': 8.86, u'deg': 270.008}}, {u'clouds': {u'all': 32}, u'rain': {}, u'sys': {u'pod': u'd'}, u'dt_txt': u'2018-07-14 09:00:00', u'weather': [{u'main': u'Clouds', u'id': 802, u'icon': u'03d', u'description': u'scattered clouds'}], u'dt': 1531558800, u'main': {u'temp_kf': 0, u'temp': 303.585, u'grnd_level': 954.34, u'temp_max': 303.585, u'sea_level': 1012.06, u'humidity': 61, u'pressure': 954.34, u'temp_min': 303.585}, u'wind': {u'speed': 8.37, u'deg': 271.001}}, {u'clouds': {u'all': 68}, u'rain': {u'3h': 0.26}, u'sys': {u'pod': u'd'}, u'dt_txt': u'2018-07-14 12:00:00', u'weather': [{u'main': u'Rain', u'id': 500, u'icon': u'10d', u'description': u'light rain'}], u'dt': 1531569600, u'main': {u'temp_kf': 0, u'temp': 300.923, u'grnd_level': 953.87, u'temp_max': 300.923, u'sea_level': 1011.83, u'humidity': 68, u'pressure': 953.87, u'temp_min': 300.923}, u'wind': {u'speed': 8.11, u'deg': 267.001}}, {u'clouds': {u'all': 80}, u'rain': {u'3h': 0.1175}, u'sys': {u'pod': u'n'}, u'dt_txt': u'2018-07-14 15:00:00', u'weather': [{u'main': u'Rain', u'id': 500, u'icon': u'10n', u'description': u'light rain'}], u'dt': 1531580400, u'main': {u'temp_kf': 0, u'temp': 298.435, u'grnd_level': 955.95, u'temp_max': 298.435, u'sea_level': 1014.05, u'humidity': 82, u'pressure': 955.95, u'temp_min': 298.435}, u'wind': {u'speed': 6.55, u'deg': 262.018}}, {u'clouds': {u'all': 76}, u'rain': {u'3h': 0.75}, u'sys': {u'pod': u'n'}, u'dt_txt': u'2018-07-14 18:00:00', u'weather': [{u'main': u'Rain', u'id': 500, u'icon': u'10n', u'description': u'light rain'}], u'dt': 1531591200, u'main': {u'temp_kf': 0, u'temp': 296.205, u'grnd_level': 956.44, u'temp_max': 296.205, u'sea_level': 1014.65, u'humidity': 94, u'pressure': 956.44, u'temp_min': 296.205}, u'wind': {u'speed': 7.26, u'deg': 259.001}}, {u'clouds': {u'all': 48}, u'rain': {u'3h': 0.1}, u'sys': {u'pod': u'n'}, u'dt_txt': u'2018-07-14 21:00:00', u'weather': [{u'main': u'Rain', u'id': 500, u'icon': u'10n', u'description': u'light rain'}], u'dt': 1531602000, u'main': {u'temp_kf': 0, u'temp': 296.089, u'grnd_level': 954.64, u'temp_max': 296.089, u'sea_level': 1012.77, u'humidity': 92, u'pressure': 954.64, u'temp_min': 296.089}, u'wind': {u'speed': 7.66, u'deg': 259.503}}], u'cod': u'200', u'cnt': 38}\n"
     ]
    }
   ],
   "source": [
    "print obj"
   ]
  },
  {
   "cell_type": "code",
   "execution_count": null,
   "metadata": {},
   "outputs": [],
   "source": [
    "df"
   ]
  },
  {
   "cell_type": "code",
   "execution_count": null,
   "metadata": {},
   "outputs": [],
   "source": []
  }
 ],
 "metadata": {
  "kernelspec": {
   "display_name": "Python 2",
   "language": "python",
   "name": "python2"
  },
  "language_info": {
   "codemirror_mode": {
    "name": "ipython",
    "version": 2
   },
   "file_extension": ".py",
   "mimetype": "text/x-python",
   "name": "python",
   "nbconvert_exporter": "python",
   "pygments_lexer": "ipython2",
   "version": "2.7.14"
  }
 },
 "nbformat": 4,
 "nbformat_minor": 2
}
